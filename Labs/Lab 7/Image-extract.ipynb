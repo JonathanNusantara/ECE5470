{
 "cells": [
  {
   "cell_type": "code",
   "execution_count": null,
   "metadata": {},
   "outputs": [],
   "source": [
    "# First set\n",
    "\n",
    "import numpy as np\n",
    "from PIL import Image\n",
    "import os\n",
    "\n",
    "tempcount = 0\n",
    "for filename in os.listdir(os.curdir):\n",
    "    if filename.endswith(\".jpg\"):        \n",
    "        # Convert to binary image by converting to grayscale and threshold\n",
    "        original_image = np.array(Image.open(filename).convert('L'))\n",
    "        thresh = 80\n",
    "        original_image_array = (original_image < thresh) * 255 # Inverse the value of 255 and 0\n",
    "\n",
    "\n",
    "        # Bounding box\n",
    "        x,y = np.where(original_image_array) # Get list of x and y values > 0\n",
    "        x_max, x_min, y_max, y_min = x.max(), x.min(), y.max(), y.min()\n",
    "        clipped_image = original_image_array[x_min:x_max,y_min:y_max]\n",
    "        Image.fromarray(np.uint8(clipped_image)).save('temp-clip.jpg')\n",
    "\n",
    "\n",
    "        # Resize and interpolate to 20 x 20\n",
    "        clipped_image = Image.open('temp-clip.jpg')\n",
    "\n",
    "        # Resize along with aspect ratio and use bicubic interpolation\n",
    "        im_thumbnail = clipped_image.thumbnail((20, 20),Image.BICUBIC)\n",
    "        width, height= clipped_image.size[0], clipped_image.size[1]\n",
    "        padded_image = Image.new(\"L\", (20, 20))\n",
    "        offset_x = (20 - width) // 2\n",
    "        offset_y = (20 - height) // 2\n",
    "        padded_image.paste(clipped_image, (offset_x, offset_y))\n",
    "\n",
    "\n",
    "        # Find Center of Mass\n",
    "        m00 = np.count_nonzero(padded_image)\n",
    "        padded_image_array = np.array(padded_image)\n",
    "\n",
    "        m10 = 0 # x\n",
    "        m01 = 0 # y\n",
    "        for i in range(20):\n",
    "            for j in range(20):\n",
    "                if padded_image_array[i][j] > 0:\n",
    "                    m10 += j\n",
    "                    m01 += i\n",
    "\n",
    "        com_x, com_y = m10//m00, m01//m00\n",
    "\n",
    "\n",
    "        # Translate to 28x28 image using Center of Mass\n",
    "        final_image = Image.new(\"L\", (28, 28))\n",
    "        final_image.paste(padded_image, (13-com_y, 13-com_x)) # the middle is index 13.5\n",
    "        name, ext = os.path.splitext(filename)\n",
    "        path = os.path.join(os.getcwd(), \"idata/\")\n",
    "        Image.fromarray(np.uint8(final_image)).save(path + name + \".png\")\n",
    "        #display(final_image)"
   ]
  },
  {
   "cell_type": "code",
   "execution_count": 341,
   "metadata": {},
   "outputs": [],
   "source": [
    "# Second set\n",
    "\n",
    "import numpy as np\n",
    "from PIL import Image\n",
    "import os\n",
    "from skimage.morphology import dilation, disk\n",
    "\n",
    "tempcount = 0\n",
    "for filename in os.listdir(os.curdir):\n",
    "    if filename.endswith(\".jpg\"):\n",
    "        \n",
    "        # Convert to binary image by converting to grayscale and threshold\n",
    "        original_image = np.array(Image.open(filename).convert('L'))\n",
    "        thresh = 80\n",
    "        original_image_array = (original_image < thresh) * 255 # Inverse the value of 255 and 0\n",
    "\n",
    "\n",
    "        # Bounding box\n",
    "        x,y = np.where(original_image_array) # Get list of x and y values > 0\n",
    "        x_max, x_min, y_max, y_min = x.max(), x.min(), y.max(), y.min()\n",
    "        clipped_image = original_image_array[x_min:x_max,y_min:y_max]\n",
    "        \n",
    "        # Morphology using Dilation\n",
    "        selem = disk(4)\n",
    "        dilated = dilation(clipped_image, selem)\n",
    "        Image.fromarray(np.uint8(dilated)).save('temp-clip.jpg')\n",
    "\n",
    "        # Resize and interpolate to 20 x 20\n",
    "        clipped_image = Image.open('temp-clip.jpg')\n",
    "\n",
    "        # Resize along with aspect ratio and use bicubic interpolation\n",
    "        im_thumbnail = clipped_image.thumbnail((20, 20),Image.BICUBIC)\n",
    "        width, height= clipped_image.size[0], clipped_image.size[1]\n",
    "        padded_image = Image.new(\"L\", (20, 20))\n",
    "        offset_x = (20 - width) // 2\n",
    "        offset_y = (20 - height) // 2\n",
    "        padded_image.paste(clipped_image, (offset_x, offset_y))\n",
    "\n",
    "\n",
    "        # Find Center of Mass\n",
    "        m00 = np.count_nonzero(padded_image)\n",
    "        padded_image_array = np.array(padded_image)\n",
    "\n",
    "        m10 = 0 # x\n",
    "        m01 = 0 # y\n",
    "        for i in range(20):\n",
    "            for j in range(20):\n",
    "                if padded_image_array[i][j] > 0:\n",
    "                    m10 += j\n",
    "                    m01 += i\n",
    "\n",
    "        com_x, com_y = m10//m00, m01//m00\n",
    "\n",
    "\n",
    "        # Translate to 28x28 image using Center of Mass\n",
    "        final_image = Image.new(\"L\", (28, 28))\n",
    "        final_image.paste(padded_image, (13-com_y, 13-com_x)) # the middle is index 13.5\n",
    "        name, ext = os.path.splitext(filename)\n",
    "        path = os.path.join(os.getcwd(), \"idata2/\")\n",
    "        Image.fromarray(np.uint8(final_image)).save(path + name + \".png\")\n",
    "        #display(final_image)"
   ]
  },
  {
   "cell_type": "code",
   "execution_count": null,
   "metadata": {},
   "outputs": [],
   "source": [
    "import numpy as np\n",
    "from PIL import Image"
   ]
  },
  {
   "cell_type": "code",
   "execution_count": 310,
   "metadata": {},
   "outputs": [],
   "source": [
    "# Convert to binary image by converting to grayscale and threshold\n",
    "\n",
    "original_image = np.array(Image.open('img15.jpg').convert('L'))\n",
    "\n",
    "thresh = 80\n",
    "\n",
    "original_image_array = (original_image < thresh) * 255 # Inverse the value of 255 and 0\n",
    "\n",
    "# Image.fromarray(np.uint8(original_image_array)).save('delete.jpg')"
   ]
  },
  {
   "cell_type": "code",
   "execution_count": 317,
   "metadata": {},
   "outputs": [],
   "source": [
    "# Bounding box\n",
    "\n",
    "#display(Image.open('delete.jpg'))\n",
    "x,y = np.where(original_image_array) # Get list of x and y values > 0\n",
    "x_max, x_min, y_max, y_min = x.max(), x.min(), y.max(), y.min()\n",
    "# print(x_max - x_min)\n",
    "#bounded = np.zeros(((y_max - y_min),(x_max - x_min)))\n",
    "#print(bounded.shape)\n",
    "# print(y_max, y_min, x_max, x_min)\n",
    "clipped_image = original_image_array[x_min:x_max,y_min:y_max]\n",
    "#print(clipped_image)\n",
    "Image.fromarray(np.uint8(clipped_image)).save('delete-clip.jpg')"
   ]
  },
  {
   "cell_type": "code",
   "execution_count": 318,
   "metadata": {},
   "outputs": [
    {
     "name": "stdout",
     "output_type": "stream",
     "text": [
      "[[  0   0   0 ...   0   0   0]\n",
      " [  0   0   0 ...   0   0   0]\n",
      " [  0   0   0 ...   0   0   0]\n",
      " ...\n",
      " [  0   0   0 ... 255 255 255]\n",
      " [  0   0   0 ... 255 255 255]\n",
      " [  0   0   0 ... 255   0   0]]\n"
     ]
    }
   ],
   "source": [
    "from skimage.morphology import dilation, disk\n",
    "selem = disk(3)\n",
    "dilated = dilation(clipped_image, selem)\n",
    "print(dilated)\n",
    "Image.fromarray(np.uint8(dilated)).save('delete-dilate.jpg')"
   ]
  },
  {
   "cell_type": "code",
   "execution_count": 266,
   "metadata": {},
   "outputs": [
    {
     "data": {
      "image/png": "[encoded data removed]",
      "text/plain": [
       "<PIL.JpegImagePlugin.JpegImageFile image mode=L size=13x20 at 0x115FD2340>"
      ]
     },
     "metadata": {},
     "output_type": "display_data"
    },
    {
     "data": {
      "image/png": "[encoded data removed]",
      "text/plain": [
       "<PIL.Image.Image image mode=L size=20x20 at 0x1173591F0>"
      ]
     },
     "metadata": {},
     "output_type": "display_data"
    },
    {
     "data": {
      "image/png": "[encoded data removed]",
      "text/plain": [
       "<PIL.Image.Image image mode=L size=200x200 at 0x11734E1F0>"
      ]
     },
     "metadata": {},
     "output_type": "display_data"
    }
   ],
   "source": [
    "# Resize and interpolate to 20 x 20\n",
    "\n",
    "clipped_image = Image.open('temp-clip.jpg')\n",
    "#display(clip)\n",
    "\n",
    "# Resize along with aspect ratio and use bicubic interpolation\n",
    "im_thumbnail = clipped_image.thumbnail((20, 20),Image.BICUBIC)\n",
    "display(clipped_image)\n",
    "\n",
    "width, height= clipped_image.size[0], clipped_image.size[1]\n",
    "#print(height)\n",
    "padded_image = Image.new(\"L\", (20, 20))\n",
    "offset_x = (20 - width) // 2\n",
    "#print(offset_x)\n",
    "offset_y = (20 - height) // 2\n",
    "#print(offset_y)\n",
    "\n",
    "padded_image.paste(clipped_image, (offset_x, offset_y))\n",
    "display(padded_image)\n",
    "#Image.fromarray(np.uint8(padded_image)).save('delete-padded.jpg')\n",
    "\n",
    "padded_image_resized = padded_image.resize((200, 200))\n",
    "display(padded_image_resized)"
   ]
  },
  {
   "cell_type": "code",
   "execution_count": 318,
   "metadata": {},
   "outputs": [
    {
     "name": "stdout",
     "output_type": "stream",
     "text": [
      "[[  0   0   0 ...   0   0   0]\n",
      " [  0   0   0 ...   0   0   0]\n",
      " [  0   0   0 ...   0   0   0]\n",
      " ...\n",
      " [  0   0   0 ... 255 255 255]\n",
      " [  0   0   0 ... 255 255 255]\n",
      " [  0   0   0 ... 255   0   0]]\n"
     ]
    }
   ],
   "source": [
    "from skimage.morphology import dilation, disk\n",
    "selem = disk(3)\n",
    "dilated = dilation(clipped_image, selem)\n",
    "print(dilated)\n",
    "Image.fromarray(np.uint8(dilated)).save('delete-dilate.jpg')"
   ]
  },
  {
   "cell_type": "code",
   "execution_count": 267,
   "metadata": {},
   "outputs": [
    {
     "name": "stdout",
     "output_type": "stream",
     "text": [
      "111\n",
      "[[  0   0   0   0   0  46 162 220 233 207  81   0   0   0   0   0   0   0\n",
      "    0   0]\n",
      " [  0   0   0   0  97 240 215 109 177 251 242  69   0   0   0   0   0   0\n",
      "    0   0]\n",
      " [  0   0   0 134 233 111  12   0   0  62 223 236  59   0   0   0   0   0\n",
      "    0   0]\n",
      " [  0   0   0  58  36   0   0   0   0   0  72 251 205  11   0   0   0   0\n",
      "    0   0]\n",
      " [  0   0   0   0   0   0   0   0   0   0   0 132 255  80   0   0   0   0\n",
      "    0   0]\n",
      " [  0   0   0   0   0   0   0   0   0   0   0  34 249 142   0   0   0   0\n",
      "    0   0]\n",
      " [  0   0   0   0   0   0   0   0   0   0   0  11 230 192   3   0   0   0\n",
      "    0   0]\n",
      " [  0   0   0   0   0   0   0   0   0   0   0   2 191 237  19   0   0   0\n",
      "    0   0]\n",
      " [  0   0   0   0   0   0   0   0   0   0   0   0 169 244  26   0   0   0\n",
      "    0   0]\n",
      " [  0   0   0   0   0   0   0   0   0   0   0   0 142 255  37   0   0   0\n",
      "    0   0]\n",
      " [  0   0   0   0   0   0   0   0   0   0   0   0 181 236  25   0   0   0\n",
      "    0   0]\n",
      " [  0   0   0   0   0   0   0   0   0   0   0  16 237 171   0   0   0   0\n",
      "    0   0]\n",
      " [  0   0   0   0   0   0   0   0   0   0   0  75 255  99   0   0   0   0\n",
      "    0   0]\n",
      " [  0   0   0   0   0   0   0   0   0   0   4 201 183   8   0   0   0   0\n",
      "    0   0]\n",
      " [  0   0   0   0   0   0   0   0   0   0 136 237  59   0   0   0   0   0\n",
      "    0   0]\n",
      " [  0   0   0   0   0   0   0   0   0  99 255 131   0   0   0   0   0   0\n",
      "    0   0]\n",
      " [  0   0   0   0   0   0  25  74 173 241 148   3   0   0   0   0   0   0\n",
      "    0   0]\n",
      " [  0   0   0  53 125 174 237 255 255 184  92  82  68  73  17   0   0   0\n",
      "    0   0]\n",
      " [  0   0   0 174 243 227 208 217 222 230 254 255 255 255 221 128   0   0\n",
      "    0   0]\n",
      " [  0   0   0  17  30  21   8  13  19  23  42  55  99 145 226 225   0   0\n",
      "    0   0]]\n",
      "233\n",
      "1075 1191\n",
      "9 10\n"
     ]
    }
   ],
   "source": [
    "# Find Center of Mass\n",
    "\n",
    "m00 = np.count_nonzero(padded_image)\n",
    "print(m00)\n",
    "\n",
    "padded_image_array = np.array(padded_image)\n",
    "print(padded_image_array)\n",
    "\n",
    "print(padded_image_array[0][8])\n",
    "\n",
    "m10 = 0 # x\n",
    "m01 = 0 # y\n",
    "for i in range(20):\n",
    "    for j in range(20):\n",
    "        if padded_image_array[i][j] > 0:\n",
    "            m10 += j\n",
    "            m01 += i\n",
    "\n",
    "print(m10, m01)\n",
    "\n",
    "com_x, com_y = m10//m00, m01//m00\n",
    "print(com_x, com_y)"
   ]
  },
  {
   "cell_type": "code",
   "execution_count": 268,
   "metadata": {},
   "outputs": [
    {
     "data": {
      "image/png": "[encoded data removed]",
      "text/plain": [
       "<PIL.Image.Image image mode=L size=28x28 at 0x117359220>"
      ]
     },
     "metadata": {},
     "output_type": "display_data"
    },
    {
     "data": {
      "image/png": "[encoded data removed]",
      "text/plain": [
       "<PIL.Image.Image image mode=L size=200x200 at 0x10538AC70>"
      ]
     },
     "metadata": {},
     "output_type": "display_data"
    }
   ],
   "source": [
    "# Translate to 28x28 image using Center of Mass\n",
    "\n",
    "final_image = Image.new(\"L\", (28, 28))\n",
    "final_image.paste(padded_image, (13-com_y, 13-com_x)) # the middle is index 13.5\n",
    "display(final_image)\n",
    "Image.fromarray(np.uint8(final_image)).save('delete-final.jpg')\n",
    "\n",
    "final_image_resized = final_image.resize((200, 200))\n",
    "display(final_image_resized)"
   ]
  },
  {
   "cell_type": "code",
   "execution_count": null,
   "metadata": {},
   "outputs": [],
   "source": []
  },
  {
   "cell_type": "code",
   "execution_count": null,
   "metadata": {},
   "outputs": [],
   "source": []
  }
 ],
 "metadata": {
  "kernelspec": {
   "display_name": "Python 3",
   "language": "python",
   "name": "python3"
  },
  "language_info": {
   "codemirror_mode": {
    "name": "ipython",
    "version": 3
   },
   "file_extension": ".py",
   "mimetype": "text/x-python",
   "name": "python",
   "nbconvert_exporter": "python",
   "pygments_lexer": "ipython3",
   "version": "3.8.3"
  }
 },
 "nbformat": 4,
 "nbformat_minor": 4
}
