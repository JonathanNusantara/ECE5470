{
 "cells": [
  {
   "cell_type": "code",
   "execution_count": 15,
   "metadata": {},
   "outputs": [
    {
     "data": {
      "image/png": "[encoded data removed]",
      "text/plain": [
       "<PIL.Image.Image image mode=L size=28x28 at 0x122DE01F0>"
      ]
     },
     "metadata": {},
     "output_type": "display_data"
    }
   ],
   "source": [
    "\"\"\" Custom datatset loader\n",
    "    based on https://github.com/utkuozbulak/pytorch-custom-dataset-examples\n",
    "\"\"\"\n",
    "\n",
    "import torch\n",
    "import pandas as pd\n",
    "import numpy as np\n",
    "from PIL import Image\n",
    "from torch.utils.data.dataset import Dataset\n",
    "from torchvision import transforms\n",
    "\n",
    "class SimpleDataset(Dataset):\n",
    "    def __init__(self, data_path, csv_name, transform = None ):\n",
    "        \"\"\"\n",
    "        Args:\n",
    "            data_path (string): path to the folder where images and csv files are located\n",
    "            csv_name (string): name of the csv lablel file\n",
    "            transform: pytorch transforms for transforms and tensor conversion\n",
    "        \"\"\"\n",
    "        # Set path\n",
    "        self.data_path = data_path\n",
    "        # Transforms\n",
    "        self.transform = transform\n",
    "        # Read the csv file\n",
    "        self.data_info = pd.read_csv(data_path + csv_name, header=None)\n",
    "        # First column contains the image paths\n",
    "        self.image_arr = np.asarray(self.data_info.iloc[:, 0])\n",
    "        # Second column is the labels\n",
    "        self.label_arr = np.asarray(self.data_info.iloc[:, 1])\n",
    "        # Calculate len\n",
    "        self.data_len = len(self.data_info.index)\n",
    "        \n",
    "\n",
    "    def __getitem__(self, index):\n",
    "        # Get image name from the pandas df\n",
    "        single_image_name = self.image_arr[index]\n",
    "        # Open image\n",
    "        img_as_img = Image.open(self.data_path + single_image_name)\n",
    "        if self.transform is not None:\n",
    "              img_as_img = self.transform(img_as_img)\n",
    "\n",
    "        # Get label(class) of the image based on the cropped pandas column\n",
    "        single_image_label = self.label_arr[index]\n",
    "        #convert to tensor to be consistent with MNIST dataset\n",
    "        single_image_label = torch.LongTensor( [ single_image_label ] )[0]\n",
    "        return (img_as_img, single_image_label)\n",
    "\n",
    "    def __len__(self):\n",
    "        return self.data_len\n",
    "\n",
    "# mydata = SimpleDataset( \"./idata/\", \"labels.csv\")\n",
    "# len(mydata)\n",
    "\n",
    "mydataT = SimpleDataset( \"./idata/\", \"labels.csv\", transform=transforms.ToTensor())\n",
    "\n",
    "testc = mydataT[30]\n",
    "testT = testc[0]\n",
    "imgt = Image.fromarray((testT.numpy()[0] * 255).astype(\"uint8\"))\n",
    "display(imgt)"
   ]
  },
  {
   "cell_type": "code",
   "execution_count": null,
   "metadata": {},
   "outputs": [],
   "source": []
  }
 ],
 "metadata": {
  "kernelspec": {
   "display_name": "Python 3",
   "language": "python",
   "name": "python3"
  },
  "language_info": {
   "codemirror_mode": {
    "name": "ipython",
    "version": 3
   },
   "file_extension": ".py",
   "mimetype": "text/x-python",
   "name": "python",
   "nbconvert_exporter": "python",
   "pygments_lexer": "ipython3",
   "version": "3.8.3"
  }
 },
 "nbformat": 4,
 "nbformat_minor": 4
}
