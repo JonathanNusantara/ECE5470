{
  "nbformat": 4,
  "nbformat_minor": 0,
  "metadata": {
    "colab": {
      "name": "labkeras2-new.ipynb",
      "provenance": []
    },
    "kernelspec": {
      "name": "python3",
      "display_name": "Python 3"
    }
  },
  "cells": [
    {
      "cell_type": "code",
      "metadata": {
        "id": "UN5JuV25DEoX"
      },
      "source": [
        "##  preserntation for a confusion matrix\n",
        "import numpy as np\n",
        "from sklearn.metrics import confusion_matrix\n",
        "import itertools\n",
        "import matplotlib.pyplot as plt\n",
        "\n",
        "def plot_confusion_matrix(cm, classes,\n",
        "                          normalize=False,\n",
        "                          title='Confusion matrix',\n",
        "                          cmap=plt.cm.Blues):\n",
        "    \"\"\"\n",
        "    This function prints and plots the confusion matrix.\n",
        "    Normalization can be applied by setting `normalize=True`.\n",
        "    \"\"\"\n",
        "    if normalize:\n",
        "        cm = cm.astype('float') / cm.sum(axis=1)[:, np.newaxis]\n",
        "        print(\"Normalized confusion matrix\")\n",
        "    else:\n",
        "        print('Confusion matrix, without normalization')\n",
        "\n",
        "    #print(cm)\n",
        "\n",
        "    plt.imshow(cm, interpolation='nearest', cmap=cmap)\n",
        "    plt.title(title)\n",
        "    plt.colorbar()\n",
        "    tick_marks = np.arange(len(classes))\n",
        "    plt.xticks(tick_marks, classes, rotation=45)\n",
        "    plt.yticks(tick_marks, classes)\n",
        "\n",
        "    fmt = '.2f' if normalize else 'd'\n",
        "    thresh = cm.max() / 2.\n",
        "    for i, j in itertools.product(range(cm.shape[0]), range(cm.shape[1])):\n",
        "        plt.text(j, i, format(cm[i, j], fmt),\n",
        "                 horizontalalignment=\"center\",\n",
        "                 color=\"white\" if cm[i, j] > thresh else \"black\")\n",
        "\n",
        "    plt.ylabel('True label')\n",
        "    plt.xlabel('Predicted label')\n",
        "    plt.tight_layout()"
      ],
      "execution_count": 1,
      "outputs": []
    },
    {
      "cell_type": "code",
      "metadata": {
        "colab": {
          "base_uri": "https://localhost:8080/"
        },
        "id": "iKKQ3hkUDJLm",
        "outputId": "c1304430-8622-4d21-e29e-8a8afa48f71f"
      },
      "source": [
        "'''Trains a simple convnet on the MNIST dataset.\n",
        "Gets to 99.25% test accuracy after 12 epochs\n",
        "(there is still a lot of margin for parameter tuning).\n",
        "16 seconds per epoch on a GRID K520 GPU.\n",
        "'''\n",
        "\n",
        "from __future__ import print_function\n",
        "import keras\n",
        "from keras.datasets import mnist\n",
        "from keras.models import Sequential\n",
        "from keras.layers import Dense, Dropout, Flatten\n",
        "from keras.layers import Conv2D, MaxPooling2D\n",
        "from keras import backend as K\n",
        "import time\n",
        "from datetime import datetime\n",
        "\n",
        "start_time = datetime.now()\n",
        "\n",
        "batch_size = 128\n",
        "num_classes = 10\n",
        "epochs = 12\n",
        "\n",
        "# input image dimensions\n",
        "img_rows, img_cols = 28, 28\n",
        "\n",
        "# the data, split between train and test sets\n",
        "(x_train, y_train), (x_test, y_test) = mnist.load_data()\n",
        "\n",
        "if K.image_data_format() == 'channels_first':\n",
        "    x_train = x_train.reshape(x_train.shape[0], 1, img_rows, img_cols)\n",
        "    x_test = x_test.reshape(x_test.shape[0], 1, img_rows, img_cols)\n",
        "    input_shape = (1, img_rows, img_cols)\n",
        "else:\n",
        "    x_train = x_train.reshape(x_train.shape[0], img_rows, img_cols, 1)\n",
        "    x_test = x_test.reshape(x_test.shape[0], img_rows, img_cols, 1)\n",
        "    input_shape = (img_rows, img_cols, 1)\n",
        "\n",
        "x_train = x_train.astype('float32')\n",
        "x_test = x_test.astype('float32')\n",
        "x_train /= 255\n",
        "x_test /= 255\n",
        "print('x_train shape:', x_train.shape)\n",
        "print(x_train.shape[0], 'train samples')\n",
        "print(x_test.shape[0], 'test samples')\n",
        "\n",
        "# convert class vectors to binary class matrices\n",
        "y_train = keras.utils.to_categorical(y_train, num_classes)\n",
        "y_test = keras.utils.to_categorical(y_test, num_classes)\n",
        "\n",
        "model = Sequential()\n",
        "model.add(Conv2D(32, kernel_size=(3, 3),\n",
        "                 activation='relu',\n",
        "                 input_shape=input_shape))\n",
        "model.add(Conv2D(64, (3, 3), activation='relu'))\n",
        "model.add(MaxPooling2D(pool_size=(2, 2)))\n",
        "model.add(Dropout(0.25))\n",
        "model.add(Flatten())\n",
        "model.add(Dense(128, activation='relu'))\n",
        "model.add(Dropout(0.5))\n",
        "model.add(Dense(num_classes, activation='softmax'))\n",
        "\n",
        "model.compile(loss=keras.losses.categorical_crossentropy,\n",
        "              optimizer=keras.optimizers.Adadelta(),\n",
        "              metrics=['accuracy'])\n",
        "\n",
        "history = model.fit(x_train, y_train,\n",
        "          batch_size=batch_size,\n",
        "          epochs=epochs,\n",
        "          verbose=1,\n",
        "          validation_data=(x_test, y_test))\n",
        "score = model.evaluate(x_test, y_test, verbose=1)\n",
        "print('Test loss:', score[0])\n",
        "print('Test accuracy:', score[1])\n",
        "\n",
        "print(\"Time Elapsed: {} seconds\".format((datetime.now() - start_time).total_seconds()))"
      ],
      "execution_count": 2,
      "outputs": [
        {
          "output_type": "stream",
          "text": [
            "Downloading data from https://storage.googleapis.com/tensorflow/tf-keras-datasets/mnist.npz\n",
            "11493376/11490434 [==============================] - 0s 0us/step\n",
            "x_train shape: (60000, 28, 28, 1)\n",
            "60000 train samples\n",
            "10000 test samples\n",
            "Epoch 1/12\n",
            "469/469 [==============================] - 142s 302ms/step - loss: 2.2854 - accuracy: 0.1444 - val_loss: 2.2510 - val_accuracy: 0.3076\n",
            "Epoch 2/12\n",
            "469/469 [==============================] - 141s 302ms/step - loss: 2.2303 - accuracy: 0.2631 - val_loss: 2.1850 - val_accuracy: 0.5198\n",
            "Epoch 3/12\n",
            "469/469 [==============================] - 141s 301ms/step - loss: 2.1597 - accuracy: 0.3714 - val_loss: 2.0920 - val_accuracy: 0.6247\n",
            "Epoch 4/12\n",
            "469/469 [==============================] - 147s 314ms/step - loss: 2.0584 - accuracy: 0.4541 - val_loss: 1.9587 - val_accuracy: 0.6628\n",
            "Epoch 5/12\n",
            "469/469 [==============================] - 142s 302ms/step - loss: 1.9207 - accuracy: 0.5153 - val_loss: 1.7793 - val_accuracy: 0.7006\n",
            "Epoch 6/12\n",
            "469/469 [==============================] - 141s 301ms/step - loss: 1.7466 - accuracy: 0.5603 - val_loss: 1.5624 - val_accuracy: 0.7385\n",
            "Epoch 7/12\n",
            "469/469 [==============================] - 142s 302ms/step - loss: 1.5553 - accuracy: 0.6023 - val_loss: 1.3406 - val_accuracy: 0.7674\n",
            "Epoch 8/12\n",
            "469/469 [==============================] - 142s 302ms/step - loss: 1.3804 - accuracy: 0.6309 - val_loss: 1.1462 - val_accuracy: 0.7863\n",
            "Epoch 9/12\n",
            "469/469 [==============================] - 142s 302ms/step - loss: 1.2362 - accuracy: 0.6547 - val_loss: 0.9918 - val_accuracy: 0.8022\n",
            "Epoch 10/12\n",
            "469/469 [==============================] - 141s 302ms/step - loss: 1.1231 - accuracy: 0.6780 - val_loss: 0.8738 - val_accuracy: 0.8134\n",
            "Epoch 11/12\n",
            "469/469 [==============================] - 141s 302ms/step - loss: 1.0275 - accuracy: 0.7007 - val_loss: 0.7843 - val_accuracy: 0.8214\n",
            "Epoch 12/12\n",
            "469/469 [==============================] - 142s 302ms/step - loss: 0.9612 - accuracy: 0.7137 - val_loss: 0.7166 - val_accuracy: 0.8288\n",
            "313/313 [==============================] - 7s 21ms/step - loss: 0.7166 - accuracy: 0.8288\n",
            "Test loss: 0.7166295647621155\n",
            "Test accuracy: 0.8288000226020813\n",
            "Time Elapsed: 1715.653636 seconds\n"
          ],
          "name": "stdout"
        }
      ]
    },
    {
      "cell_type": "code",
      "metadata": {
        "id": "3qPkKKxeDKsb"
      },
      "source": [
        "\n",
        "# list all data in history\n",
        "print(history.history.keys())\n",
        "# summarize history for accuracy\n",
        "plt.plot(history.history['accuracy'])\n",
        "plt.plot(history.history['val_accuracy'])\n",
        "plt.title('model accuracy')\n",
        "plt.ylabel('accuracy')\n",
        "plt.xlabel('epoch')\n",
        "plt.legend(['train', 'test'], loc='upper left')\n",
        "plt.show()\n",
        "# summarize history for loss\n",
        "plt.plot(history.history['loss'])\n",
        "plt.plot(history.history['val_loss'])\n",
        "plt.title('model loss')\n",
        "plt.ylabel('loss')\n",
        "plt.xlabel('epoch')\n",
        "plt.legend(['train', 'test'], loc='upper left')\n",
        "plt.show()\n",
        "\n"
      ],
      "execution_count": 2,
      "outputs": []
    },
    {
      "cell_type": "code",
      "metadata": {
        "id": "l4loYlgCDMy2"
      },
      "source": [
        "predictions = model.predict(x_test, verbose=0)\n",
        "\n"
      ],
      "execution_count": 3,
      "outputs": []
    },
    {
      "cell_type": "code",
      "metadata": {
        "colab": {
          "base_uri": "https://localhost:8080/"
        },
        "id": "roYfLm0BDOcd",
        "outputId": "adce0ff4-9050-491b-9fb4-9ca2cd30553b"
      },
      "source": [
        "\n",
        "\n",
        "yitest = np.argmax(y_test, axis=1)\n",
        "\n",
        "yptest = np.argmax(predictions, axis=1)\n",
        "print (yitest)\n",
        "print (yptest)"
      ],
      "execution_count": 4,
      "outputs": [
        {
          "output_type": "stream",
          "text": [
            "[7 2 1 ... 4 5 6]\n",
            "[7 2 1 ... 4 8 6]\n"
          ],
          "name": "stdout"
        }
      ]
    },
    {
      "cell_type": "code",
      "metadata": {
        "colab": {
          "base_uri": "https://localhost:8080/"
        },
        "id": "tVssaELyDPmL",
        "outputId": "6995bb40-f66f-48c7-ddd2-de915870d583"
      },
      "source": [
        "## For analysis show also the confusion matrix\n",
        "\n",
        "\n",
        "\n",
        "cfm = confusion_matrix(yitest, yptest)\n",
        "print (cfm)"
      ],
      "execution_count": 5,
      "outputs": [
        {
          "output_type": "stream",
          "text": [
            "[[ 932    0    1    3    0    3   20    1   20    0]\n",
            " [   0 1086   12   10    1    0    4    0   21    1]\n",
            " [  19   25  856   20   11    0   45   25   28    3]\n",
            " [   4   14   30  881    0   11    8   28   23   11]\n",
            " [   2    7    2    0  771    0   29    6   13  152]\n",
            " [  41   32    5  162   33  525   29    5   49   11]\n",
            " [  30   20   30    0   12   14  844    1    7    0]\n",
            " [   2   42   29    3   17    0    1  884    5   45]\n",
            " [  23   47   12   86   14   14   19   23  698   38]\n",
            " [  15   22    9   13   72    6    1   51    9  811]]\n"
          ],
          "name": "stdout"
        }
      ]
    },
    {
      "cell_type": "code",
      "metadata": {
        "colab": {
          "base_uri": "https://localhost:8080/",
          "height": 314
        },
        "id": "EL9vnDVwDQ0K",
        "outputId": "cd9c10fc-098b-4f70-f445-fbdd1b744e13"
      },
      "source": [
        "plot_confusion_matrix(cfm, classes=range(10), \n",
        "                      title='Confusion matrix for MNIST')\n",
        "\n"
      ],
      "execution_count": 6,
      "outputs": [
        {
          "output_type": "stream",
          "text": [
            "Confusion matrix, without normalization\n"
          ],
          "name": "stdout"
        },
        {
          "output_type": "display_data",
          "data": {
            "image/png": "[encoded data removed]",
            "text/plain": [
              "<Figure size 432x288 with 2 Axes>"
            ]
          },
          "metadata": {
            "tags": [],
            "needs_background": "light"
          }
        }
      ]
    },
    {
      "cell_type": "code",
      "metadata": {
        "id": "wEXQfKpVDR1z"
      },
      "source": [
        ""
      ],
      "execution_count": null,
      "outputs": []
    }
  ]
}