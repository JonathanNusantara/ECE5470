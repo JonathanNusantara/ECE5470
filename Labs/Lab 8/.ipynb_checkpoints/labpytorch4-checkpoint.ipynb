{
  "nbformat": 4,
  "nbformat_minor": 0,
  "metadata": {
    "colab": {
      "name": "labpytorch4.ipynb",
      "provenance": [],
      "collapsed_sections": []
    },
    "kernelspec": {
      "name": "python3",
      "display_name": "Python 3"
    },
    "widgets": {
      "application/vnd.jupyter.widget-state+json": {
        "d231cfa9b3394699a6d6b7d35bf290a2": {
          "model_module": "@jupyter-widgets/controls",
          "model_name": "HBoxModel",
          "state": {
            "_view_name": "HBoxView",
            "_dom_classes": [],
            "_model_name": "HBoxModel",
            "_view_module": "@jupyter-widgets/controls",
            "_model_module_version": "1.5.0",
            "_view_count": null,
            "_view_module_version": "1.5.0",
            "box_style": "",
            "layout": "IPY_MODEL_dd4058ecf4c44b4f8e5aa511b3f7450d",
            "_model_module": "@jupyter-widgets/controls",
            "children": [
              "IPY_MODEL_77a2657da35f4df28eaf46761d267a33",
              "IPY_MODEL_eed25e1465a4482a9e53712c3b0a8a5b"
            ]
          }
        },
        "dd4058ecf4c44b4f8e5aa511b3f7450d": {
          "model_module": "@jupyter-widgets/base",
          "model_name": "LayoutModel",
          "state": {
            "_view_name": "LayoutView",
            "grid_template_rows": null,
            "right": null,
            "justify_content": null,
            "_view_module": "@jupyter-widgets/base",
            "overflow": null,
            "_model_module_version": "1.2.0",
            "_view_count": null,
            "flex_flow": null,
            "width": null,
            "min_width": null,
            "border": null,
            "align_items": null,
            "bottom": null,
            "_model_module": "@jupyter-widgets/base",
            "top": null,
            "grid_column": null,
            "overflow_y": null,
            "overflow_x": null,
            "grid_auto_flow": null,
            "grid_area": null,
            "grid_template_columns": null,
            "flex": null,
            "_model_name": "LayoutModel",
            "justify_items": null,
            "grid_row": null,
            "max_height": null,
            "align_content": null,
            "visibility": null,
            "align_self": null,
            "height": null,
            "min_height": null,
            "padding": null,
            "grid_auto_rows": null,
            "grid_gap": null,
            "max_width": null,
            "order": null,
            "_view_module_version": "1.2.0",
            "grid_template_areas": null,
            "object_position": null,
            "object_fit": null,
            "grid_auto_columns": null,
            "margin": null,
            "display": null,
            "left": null
          }
        },
        "77a2657da35f4df28eaf46761d267a33": {
          "model_module": "@jupyter-widgets/controls",
          "model_name": "FloatProgressModel",
          "state": {
            "_view_name": "ProgressView",
            "style": "IPY_MODEL_c145eb66cd26446194503de52b0d3683",
            "_dom_classes": [],
            "description": "",
            "_model_name": "FloatProgressModel",
            "bar_style": "success",
            "max": 1,
            "_view_module": "@jupyter-widgets/controls",
            "_model_module_version": "1.5.0",
            "value": 1,
            "_view_count": null,
            "_view_module_version": "1.5.0",
            "orientation": "horizontal",
            "min": 0,
            "description_tooltip": null,
            "_model_module": "@jupyter-widgets/controls",
            "layout": "IPY_MODEL_75697e23e5f54b60a8ecf6cfcac70356"
          }
        },
        "eed25e1465a4482a9e53712c3b0a8a5b": {
          "model_module": "@jupyter-widgets/controls",
          "model_name": "HTMLModel",
          "state": {
            "_view_name": "HTMLView",
            "style": "IPY_MODEL_0474715596294e72b74e623206208994",
            "_dom_classes": [],
            "description": "",
            "_model_name": "HTMLModel",
            "placeholder": "​",
            "_view_module": "@jupyter-widgets/controls",
            "_model_module_version": "1.5.0",
            "value": " 9920512/? [00:01&lt;00:00, 5830366.84it/s]",
            "_view_count": null,
            "_view_module_version": "1.5.0",
            "description_tooltip": null,
            "_model_module": "@jupyter-widgets/controls",
            "layout": "IPY_MODEL_a256c44d43674a39aea803f9df1c0d12"
          }
        },
        "c145eb66cd26446194503de52b0d3683": {
          "model_module": "@jupyter-widgets/controls",
          "model_name": "ProgressStyleModel",
          "state": {
            "_view_name": "StyleView",
            "_model_name": "ProgressStyleModel",
            "description_width": "initial",
            "_view_module": "@jupyter-widgets/base",
            "_model_module_version": "1.5.0",
            "_view_count": null,
            "_view_module_version": "1.2.0",
            "bar_color": null,
            "_model_module": "@jupyter-widgets/controls"
          }
        },
        "75697e23e5f54b60a8ecf6cfcac70356": {
          "model_module": "@jupyter-widgets/base",
          "model_name": "LayoutModel",
          "state": {
            "_view_name": "LayoutView",
            "grid_template_rows": null,
            "right": null,
            "justify_content": null,
            "_view_module": "@jupyter-widgets/base",
            "overflow": null,
            "_model_module_version": "1.2.0",
            "_view_count": null,
            "flex_flow": null,
            "width": null,
            "min_width": null,
            "border": null,
            "align_items": null,
            "bottom": null,
            "_model_module": "@jupyter-widgets/base",
            "top": null,
            "grid_column": null,
            "overflow_y": null,
            "overflow_x": null,
            "grid_auto_flow": null,
            "grid_area": null,
            "grid_template_columns": null,
            "flex": null,
            "_model_name": "LayoutModel",
            "justify_items": null,
            "grid_row": null,
            "max_height": null,
            "align_content": null,
            "visibility": null,
            "align_self": null,
            "height": null,
            "min_height": null,
            "padding": null,
            "grid_auto_rows": null,
            "grid_gap": null,
            "max_width": null,
            "order": null,
            "_view_module_version": "1.2.0",
            "grid_template_areas": null,
            "object_position": null,
            "object_fit": null,
            "grid_auto_columns": null,
            "margin": null,
            "display": null,
            "left": null
          }
        },
        "0474715596294e72b74e623206208994": {
          "model_module": "@jupyter-widgets/controls",
          "model_name": "DescriptionStyleModel",
          "state": {
            "_view_name": "StyleView",
            "_model_name": "DescriptionStyleModel",
            "description_width": "",
            "_view_module": "@jupyter-widgets/base",
            "_model_module_version": "1.5.0",
            "_view_count": null,
            "_view_module_version": "1.2.0",
            "_model_module": "@jupyter-widgets/controls"
          }
        },
        "a256c44d43674a39aea803f9df1c0d12": {
          "model_module": "@jupyter-widgets/base",
          "model_name": "LayoutModel",
          "state": {
            "_view_name": "LayoutView",
            "grid_template_rows": null,
            "right": null,
            "justify_content": null,
            "_view_module": "@jupyter-widgets/base",
            "overflow": null,
            "_model_module_version": "1.2.0",
            "_view_count": null,
            "flex_flow": null,
            "width": null,
            "min_width": null,
            "border": null,
            "align_items": null,
            "bottom": null,
            "_model_module": "@jupyter-widgets/base",
            "top": null,
            "grid_column": null,
            "overflow_y": null,
            "overflow_x": null,
            "grid_auto_flow": null,
            "grid_area": null,
            "grid_template_columns": null,
            "flex": null,
            "_model_name": "LayoutModel",
            "justify_items": null,
            "grid_row": null,
            "max_height": null,
            "align_content": null,
            "visibility": null,
            "align_self": null,
            "height": null,
            "min_height": null,
            "padding": null,
            "grid_auto_rows": null,
            "grid_gap": null,
            "max_width": null,
            "order": null,
            "_view_module_version": "1.2.0",
            "grid_template_areas": null,
            "object_position": null,
            "object_fit": null,
            "grid_auto_columns": null,
            "margin": null,
            "display": null,
            "left": null
          }
        },
        "e5ddc351b4df446ebddca3dad922586d": {
          "model_module": "@jupyter-widgets/controls",
          "model_name": "HBoxModel",
          "state": {
            "_view_name": "HBoxView",
            "_dom_classes": [],
            "_model_name": "HBoxModel",
            "_view_module": "@jupyter-widgets/controls",
            "_model_module_version": "1.5.0",
            "_view_count": null,
            "_view_module_version": "1.5.0",
            "box_style": "",
            "layout": "IPY_MODEL_0e17d7e38bf94f1894357f0ab9115c60",
            "_model_module": "@jupyter-widgets/controls",
            "children": [
              "IPY_MODEL_f446b0daff9d4fa5822788ea02bca5fa",
              "IPY_MODEL_b5a4c5c193d44cdbae322131e49ec4b6"
            ]
          }
        },
        "0e17d7e38bf94f1894357f0ab9115c60": {
          "model_module": "@jupyter-widgets/base",
          "model_name": "LayoutModel",
          "state": {
            "_view_name": "LayoutView",
            "grid_template_rows": null,
            "right": null,
            "justify_content": null,
            "_view_module": "@jupyter-widgets/base",
            "overflow": null,
            "_model_module_version": "1.2.0",
            "_view_count": null,
            "flex_flow": null,
            "width": null,
            "min_width": null,
            "border": null,
            "align_items": null,
            "bottom": null,
            "_model_module": "@jupyter-widgets/base",
            "top": null,
            "grid_column": null,
            "overflow_y": null,
            "overflow_x": null,
            "grid_auto_flow": null,
            "grid_area": null,
            "grid_template_columns": null,
            "flex": null,
            "_model_name": "LayoutModel",
            "justify_items": null,
            "grid_row": null,
            "max_height": null,
            "align_content": null,
            "visibility": null,
            "align_self": null,
            "height": null,
            "min_height": null,
            "padding": null,
            "grid_auto_rows": null,
            "grid_gap": null,
            "max_width": null,
            "order": null,
            "_view_module_version": "1.2.0",
            "grid_template_areas": null,
            "object_position": null,
            "object_fit": null,
            "grid_auto_columns": null,
            "margin": null,
            "display": null,
            "left": null
          }
        },
        "f446b0daff9d4fa5822788ea02bca5fa": {
          "model_module": "@jupyter-widgets/controls",
          "model_name": "FloatProgressModel",
          "state": {
            "_view_name": "ProgressView",
            "style": "IPY_MODEL_8d1ef66d715f406fafdf03a1d1a63da0",
            "_dom_classes": [],
            "description": "",
            "_model_name": "FloatProgressModel",
            "bar_style": "success",
            "max": 1,
            "_view_module": "@jupyter-widgets/controls",
            "_model_module_version": "1.5.0",
            "value": 1,
            "_view_count": null,
            "_view_module_version": "1.5.0",
            "orientation": "horizontal",
            "min": 0,
            "description_tooltip": null,
            "_model_module": "@jupyter-widgets/controls",
            "layout": "IPY_MODEL_e3c6bed5a18941ed86a5445cafee4e68"
          }
        },
        "b5a4c5c193d44cdbae322131e49ec4b6": {
          "model_module": "@jupyter-widgets/controls",
          "model_name": "HTMLModel",
          "state": {
            "_view_name": "HTMLView",
            "style": "IPY_MODEL_53d0d63c8db34dcaa2bf05ec5a7576b7",
            "_dom_classes": [],
            "description": "",
            "_model_name": "HTMLModel",
            "placeholder": "​",
            "_view_module": "@jupyter-widgets/controls",
            "_model_module_version": "1.5.0",
            "value": " 32768/? [00:00&lt;00:00, 118360.84it/s]",
            "_view_count": null,
            "_view_module_version": "1.5.0",
            "description_tooltip": null,
            "_model_module": "@jupyter-widgets/controls",
            "layout": "IPY_MODEL_583d0e2fccbe47ca8578a10f18dda1f7"
          }
        },
        "8d1ef66d715f406fafdf03a1d1a63da0": {
          "model_module": "@jupyter-widgets/controls",
          "model_name": "ProgressStyleModel",
          "state": {
            "_view_name": "StyleView",
            "_model_name": "ProgressStyleModel",
            "description_width": "initial",
            "_view_module": "@jupyter-widgets/base",
            "_model_module_version": "1.5.0",
            "_view_count": null,
            "_view_module_version": "1.2.0",
            "bar_color": null,
            "_model_module": "@jupyter-widgets/controls"
          }
        },
        "e3c6bed5a18941ed86a5445cafee4e68": {
          "model_module": "@jupyter-widgets/base",
          "model_name": "LayoutModel",
          "state": {
            "_view_name": "LayoutView",
            "grid_template_rows": null,
            "right": null,
            "justify_content": null,
            "_view_module": "@jupyter-widgets/base",
            "overflow": null,
            "_model_module_version": "1.2.0",
            "_view_count": null,
            "flex_flow": null,
            "width": null,
            "min_width": null,
            "border": null,
            "align_items": null,
            "bottom": null,
            "_model_module": "@jupyter-widgets/base",
            "top": null,
            "grid_column": null,
            "overflow_y": null,
            "overflow_x": null,
            "grid_auto_flow": null,
            "grid_area": null,
            "grid_template_columns": null,
            "flex": null,
            "_model_name": "LayoutModel",
            "justify_items": null,
            "grid_row": null,
            "max_height": null,
            "align_content": null,
            "visibility": null,
            "align_self": null,
            "height": null,
            "min_height": null,
            "padding": null,
            "grid_auto_rows": null,
            "grid_gap": null,
            "max_width": null,
            "order": null,
            "_view_module_version": "1.2.0",
            "grid_template_areas": null,
            "object_position": null,
            "object_fit": null,
            "grid_auto_columns": null,
            "margin": null,
            "display": null,
            "left": null
          }
        },
        "53d0d63c8db34dcaa2bf05ec5a7576b7": {
          "model_module": "@jupyter-widgets/controls",
          "model_name": "DescriptionStyleModel",
          "state": {
            "_view_name": "StyleView",
            "_model_name": "DescriptionStyleModel",
            "description_width": "",
            "_view_module": "@jupyter-widgets/base",
            "_model_module_version": "1.5.0",
            "_view_count": null,
            "_view_module_version": "1.2.0",
            "_model_module": "@jupyter-widgets/controls"
          }
        },
        "583d0e2fccbe47ca8578a10f18dda1f7": {
          "model_module": "@jupyter-widgets/base",
          "model_name": "LayoutModel",
          "state": {
            "_view_name": "LayoutView",
            "grid_template_rows": null,
            "right": null,
            "justify_content": null,
            "_view_module": "@jupyter-widgets/base",
            "overflow": null,
            "_model_module_version": "1.2.0",
            "_view_count": null,
            "flex_flow": null,
            "width": null,
            "min_width": null,
            "border": null,
            "align_items": null,
            "bottom": null,
            "_model_module": "@jupyter-widgets/base",
            "top": null,
            "grid_column": null,
            "overflow_y": null,
            "overflow_x": null,
            "grid_auto_flow": null,
            "grid_area": null,
            "grid_template_columns": null,
            "flex": null,
            "_model_name": "LayoutModel",
            "justify_items": null,
            "grid_row": null,
            "max_height": null,
            "align_content": null,
            "visibility": null,
            "align_self": null,
            "height": null,
            "min_height": null,
            "padding": null,
            "grid_auto_rows": null,
            "grid_gap": null,
            "max_width": null,
            "order": null,
            "_view_module_version": "1.2.0",
            "grid_template_areas": null,
            "object_position": null,
            "object_fit": null,
            "grid_auto_columns": null,
            "margin": null,
            "display": null,
            "left": null
          }
        },
        "a0f823bf8cab4a0886a396303e0996bb": {
          "model_module": "@jupyter-widgets/controls",
          "model_name": "HBoxModel",
          "state": {
            "_view_name": "HBoxView",
            "_dom_classes": [],
            "_model_name": "HBoxModel",
            "_view_module": "@jupyter-widgets/controls",
            "_model_module_version": "1.5.0",
            "_view_count": null,
            "_view_module_version": "1.5.0",
            "box_style": "",
            "layout": "IPY_MODEL_818d063be0df42a480e974b5248708e8",
            "_model_module": "@jupyter-widgets/controls",
            "children": [
              "IPY_MODEL_bbdbd3547dd947d18589c7e4fab91f58",
              "IPY_MODEL_48791581a5b84470a9bc1f6f470ad414"
            ]
          }
        },
        "818d063be0df42a480e974b5248708e8": {
          "model_module": "@jupyter-widgets/base",
          "model_name": "LayoutModel",
          "state": {
            "_view_name": "LayoutView",
            "grid_template_rows": null,
            "right": null,
            "justify_content": null,
            "_view_module": "@jupyter-widgets/base",
            "overflow": null,
            "_model_module_version": "1.2.0",
            "_view_count": null,
            "flex_flow": null,
            "width": null,
            "min_width": null,
            "border": null,
            "align_items": null,
            "bottom": null,
            "_model_module": "@jupyter-widgets/base",
            "top": null,
            "grid_column": null,
            "overflow_y": null,
            "overflow_x": null,
            "grid_auto_flow": null,
            "grid_area": null,
            "grid_template_columns": null,
            "flex": null,
            "_model_name": "LayoutModel",
            "justify_items": null,
            "grid_row": null,
            "max_height": null,
            "align_content": null,
            "visibility": null,
            "align_self": null,
            "height": null,
            "min_height": null,
            "padding": null,
            "grid_auto_rows": null,
            "grid_gap": null,
            "max_width": null,
            "order": null,
            "_view_module_version": "1.2.0",
            "grid_template_areas": null,
            "object_position": null,
            "object_fit": null,
            "grid_auto_columns": null,
            "margin": null,
            "display": null,
            "left": null
          }
        },
        "bbdbd3547dd947d18589c7e4fab91f58": {
          "model_module": "@jupyter-widgets/controls",
          "model_name": "FloatProgressModel",
          "state": {
            "_view_name": "ProgressView",
            "style": "IPY_MODEL_b507fa584bfe4520a0148b8f6292bc4d",
            "_dom_classes": [],
            "description": "",
            "_model_name": "FloatProgressModel",
            "bar_style": "info",
            "max": 1,
            "_view_module": "@jupyter-widgets/controls",
            "_model_module_version": "1.5.0",
            "value": 1,
            "_view_count": null,
            "_view_module_version": "1.5.0",
            "orientation": "horizontal",
            "min": 0,
            "description_tooltip": null,
            "_model_module": "@jupyter-widgets/controls",
            "layout": "IPY_MODEL_80bfd9e5f3b24ccfb67a9d976d5fdbd7"
          }
        },
        "48791581a5b84470a9bc1f6f470ad414": {
          "model_module": "@jupyter-widgets/controls",
          "model_name": "HTMLModel",
          "state": {
            "_view_name": "HTMLView",
            "style": "IPY_MODEL_802bd30d324c4fb5bc7aae1151bc1d1b",
            "_dom_classes": [],
            "description": "",
            "_model_name": "HTMLModel",
            "placeholder": "​",
            "_view_module": "@jupyter-widgets/controls",
            "_model_module_version": "1.5.0",
            "value": " 1654784/? [00:18&lt;00:00, 528634.79it/s]",
            "_view_count": null,
            "_view_module_version": "1.5.0",
            "description_tooltip": null,
            "_model_module": "@jupyter-widgets/controls",
            "layout": "IPY_MODEL_3b3509ad68bc4910a2d826406afaeee3"
          }
        },
        "b507fa584bfe4520a0148b8f6292bc4d": {
          "model_module": "@jupyter-widgets/controls",
          "model_name": "ProgressStyleModel",
          "state": {
            "_view_name": "StyleView",
            "_model_name": "ProgressStyleModel",
            "description_width": "initial",
            "_view_module": "@jupyter-widgets/base",
            "_model_module_version": "1.5.0",
            "_view_count": null,
            "_view_module_version": "1.2.0",
            "bar_color": null,
            "_model_module": "@jupyter-widgets/controls"
          }
        },
        "80bfd9e5f3b24ccfb67a9d976d5fdbd7": {
          "model_module": "@jupyter-widgets/base",
          "model_name": "LayoutModel",
          "state": {
            "_view_name": "LayoutView",
            "grid_template_rows": null,
            "right": null,
            "justify_content": null,
            "_view_module": "@jupyter-widgets/base",
            "overflow": null,
            "_model_module_version": "1.2.0",
            "_view_count": null,
            "flex_flow": null,
            "width": null,
            "min_width": null,
            "border": null,
            "align_items": null,
            "bottom": null,
            "_model_module": "@jupyter-widgets/base",
            "top": null,
            "grid_column": null,
            "overflow_y": null,
            "overflow_x": null,
            "grid_auto_flow": null,
            "grid_area": null,
            "grid_template_columns": null,
            "flex": null,
            "_model_name": "LayoutModel",
            "justify_items": null,
            "grid_row": null,
            "max_height": null,
            "align_content": null,
            "visibility": null,
            "align_self": null,
            "height": null,
            "min_height": null,
            "padding": null,
            "grid_auto_rows": null,
            "grid_gap": null,
            "max_width": null,
            "order": null,
            "_view_module_version": "1.2.0",
            "grid_template_areas": null,
            "object_position": null,
            "object_fit": null,
            "grid_auto_columns": null,
            "margin": null,
            "display": null,
            "left": null
          }
        },
        "802bd30d324c4fb5bc7aae1151bc1d1b": {
          "model_module": "@jupyter-widgets/controls",
          "model_name": "DescriptionStyleModel",
          "state": {
            "_view_name": "StyleView",
            "_model_name": "DescriptionStyleModel",
            "description_width": "",
            "_view_module": "@jupyter-widgets/base",
            "_model_module_version": "1.5.0",
            "_view_count": null,
            "_view_module_version": "1.2.0",
            "_model_module": "@jupyter-widgets/controls"
          }
        },
        "3b3509ad68bc4910a2d826406afaeee3": {
          "model_module": "@jupyter-widgets/base",
          "model_name": "LayoutModel",
          "state": {
            "_view_name": "LayoutView",
            "grid_template_rows": null,
            "right": null,
            "justify_content": null,
            "_view_module": "@jupyter-widgets/base",
            "overflow": null,
            "_model_module_version": "1.2.0",
            "_view_count": null,
            "flex_flow": null,
            "width": null,
            "min_width": null,
            "border": null,
            "align_items": null,
            "bottom": null,
            "_model_module": "@jupyter-widgets/base",
            "top": null,
            "grid_column": null,
            "overflow_y": null,
            "overflow_x": null,
            "grid_auto_flow": null,
            "grid_area": null,
            "grid_template_columns": null,
            "flex": null,
            "_model_name": "LayoutModel",
            "justify_items": null,
            "grid_row": null,
            "max_height": null,
            "align_content": null,
            "visibility": null,
            "align_self": null,
            "height": null,
            "min_height": null,
            "padding": null,
            "grid_auto_rows": null,
            "grid_gap": null,
            "max_width": null,
            "order": null,
            "_view_module_version": "1.2.0",
            "grid_template_areas": null,
            "object_position": null,
            "object_fit": null,
            "grid_auto_columns": null,
            "margin": null,
            "display": null,
            "left": null
          }
        },
        "462f4f9b36724435942feb92acdac2f8": {
          "model_module": "@jupyter-widgets/controls",
          "model_name": "HBoxModel",
          "state": {
            "_view_name": "HBoxView",
            "_dom_classes": [],
            "_model_name": "HBoxModel",
            "_view_module": "@jupyter-widgets/controls",
            "_model_module_version": "1.5.0",
            "_view_count": null,
            "_view_module_version": "1.5.0",
            "box_style": "",
            "layout": "IPY_MODEL_482fe7e1312e4fe4be721d18eae96728",
            "_model_module": "@jupyter-widgets/controls",
            "children": [
              "IPY_MODEL_6aaf8d74bc5d4c29b6e3dac04769b89e",
              "IPY_MODEL_412aca84005642c3a2fce5e39781b642"
            ]
          }
        },
        "482fe7e1312e4fe4be721d18eae96728": {
          "model_module": "@jupyter-widgets/base",
          "model_name": "LayoutModel",
          "state": {
            "_view_name": "LayoutView",
            "grid_template_rows": null,
            "right": null,
            "justify_content": null,
            "_view_module": "@jupyter-widgets/base",
            "overflow": null,
            "_model_module_version": "1.2.0",
            "_view_count": null,
            "flex_flow": null,
            "width": null,
            "min_width": null,
            "border": null,
            "align_items": null,
            "bottom": null,
            "_model_module": "@jupyter-widgets/base",
            "top": null,
            "grid_column": null,
            "overflow_y": null,
            "overflow_x": null,
            "grid_auto_flow": null,
            "grid_area": null,
            "grid_template_columns": null,
            "flex": null,
            "_model_name": "LayoutModel",
            "justify_items": null,
            "grid_row": null,
            "max_height": null,
            "align_content": null,
            "visibility": null,
            "align_self": null,
            "height": null,
            "min_height": null,
            "padding": null,
            "grid_auto_rows": null,
            "grid_gap": null,
            "max_width": null,
            "order": null,
            "_view_module_version": "1.2.0",
            "grid_template_areas": null,
            "object_position": null,
            "object_fit": null,
            "grid_auto_columns": null,
            "margin": null,
            "display": null,
            "left": null
          }
        },
        "6aaf8d74bc5d4c29b6e3dac04769b89e": {
          "model_module": "@jupyter-widgets/controls",
          "model_name": "FloatProgressModel",
          "state": {
            "_view_name": "ProgressView",
            "style": "IPY_MODEL_5824b4d06f2344ffb7238a9064bd4ac1",
            "_dom_classes": [],
            "description": "",
            "_model_name": "FloatProgressModel",
            "bar_style": "success",
            "max": 1,
            "_view_module": "@jupyter-widgets/controls",
            "_model_module_version": "1.5.0",
            "value": 1,
            "_view_count": null,
            "_view_module_version": "1.5.0",
            "orientation": "horizontal",
            "min": 0,
            "description_tooltip": null,
            "_model_module": "@jupyter-widgets/controls",
            "layout": "IPY_MODEL_18a3a880069c47b990c278bf593f8ebb"
          }
        },
        "412aca84005642c3a2fce5e39781b642": {
          "model_module": "@jupyter-widgets/controls",
          "model_name": "HTMLModel",
          "state": {
            "_view_name": "HTMLView",
            "style": "IPY_MODEL_c90ec7630dce4de49c7fac3c4d60a50d",
            "_dom_classes": [],
            "description": "",
            "_model_name": "HTMLModel",
            "placeholder": "​",
            "_view_module": "@jupyter-widgets/controls",
            "_model_module_version": "1.5.0",
            "value": " 8192/? [00:00&lt;00:00, 22844.36it/s]",
            "_view_count": null,
            "_view_module_version": "1.5.0",
            "description_tooltip": null,
            "_model_module": "@jupyter-widgets/controls",
            "layout": "IPY_MODEL_2afb8d12d4624aa3b1e4c43296b2505b"
          }
        },
        "5824b4d06f2344ffb7238a9064bd4ac1": {
          "model_module": "@jupyter-widgets/controls",
          "model_name": "ProgressStyleModel",
          "state": {
            "_view_name": "StyleView",
            "_model_name": "ProgressStyleModel",
            "description_width": "initial",
            "_view_module": "@jupyter-widgets/base",
            "_model_module_version": "1.5.0",
            "_view_count": null,
            "_view_module_version": "1.2.0",
            "bar_color": null,
            "_model_module": "@jupyter-widgets/controls"
          }
        },
        "18a3a880069c47b990c278bf593f8ebb": {
          "model_module": "@jupyter-widgets/base",
          "model_name": "LayoutModel",
          "state": {
            "_view_name": "LayoutView",
            "grid_template_rows": null,
            "right": null,
            "justify_content": null,
            "_view_module": "@jupyter-widgets/base",
            "overflow": null,
            "_model_module_version": "1.2.0",
            "_view_count": null,
            "flex_flow": null,
            "width": null,
            "min_width": null,
            "border": null,
            "align_items": null,
            "bottom": null,
            "_model_module": "@jupyter-widgets/base",
            "top": null,
            "grid_column": null,
            "overflow_y": null,
            "overflow_x": null,
            "grid_auto_flow": null,
            "grid_area": null,
            "grid_template_columns": null,
            "flex": null,
            "_model_name": "LayoutModel",
            "justify_items": null,
            "grid_row": null,
            "max_height": null,
            "align_content": null,
            "visibility": null,
            "align_self": null,
            "height": null,
            "min_height": null,
            "padding": null,
            "grid_auto_rows": null,
            "grid_gap": null,
            "max_width": null,
            "order": null,
            "_view_module_version": "1.2.0",
            "grid_template_areas": null,
            "object_position": null,
            "object_fit": null,
            "grid_auto_columns": null,
            "margin": null,
            "display": null,
            "left": null
          }
        },
        "c90ec7630dce4de49c7fac3c4d60a50d": {
          "model_module": "@jupyter-widgets/controls",
          "model_name": "DescriptionStyleModel",
          "state": {
            "_view_name": "StyleView",
            "_model_name": "DescriptionStyleModel",
            "description_width": "",
            "_view_module": "@jupyter-widgets/base",
            "_model_module_version": "1.5.0",
            "_view_count": null,
            "_view_module_version": "1.2.0",
            "_model_module": "@jupyter-widgets/controls"
          }
        },
        "2afb8d12d4624aa3b1e4c43296b2505b": {
          "model_module": "@jupyter-widgets/base",
          "model_name": "LayoutModel",
          "state": {
            "_view_name": "LayoutView",
            "grid_template_rows": null,
            "right": null,
            "justify_content": null,
            "_view_module": "@jupyter-widgets/base",
            "overflow": null,
            "_model_module_version": "1.2.0",
            "_view_count": null,
            "flex_flow": null,
            "width": null,
            "min_width": null,
            "border": null,
            "align_items": null,
            "bottom": null,
            "_model_module": "@jupyter-widgets/base",
            "top": null,
            "grid_column": null,
            "overflow_y": null,
            "overflow_x": null,
            "grid_auto_flow": null,
            "grid_area": null,
            "grid_template_columns": null,
            "flex": null,
            "_model_name": "LayoutModel",
            "justify_items": null,
            "grid_row": null,
            "max_height": null,
            "align_content": null,
            "visibility": null,
            "align_self": null,
            "height": null,
            "min_height": null,
            "padding": null,
            "grid_auto_rows": null,
            "grid_gap": null,
            "max_width": null,
            "order": null,
            "_view_module_version": "1.2.0",
            "grid_template_areas": null,
            "object_position": null,
            "object_fit": null,
            "grid_auto_columns": null,
            "margin": null,
            "display": null,
            "left": null
          }
        }
      }
    },
    "accelerator": "GPU"
  },
  "cells": [
    {
      "cell_type": "markdown",
      "metadata": {
        "id": "VTSPvLbMby0L"
      },
      "source": [
        "<h2>PyTorch example of a simple convolution network model</h2>\n",
        "Trained and tested using the MNIST dataset\n",
        "\n",
        "Taken from: https://github.com/yunjey/pytorch-tutorial/blob/master/tutorials/02-intermediate/convolutional_neural_network/main.py#L35-L56\n",
        "\n",
        "Initialization"
      ]
    },
    {
      "cell_type": "code",
      "metadata": {
        "colab": {
          "base_uri": "https://localhost:8080/",
          "height": 420,
          "referenced_widgets": [
            "d231cfa9b3394699a6d6b7d35bf290a2",
            "dd4058ecf4c44b4f8e5aa511b3f7450d",
            "77a2657da35f4df28eaf46761d267a33",
            "eed25e1465a4482a9e53712c3b0a8a5b",
            "c145eb66cd26446194503de52b0d3683",
            "75697e23e5f54b60a8ecf6cfcac70356",
            "0474715596294e72b74e623206208994",
            "a256c44d43674a39aea803f9df1c0d12",
            "e5ddc351b4df446ebddca3dad922586d",
            "0e17d7e38bf94f1894357f0ab9115c60",
            "f446b0daff9d4fa5822788ea02bca5fa",
            "b5a4c5c193d44cdbae322131e49ec4b6",
            "8d1ef66d715f406fafdf03a1d1a63da0",
            "e3c6bed5a18941ed86a5445cafee4e68",
            "53d0d63c8db34dcaa2bf05ec5a7576b7",
            "583d0e2fccbe47ca8578a10f18dda1f7",
            "a0f823bf8cab4a0886a396303e0996bb",
            "818d063be0df42a480e974b5248708e8",
            "bbdbd3547dd947d18589c7e4fab91f58",
            "48791581a5b84470a9bc1f6f470ad414",
            "b507fa584bfe4520a0148b8f6292bc4d",
            "80bfd9e5f3b24ccfb67a9d976d5fdbd7",
            "802bd30d324c4fb5bc7aae1151bc1d1b",
            "3b3509ad68bc4910a2d826406afaeee3",
            "462f4f9b36724435942feb92acdac2f8",
            "482fe7e1312e4fe4be721d18eae96728",
            "6aaf8d74bc5d4c29b6e3dac04769b89e",
            "412aca84005642c3a2fce5e39781b642",
            "5824b4d06f2344ffb7238a9064bd4ac1",
            "18a3a880069c47b990c278bf593f8ebb",
            "c90ec7630dce4de49c7fac3c4d60a50d",
            "2afb8d12d4624aa3b1e4c43296b2505b"
          ]
        },
        "id": "U3pqJPUzNJMM",
        "outputId": "0a2900d3-5489-41a7-c702-44889c588b34"
      },
      "source": [
        "import time\n",
        "import torch \n",
        "import torch.nn as nn\n",
        "import torchvision\n",
        "import torchvision.transforms as transforms\n",
        "\n",
        "from matplotlib import pyplot as plt\n",
        "import numpy as np\n",
        "from datetime import datetime\n",
        "from sklearn.metrics import confusion_matrix\n",
        "import itertools\n",
        "\n",
        "# Device configuration\n",
        "device = torch.device('cuda:0' if torch.cuda.is_available() else 'cpu')\n",
        "\n",
        "# MNIST dataset\n",
        "train_dataset = torchvision.datasets.MNIST(root='./data/',\n",
        "                                           train=True, \n",
        "                                           transform=transforms.ToTensor(),\n",
        "                                           download=True)\n",
        "\n",
        "test_dataset = torchvision.datasets.MNIST(root='./data/',\n",
        "                                          train=False, \n",
        "                                          transform= transforms.ToTensor())\n",
        "                                        "
      ],
      "execution_count": 1,
      "outputs": [
        {
          "output_type": "stream",
          "text": [
            "Downloading http://yann.lecun.com/exdb/mnist/train-images-idx3-ubyte.gz to ./data/MNIST/raw/train-images-idx3-ubyte.gz\n"
          ],
          "name": "stdout"
        },
        {
          "output_type": "display_data",
          "data": {
            "application/vnd.jupyter.widget-view+json": {
              "model_id": "d231cfa9b3394699a6d6b7d35bf290a2",
              "version_minor": 0,
              "version_major": 2
            },
            "text/plain": [
              "HBox(children=(FloatProgress(value=1.0, bar_style='info', max=1.0), HTML(value='')))"
            ]
          },
          "metadata": {
            "tags": []
          }
        },
        {
          "output_type": "stream",
          "text": [
            "Extracting ./data/MNIST/raw/train-images-idx3-ubyte.gz to ./data/MNIST/raw\n",
            "Downloading http://yann.lecun.com/exdb/mnist/train-labels-idx1-ubyte.gz to ./data/MNIST/raw/train-labels-idx1-ubyte.gz\n"
          ],
          "name": "stdout"
        },
        {
          "output_type": "display_data",
          "data": {
            "application/vnd.jupyter.widget-view+json": {
              "model_id": "e5ddc351b4df446ebddca3dad922586d",
              "version_minor": 0,
              "version_major": 2
            },
            "text/plain": [
              "HBox(children=(FloatProgress(value=1.0, bar_style='info', max=1.0), HTML(value='')))"
            ]
          },
          "metadata": {
            "tags": []
          }
        },
        {
          "output_type": "stream",
          "text": [
            "Extracting ./data/MNIST/raw/train-labels-idx1-ubyte.gz to ./data/MNIST/raw\n",
            "Downloading http://yann.lecun.com/exdb/mnist/t10k-images-idx3-ubyte.gz to ./data/MNIST/raw/t10k-images-idx3-ubyte.gz\n",
            "\n",
            "\n"
          ],
          "name": "stdout"
        },
        {
          "output_type": "display_data",
          "data": {
            "application/vnd.jupyter.widget-view+json": {
              "model_id": "a0f823bf8cab4a0886a396303e0996bb",
              "version_minor": 0,
              "version_major": 2
            },
            "text/plain": [
              "HBox(children=(FloatProgress(value=1.0, bar_style='info', max=1.0), HTML(value='')))"
            ]
          },
          "metadata": {
            "tags": []
          }
        },
        {
          "output_type": "stream",
          "text": [
            "Extracting ./data/MNIST/raw/t10k-images-idx3-ubyte.gz to ./data/MNIST/raw\n",
            "Downloading http://yann.lecun.com/exdb/mnist/t10k-labels-idx1-ubyte.gz to ./data/MNIST/raw/t10k-labels-idx1-ubyte.gz\n"
          ],
          "name": "stdout"
        },
        {
          "output_type": "display_data",
          "data": {
            "application/vnd.jupyter.widget-view+json": {
              "model_id": "462f4f9b36724435942feb92acdac2f8",
              "version_minor": 0,
              "version_major": 2
            },
            "text/plain": [
              "HBox(children=(FloatProgress(value=1.0, bar_style='info', max=1.0), HTML(value='')))"
            ]
          },
          "metadata": {
            "tags": []
          }
        },
        {
          "output_type": "stream",
          "text": [
            "Extracting ./data/MNIST/raw/t10k-labels-idx1-ubyte.gz to ./data/MNIST/raw\n",
            "Processing...\n",
            "Done!\n",
            "\n"
          ],
          "name": "stdout"
        },
        {
          "output_type": "stream",
          "text": [
            "/usr/local/lib/python3.6/dist-packages/torchvision/datasets/mnist.py:480: UserWarning: The given NumPy array is not writeable, and PyTorch does not support non-writeable tensors. This means you can write to the underlying (supposedly non-writeable) NumPy array using the tensor. You may want to copy the array to protect its data or make it writeable before converting it to a tensor. This type of warning will be suppressed for the rest of this program. (Triggered internally at  /pytorch/torch/csrc/utils/tensor_numpy.cpp:141.)\n",
            "  return torch.from_numpy(parsed.astype(m[2], copy=False)).view(*s)\n"
          ],
          "name": "stderr"
        }
      ]
    },
    {
      "cell_type": "code",
      "metadata": {
        "id": "eV3raoqRNPgq"
      },
      "source": [
        "'''Learning Curve Plot Utility'''\n",
        "def plot(train_loss_history, val_loss_history, train_acc_history, val_acc_history):\n",
        "  fig, axs = plt.subplots(1, 2, figsize=(11,5))\n",
        "\n",
        "  ax = axs[0]\n",
        "  ax.set_title(\"Model Loss\", fontsize=12)\n",
        "  ax.plot(train_loss_history, label=\"Training\")\n",
        "  ax.plot(val_loss_history,   label=\"Validation\")\n",
        "  ax.set_xlabel(\"Epoch\",        fontsize=12)\n",
        "  ax.set_ylabel(\"Average loss\", fontsize=12)\n",
        "  ax.legend(loc=\"best\",         fontsize=12)\n",
        "\n",
        "  ax = axs[1]\n",
        "  ax.set_title(\"Model Accuracy\", fontsize=12)\n",
        "  ax.plot(train_acc_history, label=\"Training\")\n",
        "  ax.plot(val_acc_history,   label=\"Validation\")\n",
        "  ax.set_xlabel(\"Epoch\",        fontsize=12)\n",
        "  ax.set_ylabel(\"Accuracy\",     fontsize=12)\n",
        "  ax.set_ylim(0,1)\n",
        "  ax.legend(loc=\"best\",         fontsize=12)"
      ],
      "execution_count": 2,
      "outputs": []
    },
    {
      "cell_type": "markdown",
      "metadata": {
        "id": "FKsLnkq9b7yj"
      },
      "source": [
        "## Utilities\n",
        "These functions provide Learning curve plots and lerning progress reports "
      ]
    },
    {
      "cell_type": "code",
      "metadata": {
        "id": "JuG7xuHkNP5w"
      },
      "source": [
        "'''Learning progress utility'''\n",
        "def log_progress(running_loss, curr_batch, batch_size, curr_epoch, total_epochs, dataloader):\n",
        "    \"\"\"\n",
        "    Prints message logging progress through training.\n",
        "    \"\"\"\n",
        "    progress = float(curr_batch + 1)/(float(len(dataloader.dataset)) / batch_size)\n",
        "    log = \"EPOCH [{}/{}]. Running Loss: {} Progress: {} % \".format(\n",
        "        curr_epoch + 1, total_epochs, round(running_loss, 2), round(progress * 100, 2))\n",
        "    print(log)"
      ],
      "execution_count": 3,
      "outputs": []
    },
    {
      "cell_type": "code",
      "metadata": {
        "id": "d_Od107JNRh_"
      },
      "source": [
        "#  preserntation for a confusion matrix\n",
        "\n",
        "def plot_confusion_matrix(cm, classes,\n",
        "                          normalize=False,\n",
        "                          title='Confusion matrix',\n",
        "                          cmap=plt.cm.Blues):\n",
        "    \"\"\"\n",
        "    This function prints and plots the confusion matrix.\n",
        "    Normalization can be applied by setting `normalize=True`.\n",
        "    \"\"\"\n",
        "    if normalize:\n",
        "        cm = cm.astype('float') / cm.sum(axis=1)[:, np.newaxis]\n",
        "        print(\"Normalized confusion matrix\")\n",
        "    else:\n",
        "        print('Confusion matrix, without normalization')\n",
        "\n",
        "    #print(cm)\n",
        "\n",
        "    plt.imshow(cm, interpolation='nearest', cmap=cmap)\n",
        "    plt.title(title)\n",
        "    plt.colorbar()\n",
        "    tick_marks = np.arange(len(classes))\n",
        "    plt.xticks(tick_marks, classes, rotation=45)\n",
        "    plt.yticks(tick_marks, classes)\n",
        "\n",
        "    fmt = '.2f' if normalize else 'd'\n",
        "    thresh = cm.max() / 2.\n",
        "    for i, j in itertools.product(range(cm.shape[0]), range(cm.shape[1])):\n",
        "        plt.text(j, i, format(cm[i, j], fmt),\n",
        "                 horizontalalignment=\"center\",\n",
        "                 color=\"white\" if cm[i, j] > thresh else \"black\")\n",
        "\n",
        "    plt.ylabel('True label')\n",
        "    plt.xlabel('Predicted label')\n",
        "    plt.tight_layout()\n",
        "\n"
      ],
      "execution_count": 4,
      "outputs": []
    },
    {
      "cell_type": "code",
      "metadata": {
        "id": "hdAX-bIKNS-Q"
      },
      "source": [
        "# Hyperparameters\n",
        "num_epochs = 12\n",
        "num_classes = 10\n",
        "batch_size = 128\n",
        "learning_rate = 0.1"
      ],
      "execution_count": 5,
      "outputs": []
    },
    {
      "cell_type": "code",
      "metadata": {
        "id": "xZgF5v3ONUXG"
      },
      "source": [
        "# Data loader\n",
        "train_loader = torch.utils.data.DataLoader(dataset=train_dataset,\n",
        "                                           batch_size=batch_size, \n",
        "                                           shuffle=True)\n",
        "\n",
        "test_loader = torch.utils.data.DataLoader(dataset=test_dataset,\n",
        "                                          batch_size=batch_size, \n",
        "                                          shuffle=False)"
      ],
      "execution_count": 6,
      "outputs": []
    },
    {
      "cell_type": "markdown",
      "metadata": {
        "id": "kI9XRKZxb-_E"
      },
      "source": [
        "## Model"
      ]
    },
    {
      "cell_type": "code",
      "metadata": {
        "id": "eNqOmUxvJ2zj"
      },
      "source": [
        "# Convolutional neural network (two convolutional layers)\n",
        "class ConvNet(nn.Module):\n",
        "    def __init__(self, num_classes=10):\n",
        "        super(ConvNet, self).__init__()\n",
        "        self.layer1 = nn.Sequential(\n",
        "            nn.Conv2d(1, 32, kernel_size=5, stride=1, padding=2),\n",
        "            nn.BatchNorm2d(32),\n",
        "            nn.ReLU(),\n",
        "            nn.MaxPool2d(kernel_size=2, stride=2)\n",
        "            )\n",
        "        self.layer2 = nn.Sequential(\n",
        "            nn.Conv2d(32, 64, kernel_size=5, stride=1, padding=2),\n",
        "            nn.BatchNorm2d(64),\n",
        "            nn.ReLU(),\n",
        "            nn.MaxPool2d(kernel_size=2, stride=2))\n",
        "        self.fc1 = nn.Sequential(\n",
        "            nn.Linear(7*7*64, 256),\n",
        "            nn.ReLU())\n",
        "        self.fc2 = nn.Linear(256, num_classes)\n",
        "        self.soft_max = nn.Softmax()\n",
        "        self.drop_out = nn.Dropout(p=0.3)\n",
        "        \n",
        "    def forward(self, x):\n",
        "        out = self.layer1(x)\n",
        "        out = self.layer2(out)\n",
        "        # out = self.layer3(out)\n",
        "        out = out.reshape(out.size(0), -1)\n",
        "        out = self.fc1(out)\n",
        "        out = self.drop_out(out)\n",
        "        out = self.fc2(out)\n",
        "        out = self.soft_max(out)\n",
        "        return out\n",
        "\n",
        "model = ConvNet(num_classes).to(device)"
      ],
      "execution_count": 46,
      "outputs": []
    },
    {
      "cell_type": "markdown",
      "metadata": {
        "id": "HRyRavG9QMdW"
      },
      "source": [
        "\n",
        "```\n",
        "# 1, 16, 16, 32, 0.9894, lr=0.1\n",
        "# 1,32 32,64 0.9909, lr=0.1\n",
        "# 1,48 48 96, 0.9901, lr=0.1\n",
        "# 1,64 64,128 0.2, lr=0.1\n",
        "\n",
        "num_epochs = 12\n",
        "num_classes = 10\n",
        "batch_size = 128\n",
        "learning_rate = 0.1 \n",
        "1,32,32,64: 0.992 accuracy\n",
        "\n",
        "\n",
        "dense layer:\n",
        "128 = 991\n",
        "256 =9915\n",
        "512 =9895\n",
        "\n",
        "1,32,32,64, dense 256, dropout:\n",
        "0.2 9911\n",
        "0.3 9919\n",
        "0.4 991\n",
        "0.5 9894\n",
        "\n",
        "```\n",
        "\n",
        "\n"
      ]
    },
    {
      "cell_type": "markdown",
      "metadata": {
        "id": "Tg7HpIvZcC-1"
      },
      "source": [
        "## Training "
      ]
    },
    {
      "cell_type": "code",
      "metadata": {
        "colab": {
          "base_uri": "https://localhost:8080/"
        },
        "id": "max90smtNY0G",
        "outputId": "aa0c9b60-dced-4fb8-8ff6-519982ab53ed"
      },
      "source": [
        "  # Loss and optimizer\n",
        "  criterion = nn.CrossEntropyLoss()\n",
        "  optimizer = torch.optim.Adadelta(model.parameters(), lr=learning_rate) # Changed to Adadelta with lr=1.0\n",
        "\n",
        "  # Keep track of average losses, training accuracy and validation accuracy for each epoch\n",
        "  train_loss_history = np.zeros(num_epochs)\n",
        "  train_acc_history  = np.zeros(num_epochs)\n",
        "  val_loss_history   = np.zeros(num_epochs)\n",
        "  val_acc_history    = np.zeros(num_epochs)\n",
        "\n",
        "  start_time = datetime.now()\n",
        "\n",
        "  for epoch in range(num_epochs):\n",
        "      \n",
        "      # Place network in training mode\n",
        "      model.train()\n",
        "      \n",
        "      # Initialize running epoch loss and number correctly classified\n",
        "      running_loss   = 0.0\n",
        "      num_correct    = 0.0\n",
        "      total_images   = 0.0\n",
        "      \n",
        "      for batch_num, (inputs, labels) in enumerate(train_loader):\n",
        "          # [inputs] and [labels] is one batch of images and their classes\n",
        "          inputs = inputs.to(device)\n",
        "          labels = labels.to(device)\n",
        "          \n",
        "          # Forward pass\n",
        "          outputs = model(inputs)\n",
        "          loss = criterion(outputs, labels)\n",
        "          \n",
        "          # Backward and optimize\n",
        "          optimizer.zero_grad()\n",
        "          loss.backward()\n",
        "          optimizer.step()\n",
        "\n",
        "          # Update statistics for this batch\n",
        "          curr_loss = loss.item()\n",
        "          _, preds = torch.max(outputs, 1)\n",
        "          curr_images = labels.cpu().data.numpy().size\n",
        "          curr_correct = torch.sum(preds == labels.data.reshape(-1))\n",
        "\n",
        "          # Update running statistics for this epoch\n",
        "          running_loss += curr_loss\n",
        "          num_correct += curr_correct\n",
        "          total_images += curr_images\n",
        "\n",
        "          # Log Progress every 200 batches\n",
        "          if (batch_num + 1) % 200 == 0:\n",
        "            log_progress(running_loss, batch_num, batch_size, epoch, num_epochs, train_loader)\n",
        "\n",
        "      # Update statistics for epoch\n",
        "      train_loss_history[epoch] = curr_loss #running_loss / total_images\n",
        "      train_acc_history[epoch]  = float(num_correct)  / float(total_images)\n",
        "      print(\"Train Avg. Loss: [{}] Acc: {} on {} images\".format(\n",
        "          round(train_loss_history[epoch],4), round(train_acc_history[epoch],4), total_images) )\n",
        "      \n",
        "      # ============================ Validation ==============================\n",
        "      print(\"Validating...\")\n",
        "      # Place network in testing mode (won't need to keep track of gradients)\n",
        "      model.eval()\n",
        "      \n",
        "      running_loss   = 0.0\n",
        "      num_correct    = 0.0\n",
        "      total_images   = 0.0\n",
        "      \n",
        "      for batch_num, (inputs, labels) in enumerate(test_loader):\n",
        "          inputs = inputs.to(device)\n",
        "          labels = labels.to(device)\n",
        "\n",
        "          # Propagate batch through network\n",
        "          outputs  = model(inputs)\n",
        "          loss     = criterion(outputs, labels.squeeze())\n",
        "          _, preds = torch.max(outputs, 1)\n",
        "          \n",
        "          # Update statistics for this batch\n",
        "          running_loss  += loss.item()\n",
        "          num_correct   += torch.sum(preds == labels.data.reshape(-1))\n",
        "          total_images  += labels.cpu().data.numpy().size\n",
        "          \n",
        "          # Log Progress every 200 batches\n",
        "          if (batch_num + 1) % 200 == 0:\n",
        "            log_progress(running_loss, batch_num, batch_size, epoch, num_epochs, test_loader)    \n",
        "\n",
        "      # Update statistics for validation data\n",
        "      val_loss_history[epoch] = loss.item() #running_loss / total_images\n",
        "      val_acc_history[epoch]  = float(num_correct)  / float(total_images) \n",
        "      print(\"Val Avg. Loss: [{}] Acc: {} on {} images\\n\".format(\n",
        "          round(val_loss_history[epoch],4), val_acc_history[epoch], total_images))\n",
        "      \n",
        "  print(\"Time Elapsed: {} seconds\".format((datetime.now() - start_time).total_seconds()))"
      ],
      "execution_count": 48,
      "outputs": [
        {
          "output_type": "stream",
          "text": [
            "/usr/local/lib/python3.6/dist-packages/ipykernel_launcher.py:31: UserWarning: Implicit dimension choice for softmax has been deprecated. Change the call to include dim=X as an argument.\n"
          ],
          "name": "stderr"
        },
        {
          "output_type": "stream",
          "text": [
            "EPOCH [1/12]. Running Loss: 293.71 Progress: 42.67 % \n",
            "EPOCH [1/12]. Running Loss: 587.65 Progress: 85.33 % \n",
            "Train Avg. Loss: [1.4619] Acc: 0.9934 on 60000.0 images\n",
            "Validating...\n",
            "Val Avg. Loss: [1.4612] Acc: 0.9892 on 10000.0 images\n",
            "\n",
            "EPOCH [2/12]. Running Loss: 293.82 Progress: 42.67 % \n",
            "EPOCH [2/12]. Running Loss: 587.75 Progress: 85.33 % \n",
            "Train Avg. Loss: [1.4692] Acc: 0.9933 on 60000.0 images\n",
            "Validating...\n",
            "Val Avg. Loss: [1.4612] Acc: 0.99 on 10000.0 images\n",
            "\n",
            "EPOCH [3/12]. Running Loss: 293.65 Progress: 42.67 % \n",
            "EPOCH [3/12]. Running Loss: 587.27 Progress: 85.33 % \n",
            "Train Avg. Loss: [1.473] Acc: 0.9945 on 60000.0 images\n",
            "Validating...\n",
            "Val Avg. Loss: [1.4612] Acc: 0.9912 on 10000.0 images\n",
            "\n",
            "EPOCH [4/12]. Running Loss: 293.57 Progress: 42.67 % \n",
            "EPOCH [4/12]. Running Loss: 587.18 Progress: 85.33 % \n",
            "Train Avg. Loss: [1.4613] Acc: 0.9946 on 60000.0 images\n",
            "Validating...\n",
            "Val Avg. Loss: [1.4612] Acc: 0.991 on 10000.0 images\n",
            "\n",
            "EPOCH [5/12]. Running Loss: 293.49 Progress: 42.67 % \n",
            "EPOCH [5/12]. Running Loss: 587.08 Progress: 85.33 % \n",
            "Train Avg. Loss: [1.4818] Acc: 0.9946 on 60000.0 images\n",
            "Validating...\n",
            "Val Avg. Loss: [1.4612] Acc: 0.9916 on 10000.0 images\n",
            "\n",
            "EPOCH [6/12]. Running Loss: 293.46 Progress: 42.67 % \n",
            "EPOCH [6/12]. Running Loss: 586.86 Progress: 85.33 % \n",
            "Train Avg. Loss: [1.4699] Acc: 0.9952 on 60000.0 images\n",
            "Validating...\n",
            "Val Avg. Loss: [1.4612] Acc: 0.99 on 10000.0 images\n",
            "\n",
            "EPOCH [7/12]. Running Loss: 293.4 Progress: 42.67 % \n",
            "EPOCH [7/12]. Running Loss: 586.73 Progress: 85.33 % \n",
            "Train Avg. Loss: [1.4685] Acc: 0.9958 on 60000.0 images\n",
            "Validating...\n",
            "Val Avg. Loss: [1.4612] Acc: 0.9906 on 10000.0 images\n",
            "\n",
            "EPOCH [8/12]. Running Loss: 293.25 Progress: 42.67 % \n",
            "EPOCH [8/12]. Running Loss: 586.63 Progress: 85.33 % \n",
            "Train Avg. Loss: [1.4716] Acc: 0.9958 on 60000.0 images\n",
            "Validating...\n",
            "Val Avg. Loss: [1.4612] Acc: 0.9921 on 10000.0 images\n",
            "\n",
            "EPOCH [9/12]. Running Loss: 293.1 Progress: 42.67 % \n",
            "EPOCH [9/12]. Running Loss: 586.46 Progress: 85.33 % \n",
            "Train Avg. Loss: [1.4993] Acc: 0.9962 on 60000.0 images\n",
            "Validating...\n",
            "Val Avg. Loss: [1.4612] Acc: 0.9904 on 10000.0 images\n",
            "\n",
            "EPOCH [10/12]. Running Loss: 293.22 Progress: 42.67 % \n",
            "EPOCH [10/12]. Running Loss: 586.41 Progress: 85.33 % \n",
            "Train Avg. Loss: [1.4638] Acc: 0.9962 on 60000.0 images\n",
            "Validating...\n",
            "Val Avg. Loss: [1.4612] Acc: 0.9925 on 10000.0 images\n",
            "\n",
            "EPOCH [11/12]. Running Loss: 293.11 Progress: 42.67 % \n",
            "EPOCH [11/12]. Running Loss: 586.33 Progress: 85.33 % \n",
            "Train Avg. Loss: [1.4725] Acc: 0.9964 on 60000.0 images\n",
            "Validating...\n",
            "Val Avg. Loss: [1.4612] Acc: 0.9916 on 10000.0 images\n",
            "\n",
            "EPOCH [12/12]. Running Loss: 293.16 Progress: 42.67 % \n",
            "EPOCH [12/12]. Running Loss: 586.36 Progress: 85.33 % \n",
            "Train Avg. Loss: [1.4715] Acc: 0.9964 on 60000.0 images\n",
            "Validating...\n",
            "Val Avg. Loss: [1.4612] Acc: 0.9919 on 10000.0 images\n",
            "\n",
            "Time Elapsed: 81.029165 seconds\n"
          ],
          "name": "stdout"
        }
      ]
    },
    {
      "cell_type": "markdown",
      "metadata": {
        "id": "SBiZuxracH56"
      },
      "source": [
        "## Learning curve plots"
      ]
    },
    {
      "cell_type": "code",
      "metadata": {
        "colab": {
          "base_uri": "https://localhost:8080/",
          "height": 353
        },
        "id": "xuJFZ9c8Na2C",
        "outputId": "3a0c6a53-3f97-4488-81ed-ed7ffca60b0b"
      },
      "source": [
        "plot(train_loss_history, val_loss_history, train_acc_history, val_acc_history)"
      ],
      "execution_count": 49,
      "outputs": [
        {
          "output_type": "display_data",
          "data": {
            "image/png": "[encoded data removed]",
            "text/plain": [
              "<Figure size 792x360 with 2 Axes>"
            ]
          },
          "metadata": {
            "tags": [],
            "needs_background": "light"
          }
        }
      ]
    },
    {
      "cell_type": "code",
      "metadata": {
        "colab": {
          "base_uri": "https://localhost:8080/"
        },
        "id": "Yegse1KtNcHs",
        "outputId": "a866a82d-93d5-4db8-da2d-2b966e9a1077"
      },
      "source": [
        "# Test the model\n",
        "ytest = []\n",
        "rtest = np.ones((0,10))\n",
        "model.eval()  # eval mode (batchnorm uses moving mean/variance instead of mini-batch mean/variance)\n",
        "with torch.no_grad():\n",
        "    correct = 0\n",
        "    total = 0\n",
        "    for images, labels in test_loader:\n",
        "        ytest = np.append(ytest, labels)\n",
        "        images = images.to(device)\n",
        "        labels = labels.to(device)\n",
        "        outputs = model(images)\n",
        "        _, predicted = torch.max(outputs.data, 1)\n",
        "        total += labels.size(0)\n",
        "        correct += (predicted == labels).sum().item()\n",
        "        rtest = np.append(rtest, outputs.cpu(), axis=0)\n",
        "print('Test Accuracy of the model on the 10000 test images: {} %'.format(100 * correct / total))"
      ],
      "execution_count": 50,
      "outputs": [
        {
          "output_type": "stream",
          "text": [
            "/usr/local/lib/python3.6/dist-packages/ipykernel_launcher.py:31: UserWarning: Implicit dimension choice for softmax has been deprecated. Change the call to include dim=X as an argument.\n"
          ],
          "name": "stderr"
        },
        {
          "output_type": "stream",
          "text": [
            "Test Accuracy of the model on the 10000 test images: 99.19 %\n"
          ],
          "name": "stdout"
        }
      ]
    },
    {
      "cell_type": "code",
      "metadata": {
        "id": "f2On63xvNdkH",
        "colab": {
          "base_uri": "https://localhost:8080/",
          "height": 314
        },
        "outputId": "e0e65d56-ebf8-4e8c-b5ca-4aed5b1dceb1"
      },
      "source": [
        "cfm = confusion_matrix(np.argmax (rtest,axis=1), ytest)\n",
        "plot_confusion_matrix(cfm, classes=range(10), \n",
        "                      title='Confusion matrix for MNIST')"
      ],
      "execution_count": 51,
      "outputs": [
        {
          "output_type": "stream",
          "text": [
            "Confusion matrix, without normalization\n"
          ],
          "name": "stdout"
        },
        {
          "output_type": "display_data",
          "data": {
            "image/png": "[encoded data removed]",
            "text/plain": [
              "<Figure size 432x288 with 2 Axes>"
            ]
          },
          "metadata": {
            "tags": [],
            "needs_background": "light"
          }
        }
      ]
    },
    {
      "cell_type": "code",
      "metadata": {
        "id": "8VKfJzwENfN8"
      },
      "source": [
        "# Save the model checkpoint\n",
        "torch.save(model.state_dict(), 'model.ckpt')"
      ],
      "execution_count": 52,
      "outputs": []
    },
    {
      "cell_type": "code",
      "metadata": {
        "id": "ZxzaobXLWibF"
      },
      "source": [
        ""
      ],
      "execution_count": null,
      "outputs": []
    }
  ]
}