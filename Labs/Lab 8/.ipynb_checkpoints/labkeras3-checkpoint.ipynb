{
  "nbformat": 4,
  "nbformat_minor": 0,
  "metadata": {
    "colab": {
      "name": "labkeras3.ipynb",
      "provenance": []
    },
    "kernelspec": {
      "display_name": "Python 3",
      "name": "python3"
    }
  },
  "cells": [
    {
      "cell_type": "code",
      "metadata": {
        "id": "Kr6jiTBaZCDq"
      },
      "source": [
        "##  preserntation for a confusion matrix\n",
        "import numpy as np\n",
        "from sklearn.metrics import confusion_matrix\n",
        "import itertools\n",
        "import matplotlib.pyplot as plt\n",
        "\n",
        "def plot_confusion_matrix(cm, classes,\n",
        "                          normalize=False,\n",
        "                          title='Confusion matrix',\n",
        "                          cmap=plt.cm.Blues):\n",
        "    \"\"\"\n",
        "    This function prints and plots the confusion matrix.\n",
        "    Normalization can be applied by setting `normalize=True`.\n",
        "    \"\"\"\n",
        "    if normalize:\n",
        "        cm = cm.astype('float') / cm.sum(axis=1)[:, np.newaxis]\n",
        "        print(\"Normalized confusion matrix\")\n",
        "    else:\n",
        "        print('Confusion matrix, without normalization')\n",
        "\n",
        "    #print(cm)\n",
        "\n",
        "    plt.imshow(cm, interpolation='nearest', cmap=cmap)\n",
        "    plt.title(title)\n",
        "    plt.colorbar()\n",
        "    tick_marks = np.arange(len(classes))\n",
        "    plt.xticks(tick_marks, classes, rotation=45)\n",
        "    plt.yticks(tick_marks, classes)\n",
        "\n",
        "    fmt = '.2f' if normalize else 'd'\n",
        "    thresh = cm.max() / 2.\n",
        "    for i, j in itertools.product(range(cm.shape[0]), range(cm.shape[1])):\n",
        "        plt.text(j, i, format(cm[i, j], fmt),\n",
        "                 horizontalalignment=\"center\",\n",
        "                 color=\"white\" if cm[i, j] > thresh else \"black\")\n",
        "\n",
        "    plt.ylabel('True label')\n",
        "    plt.xlabel('Predicted label')\n",
        "    plt.tight_layout()\n",
        "\n"
      ],
      "execution_count": 1,
      "outputs": []
    },
    {
      "cell_type": "code",
      "metadata": {
        "colab": {
          "base_uri": "https://localhost:8080/"
        },
        "id": "vYpHcJPSZF_C",
        "outputId": "d2c3f18c-3b6f-4863-9dad-238ca7b495df"
      },
      "source": [
        "'''Trains a simple convnet on the MNIST dataset.\n",
        "Gets to 99.25% test accuracy after 12 epochs\n",
        "(there is still a lot of margin for parameter tuning).\n",
        "16 seconds per epoch on a GRID K520 GPU.\n",
        "'''\n",
        "\n",
        "from __future__ import print_function\n",
        "import keras\n",
        "from keras.datasets import mnist\n",
        "from keras.models import Sequential\n",
        "from keras.layers import Dense, Dropout, Flatten\n",
        "from keras.layers import Conv2D, MaxPooling2D, ZeroPadding2D, BatchNormalization\n",
        "from keras import backend as K\n",
        "\n",
        "batch_size = 100\n",
        "num_classes = 10\n",
        "epochs = 6\n",
        "\n",
        "# input image dimensions\n",
        "img_rows, img_cols = 28, 28\n",
        "\n",
        "# the data, split between train and test sets\n",
        "(x_train, y_train), (x_test, y_test) = mnist.load_data()\n",
        "\n",
        "if K.image_data_format() == 'channels_first':\n",
        "    x_train = x_train.reshape(x_train.shape[0], 1, img_rows, img_cols)\n",
        "    x_test = x_test.reshape(x_test.shape[0], 1, img_rows, img_cols)\n",
        "    input_shape = (1, img_rows, img_cols)\n",
        "else:\n",
        "    x_train = x_train.reshape(x_train.shape[0], img_rows, img_cols, 1)\n",
        "    x_test = x_test.reshape(x_test.shape[0], img_rows, img_cols, 1)\n",
        "    input_shape = (img_rows, img_cols, 1)\n",
        "\n",
        "x_train = x_train.astype('float32')\n",
        "x_test = x_test.astype('float32')\n",
        "x_train /= 255\n",
        "x_test /= 255\n",
        "print('x_train shape:', x_train.shape)\n",
        "print(x_train.shape[0], 'train samples')\n",
        "print(x_test.shape[0], 'test samples')\n",
        "\n",
        "# convert class vectors to binary class matrices\n",
        "y_train = keras.utils.to_categorical(y_train, num_classes)\n",
        "y_test = keras.utils.to_categorical(y_test, num_classes)\n",
        "\n",
        "model = Sequential()\n",
        "#model.add(ZeroPadding2D(padding=(2, 2))) # Padding of 2\n",
        "model.add(Conv2D(16, kernel_size=(5, 5),\n",
        "                 strides=(1, 1),\n",
        "                 activation='relu',\n",
        "                 padding=\"same\",\n",
        "                 input_shape=input_shape))\n",
        "model.add(BatchNormalization())\n",
        "model.add(MaxPooling2D(pool_size=(2, 2), strides=(2, 2), padding=\"same\"))\n",
        "#model.add(ZeroPadding2D(padding=(2, 2))) # Padding of 2\n",
        "model.add(Conv2D(32, kernel_size=(5, 5), \n",
        "                 strides=(1, 1),\n",
        "                 activation='relu', \n",
        "                 padding=\"same\"))\n",
        "model.add(BatchNormalization())\n",
        "model.add(MaxPooling2D(pool_size=(2, 2), strides=(2, 2), padding=\"same\"))\n",
        "model.add(Flatten())\n",
        "#model.add(Dense(num_classes))\n",
        "#model.add(Dense(128, activation='relu'))\n",
        "model.add(Dense(num_classes, activation='softmax')) # Should I have softmax here?\n",
        "\n",
        "model.compile(loss=keras.losses.categorical_crossentropy,\n",
        "              optimizer=keras.optimizers.Adam(learning_rate=0.0001),\n",
        "              metrics=['accuracy']) # updated to Adam and learning rate\n",
        "\n",
        "history = model.fit(x_train, y_train,\n",
        "          batch_size=batch_size,\n",
        "          epochs=epochs,\n",
        "          verbose=1,\n",
        "          validation_data=(x_test, y_test))\n",
        "score = model.evaluate(x_test, y_test, verbose=0)\n",
        "print('Test loss:', score[0])\n",
        "print('Test accuracy:', score[1])\n",
        "\n",
        "# # Convolutional neural network (two convolutional layers)\n",
        "# class ConvNet(nn.Module):\n",
        "#     def __init__(self, num_classes=10):\n",
        "#         super(ConvNet, self).__init__()\n",
        "#         self.layer1 = nn.Sequential(\n",
        "#             nn.Conv2d(1, 16, kernel_size=5, stride=1, padding=2),\n",
        "#             nn.BatchNorm2d(16),\n",
        "#             nn.ReLU(),\n",
        "#             nn.MaxPool2d(kernel_size=2, stride=2)\n",
        "#             )\n",
        "#         self.layer2 = nn.Sequential(\n",
        "#             nn.Conv2d(16, 32, kernel_size=5, stride=1, padding=2),\n",
        "#             nn.BatchNorm2d(32),\n",
        "#             nn.ReLU(),\n",
        "#             nn.MaxPool2d(kernel_size=2, stride=2))\n",
        "#         self.fc = nn.Linear(7*7*32, num_classes)\n",
        "        \n",
        "#     def forward(self, x):\n",
        "#         out = self.layer1(x)\n",
        "#         out = self.layer2(out)\n",
        "#         out = out.reshape(out.size(0), -1)\n",
        "#         out = self.fc(out)\n",
        "#         return out\n",
        "\n",
        "# model = ConvNet(num_classes).to(device)"
      ],
      "execution_count": 2,
      "outputs": [
        {
          "output_type": "stream",
          "text": [
            "Downloading data from https://storage.googleapis.com/tensorflow/tf-keras-datasets/mnist.npz\n",
            "11493376/11490434 [==============================] - 0s 0us/step\n",
            "x_train shape: (60000, 28, 28, 1)\n",
            "60000 train samples\n",
            "10000 test samples\n",
            "Epoch 1/6\n",
            "600/600 [==============================] - 74s 123ms/step - loss: 0.4588 - accuracy: 0.8621 - val_loss: 0.2149 - val_accuracy: 0.9463\n",
            "Epoch 2/6\n",
            "600/600 [==============================] - 74s 123ms/step - loss: 0.1217 - accuracy: 0.9646 - val_loss: 0.0920 - val_accuracy: 0.9714\n",
            "Epoch 3/6\n",
            "600/600 [==============================] - 74s 123ms/step - loss: 0.0797 - accuracy: 0.9767 - val_loss: 0.0674 - val_accuracy: 0.9780\n",
            "Epoch 4/6\n",
            "600/600 [==============================] - 73s 122ms/step - loss: 0.0595 - accuracy: 0.9825 - val_loss: 0.0550 - val_accuracy: 0.9815\n",
            "Epoch 5/6\n",
            "600/600 [==============================] - 74s 123ms/step - loss: 0.0471 - accuracy: 0.9862 - val_loss: 0.0492 - val_accuracy: 0.9832\n",
            "Epoch 6/6\n",
            "600/600 [==============================] - 74s 123ms/step - loss: 0.0385 - accuracy: 0.9887 - val_loss: 0.0437 - val_accuracy: 0.9843\n",
            "Test loss: 0.04370295628905296\n",
            "Test accuracy: 0.9843000173568726\n"
          ],
          "name": "stdout"
        }
      ]
    },
    {
      "cell_type": "code",
      "metadata": {
        "colab": {
          "base_uri": "https://localhost:8080/",
          "height": 590
        },
        "id": "Mb2RtZtzZHtJ",
        "outputId": "35502477-b9d2-43f0-91f9-73e9e089f2c5"
      },
      "source": [
        "\n",
        "# list all data in history\n",
        "print(history.history.keys())\n",
        "# summarize history for accuracy\n",
        "plt.plot(history.history['accuracy'])\n",
        "plt.plot(history.history['val_accuracy'])\n",
        "plt.title('model accuracy')\n",
        "plt.ylabel('accuracy')\n",
        "plt.xlabel('epoch')\n",
        "plt.legend(['train', 'test'], loc='upper left')\n",
        "plt.show()\n",
        "# summarize history for loss\n",
        "plt.plot(history.history['loss'])\n",
        "plt.plot(history.history['val_loss'])\n",
        "plt.title('model loss')\n",
        "plt.ylabel('loss')\n",
        "plt.xlabel('epoch')\n",
        "plt.legend(['train', 'test'], loc='upper left')\n",
        "plt.show()\n",
        "\n"
      ],
      "execution_count": 3,
      "outputs": [
        {
          "output_type": "stream",
          "text": [
            "dict_keys(['loss', 'accuracy', 'val_loss', 'val_accuracy'])\n"
          ],
          "name": "stdout"
        },
        {
          "output_type": "display_data",
          "data": {
            "image/png": "[encoded data removed]",
            "text/plain": [
              "<Figure size 432x288 with 1 Axes>"
            ]
          },
          "metadata": {
            "tags": [],
            "needs_background": "light"
          }
        },
        {
          "output_type": "display_data",
          "data": {
            "image/png": "[encoded data removed]",
            "text/plain": [
              "<Figure size 432x288 with 1 Axes>"
            ]
          },
          "metadata": {
            "tags": [],
            "needs_background": "light"
          }
        }
      ]
    },
    {
      "cell_type": "code",
      "metadata": {
        "id": "fSn3SfpWZQpB"
      },
      "source": [
        "predictions = model.predict(x_test, verbose=0)\n",
        "\n"
      ],
      "execution_count": 4,
      "outputs": []
    },
    {
      "cell_type": "code",
      "metadata": {
        "colab": {
          "base_uri": "https://localhost:8080/"
        },
        "id": "lI1FQYVFZSNw",
        "outputId": "6c970a3c-1104-4761-831e-354c4739a3f6"
      },
      "source": [
        "\n",
        "\n",
        "yitest = np.argmax(y_test, axis=1)\n",
        "\n",
        "yptest = np.argmax(predictions, axis=1)\n",
        "print (yitest)\n",
        "print (yptest)"
      ],
      "execution_count": 5,
      "outputs": [
        {
          "output_type": "stream",
          "text": [
            "[7 2 1 ... 4 5 6]\n",
            "[7 2 1 ... 4 5 6]\n"
          ],
          "name": "stdout"
        }
      ]
    },
    {
      "cell_type": "code",
      "metadata": {
        "colab": {
          "base_uri": "https://localhost:8080/"
        },
        "id": "rqWTStjZZTon",
        "outputId": "ae548a9d-d12d-49c8-b740-4a901e04bbe5"
      },
      "source": [
        "## For analysis show also the confusion matrix\n",
        "\n",
        "\n",
        "\n",
        "cfm = confusion_matrix(yitest, yptest)\n",
        "print (cfm)"
      ],
      "execution_count": 6,
      "outputs": [
        {
          "output_type": "stream",
          "text": [
            "[[ 974    0    0    1    0    0    3    1    1    0]\n",
            " [   0 1128    3    0    0    0    2    1    1    0]\n",
            " [   1    0 1021    2    1    0    1    4    1    1]\n",
            " [   0    0    3  991    0    9    0    4    2    1]\n",
            " [   0    1    0    0  970    0    1    2    1    7]\n",
            " [   2    0    1    4    0  883    1    0    1    0]\n",
            " [   5    4    0    0    1    7  939    0    2    0]\n",
            " [   0    3   14    2    1    1    0 1001    1    5]\n",
            " [   3    0    3    2    1    5    1    1  955    3]\n",
            " [   2    3    1    2    5    6    0    5    4  981]]\n"
          ],
          "name": "stdout"
        }
      ]
    },
    {
      "cell_type": "code",
      "metadata": {
        "colab": {
          "base_uri": "https://localhost:8080/",
          "height": 314
        },
        "id": "itKalfhlZU_Y",
        "outputId": "7f4af95b-22df-46f7-874f-d2c5079e15f8"
      },
      "source": [
        "plot_confusion_matrix(cfm, classes=range(10), \n",
        "                      title='Confusion matrix for MNIST')\n",
        "\n"
      ],
      "execution_count": 7,
      "outputs": [
        {
          "output_type": "stream",
          "text": [
            "Confusion matrix, without normalization\n"
          ],
          "name": "stdout"
        },
        {
          "output_type": "display_data",
          "data": {
            "image/png": "[encoded data removed]",
            "text/plain": [
              "<Figure size 432x288 with 2 Axes>"
            ]
          },
          "metadata": {
            "tags": [],
            "needs_background": "light"
          }
        }
      ]
    },
    {
      "cell_type": "code",
      "metadata": {
        "colab": {
          "background_save": true
        },
        "id": "uVwl89rhZWSB"
      },
      "source": [
        ""
      ],
      "execution_count": null,
      "outputs": []
    }
  ]
}