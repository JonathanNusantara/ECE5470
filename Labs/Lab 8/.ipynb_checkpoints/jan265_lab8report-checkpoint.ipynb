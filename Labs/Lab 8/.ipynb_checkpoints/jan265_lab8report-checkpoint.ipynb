{
 "cells": [
  {
   "cell_type": "markdown",
   "metadata": {},
   "source": [
    "# Section 1\n",
    "### In this section, we will first be evaluating the two provided models in pytorch and keras. Then, we will be creating the provided pytorch model in keras, and vice versa, to compare their performances and results in the two frameworks."
   ]
  },
  {
   "cell_type": "markdown",
   "metadata": {},
   "source": [
    "## Provided keras model (labkeras2.ipynb) without GPU\n",
    "### The first step is to import libraries and create functions that are needed."
   ]
  },
  {
   "cell_type": "code",
   "execution_count": 1,
   "metadata": {
    "id": "lVxvxJKTYqhe"
   },
   "outputs": [],
   "source": [
    "import numpy as np\n",
    "from sklearn.metrics import confusion_matrix\n",
    "import itertools\n",
    "import matplotlib.pyplot as plt\n",
    "\n",
    "def plot_confusion_matrix(cm, classes,\n",
    "                          normalize=False,\n",
    "                          title='Confusion matrix',\n",
    "                          cmap=plt.cm.Blues):\n",
    "    \"\"\"\n",
    "    This function prints and plots the confusion matrix.\n",
    "    Normalization can be applied by setting `normalize=True`.\n",
    "    \"\"\"\n",
    "    if normalize:\n",
    "        cm = cm.astype('float') / cm.sum(axis=1)[:, np.newaxis]\n",
    "        print(\"Normalized confusion matrix\")\n",
    "    else:\n",
    "        print('Confusion matrix, without normalization')\n",
    "\n",
    "    #print(cm)\n",
    "\n",
    "    plt.imshow(cm, interpolation='nearest', cmap=cmap)\n",
    "    plt.title(title)\n",
    "    plt.colorbar()\n",
    "    tick_marks = np.arange(len(classes))\n",
    "    plt.xticks(tick_marks, classes, rotation=45)\n",
    "    plt.yticks(tick_marks, classes)\n",
    "\n",
    "    fmt = '.2f' if normalize else 'd'\n",
    "    thresh = cm.max() / 2.\n",
    "    for i, j in itertools.product(range(cm.shape[0]), range(cm.shape[1])):\n",
    "        plt.text(j, i, format(cm[i, j], fmt),\n",
    "                 horizontalalignment=\"center\",\n",
    "                 color=\"white\" if cm[i, j] > thresh else \"black\")\n",
    "\n",
    "    plt.ylabel('True label')\n",
    "    plt.xlabel('Predicted label')\n",
    "    plt.tight_layout()"
   ]
  },
  {
   "cell_type": "markdown",
   "metadata": {},
   "source": [
    "### Next, the hyperparameters for the model is set. Then, the model is trained and tested."
   ]
  },
  {
   "cell_type": "code",
   "execution_count": 2,
   "metadata": {
    "colab": {
     "base_uri": "https://localhost:8080/"
    },
    "id": "iKKQ3hkUDJLm",
    "outputId": "c1304430-8622-4d21-e29e-8a8afa48f71f"
   },
   "outputs": [
    {
     "name": "stdout",
     "output_type": "stream",
     "text": [
      "Downloading data from https://storage.googleapis.com/tensorflow/tf-keras-datasets/mnist.npz\n",
      "11493376/11490434 [==============================] - 0s 0us/step\n",
      "x_train shape: (60000, 28, 28, 1)\n",
      "60000 train samples\n",
      "10000 test samples\n",
      "Epoch 1/12\n",
      "469/469 [==============================] - 142s 302ms/step - loss: 2.2854 - accuracy: 0.1444 - val_loss: 2.2510 - val_accuracy: 0.3076\n",
      "Epoch 2/12\n",
      "469/469 [==============================] - 141s 302ms/step - loss: 2.2303 - accuracy: 0.2631 - val_loss: 2.1850 - val_accuracy: 0.5198\n",
      "Epoch 3/12\n",
      "469/469 [==============================] - 141s 301ms/step - loss: 2.1597 - accuracy: 0.3714 - val_loss: 2.0920 - val_accuracy: 0.6247\n",
      "Epoch 4/12\n",
      "469/469 [==============================] - 147s 314ms/step - loss: 2.0584 - accuracy: 0.4541 - val_loss: 1.9587 - val_accuracy: 0.6628\n",
      "Epoch 5/12\n",
      "469/469 [==============================] - 142s 302ms/step - loss: 1.9207 - accuracy: 0.5153 - val_loss: 1.7793 - val_accuracy: 0.7006\n",
      "Epoch 6/12\n",
      "469/469 [==============================] - 141s 301ms/step - loss: 1.7466 - accuracy: 0.5603 - val_loss: 1.5624 - val_accuracy: 0.7385\n",
      "Epoch 7/12\n",
      "469/469 [==============================] - 142s 302ms/step - loss: 1.5553 - accuracy: 0.6023 - val_loss: 1.3406 - val_accuracy: 0.7674\n",
      "Epoch 8/12\n",
      "469/469 [==============================] - 142s 302ms/step - loss: 1.3804 - accuracy: 0.6309 - val_loss: 1.1462 - val_accuracy: 0.7863\n",
      "Epoch 9/12\n",
      "469/469 [==============================] - 142s 302ms/step - loss: 1.2362 - accuracy: 0.6547 - val_loss: 0.9918 - val_accuracy: 0.8022\n",
      "Epoch 10/12\n",
      "469/469 [==============================] - 141s 302ms/step - loss: 1.1231 - accuracy: 0.6780 - val_loss: 0.8738 - val_accuracy: 0.8134\n",
      "Epoch 11/12\n",
      "469/469 [==============================] - 141s 302ms/step - loss: 1.0275 - accuracy: 0.7007 - val_loss: 0.7843 - val_accuracy: 0.8214\n",
      "Epoch 12/12\n",
      "469/469 [==============================] - 142s 302ms/step - loss: 0.9612 - accuracy: 0.7137 - val_loss: 0.7166 - val_accuracy: 0.8288\n",
      "313/313 [==============================] - 7s 21ms/step - loss: 0.7166 - accuracy: 0.8288\n",
      "Test loss: 0.7166295647621155\n",
      "Test accuracy: 0.8288000226020813\n",
      "Time Elapsed: 1715.653636 seconds\n"
     ]
    }
   ],
   "source": [
    "from __future__ import print_function\n",
    "import keras\n",
    "from keras.datasets import mnist\n",
    "from keras.models import Sequential\n",
    "from keras.layers import Dense, Dropout, Flatten\n",
    "from keras.layers import Conv2D, MaxPooling2D\n",
    "from keras import backend as K\n",
    "import time\n",
    "from datetime import datetime\n",
    "\n",
    "start_time = datetime.now()\n",
    "\n",
    "batch_size = 128\n",
    "num_classes = 10\n",
    "epochs = 12\n",
    "\n",
    "# input image dimensions\n",
    "img_rows, img_cols = 28, 28\n",
    "\n",
    "# the data, split between train and test sets\n",
    "(x_train, y_train), (x_test, y_test) = mnist.load_data()\n",
    "\n",
    "if K.image_data_format() == 'channels_first':\n",
    "    x_train = x_train.reshape(x_train.shape[0], 1, img_rows, img_cols)\n",
    "    x_test = x_test.reshape(x_test.shape[0], 1, img_rows, img_cols)\n",
    "    input_shape = (1, img_rows, img_cols)\n",
    "else:\n",
    "    x_train = x_train.reshape(x_train.shape[0], img_rows, img_cols, 1)\n",
    "    x_test = x_test.reshape(x_test.shape[0], img_rows, img_cols, 1)\n",
    "    input_shape = (img_rows, img_cols, 1)\n",
    "\n",
    "x_train = x_train.astype('float32')\n",
    "x_test = x_test.astype('float32')\n",
    "x_train /= 255\n",
    "x_test /= 255\n",
    "print('x_train shape:', x_train.shape)\n",
    "print(x_train.shape[0], 'train samples')\n",
    "print(x_test.shape[0], 'test samples')\n",
    "\n",
    "# convert class vectors to binary class matrices\n",
    "y_train = keras.utils.to_categorical(y_train, num_classes)\n",
    "y_test = keras.utils.to_categorical(y_test, num_classes)\n",
    "\n",
    "model = Sequential()\n",
    "model.add(Conv2D(32, kernel_size=(3, 3),\n",
    "                 activation='relu',\n",
    "                 input_shape=input_shape))\n",
    "model.add(Conv2D(64, (3, 3), activation='relu'))\n",
    "model.add(MaxPooling2D(pool_size=(2, 2)))\n",
    "model.add(Dropout(0.25))\n",
    "model.add(Flatten())\n",
    "model.add(Dense(128, activation='relu'))\n",
    "model.add(Dropout(0.5))\n",
    "model.add(Dense(num_classes, activation='softmax'))\n",
    "\n",
    "model.compile(loss=keras.losses.categorical_crossentropy,\n",
    "              optimizer=keras.optimizers.Adadelta(),\n",
    "              metrics=['accuracy'])\n",
    "\n",
    "history = model.fit(x_train, y_train,\n",
    "          batch_size=batch_size,\n",
    "          epochs=epochs,\n",
    "          verbose=1,\n",
    "          validation_data=(x_test, y_test))\n",
    "score = model.evaluate(x_test, y_test, verbose=1)\n",
    "print('Test loss:', score[0])\n",
    "print('Test accuracy:', score[1])\n",
    "\n",
    "print(\"Time Elapsed: {} seconds\".format((datetime.now() - start_time).total_seconds()))"
   ]
  },
  {
   "cell_type": "code",
   "execution_count": 7,
   "metadata": {
    "colab": {
     "base_uri": "https://localhost:8080/",
     "height": 590
    },
    "id": "3qPkKKxeDKsb",
    "outputId": "6bf49761-f510-4bdb-c894-08f9a528d5a3"
   },
   "outputs": [
    {
     "name": "stdout",
     "output_type": "stream",
     "text": [
      "dict_keys(['loss', 'accuracy', 'val_loss', 'val_accuracy'])\n"
     ]
    },
    {
     "data": {
      "image/png": "[encoded data removed]",
      "text/plain": [
       "<Figure size 432x288 with 1 Axes>"
      ]
     },
     "metadata": {
      "needs_background": "light",
      "tags": []
     },
     "output_type": "display_data"
    },
    {
     "data": {
      "image/png": "[encoded data removed]",
      "text/plain": [
       "<Figure size 432x288 with 1 Axes>"
      ]
     },
     "metadata": {
      "needs_background": "light",
      "tags": []
     },
     "output_type": "display_data"
    }
   ],
   "source": [
    "\n",
    "# list all data in history\n",
    "print(history.history.keys())\n",
    "# summarize history for accuracy\n",
    "plt.plot(history.history['accuracy'])\n",
    "plt.plot(history.history['val_accuracy'])\n",
    "plt.title('model accuracy')\n",
    "plt.ylabel('accuracy')\n",
    "plt.xlabel('epoch')\n",
    "plt.legend(['train', 'test'], loc='upper left')\n",
    "plt.show()\n",
    "# summarize history for loss\n",
    "plt.plot(history.history['loss'])\n",
    "plt.plot(history.history['val_loss'])\n",
    "plt.title('model loss')\n",
    "plt.ylabel('loss')\n",
    "plt.xlabel('epoch')\n",
    "plt.legend(['train', 'test'], loc='upper left')\n",
    "plt.show()\n",
    "\n"
   ]
  },
  {
   "cell_type": "markdown",
   "metadata": {},
   "source": [
    "### From the result above, we can see that the maximum training loss and accuracy are 0.9612 and 0.7137 while the maximum testing loss and accuracy are 0.7166 and 0.8228. The test runs for a long time, for 1715 seconds. We can see that for the training set, the accuracy is pretty low while the loss is pretty high. This shows that the model is not performing too well. However, for prediction we should focus on the testing results. We can see the testing accuracy is also not too high at 0.8228 while the loss is pretty high. Although the prediction is not terrible, there is room for improvement. From the plots of epochs vs loss and accuracy, it looks like the model is slightly underfitting. This can be seen by how the train accuracy is still increasing and the train loss is still decreasing at the end of the test/epochs. We may need more epochs in order to get a better trained model."
   ]
  },
  {
   "cell_type": "code",
   "execution_count": 3,
   "metadata": {
    "id": "l4loYlgCDMy2"
   },
   "outputs": [],
   "source": [
    "predictions = model.predict(x_test, verbose=0)"
   ]
  },
  {
   "cell_type": "code",
   "execution_count": 8,
   "metadata": {
    "colab": {
     "base_uri": "https://localhost:8080/"
    },
    "id": "roYfLm0BDOcd",
    "outputId": "51993950-d471-4bc8-a585-205f74095be2"
   },
   "outputs": [
    {
     "name": "stdout",
     "output_type": "stream",
     "text": [
      "[7 2 1 ... 4 5 6]\n",
      "[7 2 1 ... 4 8 6]\n"
     ]
    }
   ],
   "source": [
    "yitest = np.argmax(y_test, axis=1)\n",
    "\n",
    "yptest = np.argmax(predictions, axis=1)\n",
    "print (yitest)\n",
    "print (yptest)"
   ]
  },
  {
   "cell_type": "code",
   "execution_count": 9,
   "metadata": {
    "colab": {
     "base_uri": "https://localhost:8080/"
    },
    "id": "tVssaELyDPmL",
    "outputId": "bc249938-0ccb-4913-cc20-4fb9ec4ba967"
   },
   "outputs": [
    {
     "name": "stdout",
     "output_type": "stream",
     "text": [
      "[[ 932    0    1    3    0    3   20    1   20    0]\n",
      " [   0 1086   12   10    1    0    4    0   21    1]\n",
      " [  19   25  856   20   11    0   45   25   28    3]\n",
      " [   4   14   30  881    0   11    8   28   23   11]\n",
      " [   2    7    2    0  771    0   29    6   13  152]\n",
      " [  41   32    5  162   33  525   29    5   49   11]\n",
      " [  30   20   30    0   12   14  844    1    7    0]\n",
      " [   2   42   29    3   17    0    1  884    5   45]\n",
      " [  23   47   12   86   14   14   19   23  698   38]\n",
      " [  15   22    9   13   72    6    1   51    9  811]]\n"
     ]
    }
   ],
   "source": [
    "cfm = confusion_matrix(yitest, yptest)\n",
    "print (cfm)"
   ]
  },
  {
   "cell_type": "code",
   "execution_count": 10,
   "metadata": {
    "colab": {
     "base_uri": "https://localhost:8080/",
     "height": 314
    },
    "id": "EL9vnDVwDQ0K",
    "outputId": "547244d2-ed75-4f24-ef12-750d7cbca7b0"
   },
   "outputs": [
    {
     "name": "stdout",
     "output_type": "stream",
     "text": [
      "Confusion matrix, without normalization\n"
     ]
    },
    {
     "data": {
      "image/png": "[encoded data removed]",
      "text/plain": [
       "<Figure size 432x288 with 2 Axes>"
      ]
     },
     "metadata": {
      "needs_background": "light",
      "tags": []
     },
     "output_type": "display_data"
    }
   ],
   "source": [
    "plot_confusion_matrix(cfm, classes=range(10), \n",
    "                      title='Confusion matrix for MNIST')"
   ]
  },
  {
   "cell_type": "markdown",
   "metadata": {},
   "source": [
    "### Looking at the confusion matrix above, we can see that the model is satisfactory as most of the predictions are right. Significant errors came from predicting digit 5 as 3 and digit 4 as 9. Next, we will try to run this keras model with GPU."
   ]
  },
  {
   "cell_type": "markdown",
   "metadata": {},
   "source": [
    "## Provided keras model (labkeras2.ipynb) with GPU\n",
    "### In this step, we will try to run the program with GPU and see the differences that may happen."
   ]
  },
  {
   "cell_type": "code",
   "execution_count": 2,
   "metadata": {
    "colab": {
     "base_uri": "https://localhost:8080/"
    },
    "id": "Cz9_F84WYzRu",
    "outputId": "3641ade2-a72a-47e7-a7b0-75b79c30351a"
   },
   "outputs": [
    {
     "name": "stdout",
     "output_type": "stream",
     "text": [
      "Downloading data from https://storage.googleapis.com/tensorflow/tf-keras-datasets/mnist.npz\n",
      "11493376/11490434 [==============================] - 0s 0us/step\n",
      "x_train shape: (60000, 28, 28, 1)\n",
      "60000 train samples\n",
      "10000 test samples\n",
      "Epoch 1/12\n",
      "469/469 [==============================] - 7s 15ms/step - loss: 2.2733 - accuracy: 0.1543 - val_loss: 2.2307 - val_accuracy: 0.3843\n",
      "Epoch 2/12\n",
      "469/469 [==============================] - 7s 14ms/step - loss: 2.2065 - accuracy: 0.2791 - val_loss: 2.1467 - val_accuracy: 0.5713\n",
      "Epoch 3/12\n",
      "469/469 [==============================] - 7s 14ms/step - loss: 2.1183 - accuracy: 0.3889 - val_loss: 2.0337 - val_accuracy: 0.6778\n",
      "Epoch 4/12\n",
      "469/469 [==============================] - 7s 14ms/step - loss: 1.9997 - accuracy: 0.4709 - val_loss: 1.8784 - val_accuracy: 0.7243\n",
      "Epoch 5/12\n",
      "469/469 [==============================] - 7s 14ms/step - loss: 1.8415 - accuracy: 0.5451 - val_loss: 1.6803 - val_accuracy: 0.7511\n",
      "Epoch 6/12\n",
      "469/469 [==============================] - 7s 14ms/step - loss: 1.6629 - accuracy: 0.5912 - val_loss: 1.4605 - val_accuracy: 0.7670\n",
      "Epoch 7/12\n",
      "469/469 [==============================] - 7s 14ms/step - loss: 1.4772 - accuracy: 0.6225 - val_loss: 1.2478 - val_accuracy: 0.7838\n",
      "Epoch 8/12\n",
      "469/469 [==============================] - 7s 14ms/step - loss: 1.3133 - accuracy: 0.6502 - val_loss: 1.0679 - val_accuracy: 0.8023\n",
      "Epoch 9/12\n",
      "469/469 [==============================] - 7s 14ms/step - loss: 1.1792 - accuracy: 0.6716 - val_loss: 0.9266 - val_accuracy: 0.8183\n",
      "Epoch 10/12\n",
      "469/469 [==============================] - 7s 14ms/step - loss: 1.0721 - accuracy: 0.6941 - val_loss: 0.8185 - val_accuracy: 0.8326\n",
      "Epoch 11/12\n",
      "469/469 [==============================] - 7s 14ms/step - loss: 0.9896 - accuracy: 0.7122 - val_loss: 0.7371 - val_accuracy: 0.8426\n",
      "Epoch 12/12\n",
      "469/469 [==============================] - 7s 14ms/step - loss: 0.9221 - accuracy: 0.7281 - val_loss: 0.6738 - val_accuracy: 0.8514\n",
      "313/313 [==============================] - 1s 4ms/step - loss: 0.6738 - accuracy: 0.8514\n",
      "Test loss: 0.6738036274909973\n",
      "Test accuracy: 0.8514000177383423\n",
      "Time Elapsed: 94.861842 seconds\n"
     ]
    }
   ],
   "source": [
    "from __future__ import print_function\n",
    "import keras\n",
    "from keras.datasets import mnist\n",
    "from keras.models import Sequential\n",
    "from keras.layers import Dense, Dropout, Flatten\n",
    "from keras.layers import Conv2D, MaxPooling2D\n",
    "from keras import backend as K\n",
    "import time\n",
    "from datetime import datetime\n",
    "\n",
    "start_time = datetime.now()\n",
    "\n",
    "batch_size = 128\n",
    "num_classes = 10\n",
    "epochs = 12\n",
    "\n",
    "# input image dimensions\n",
    "img_rows, img_cols = 28, 28\n",
    "\n",
    "# the data, split between train and test sets\n",
    "(x_train, y_train), (x_test, y_test) = mnist.load_data()\n",
    "\n",
    "if K.image_data_format() == 'channels_first':\n",
    "    x_train = x_train.reshape(x_train.shape[0], 1, img_rows, img_cols)\n",
    "    x_test = x_test.reshape(x_test.shape[0], 1, img_rows, img_cols)\n",
    "    input_shape = (1, img_rows, img_cols)\n",
    "else:\n",
    "    x_train = x_train.reshape(x_train.shape[0], img_rows, img_cols, 1)\n",
    "    x_test = x_test.reshape(x_test.shape[0], img_rows, img_cols, 1)\n",
    "    input_shape = (img_rows, img_cols, 1)\n",
    "\n",
    "x_train = x_train.astype('float32')\n",
    "x_test = x_test.astype('float32')\n",
    "x_train /= 255\n",
    "x_test /= 255\n",
    "print('x_train shape:', x_train.shape)\n",
    "print(x_train.shape[0], 'train samples')\n",
    "print(x_test.shape[0], 'test samples')\n",
    "\n",
    "# convert class vectors to binary class matrices\n",
    "y_train = keras.utils.to_categorical(y_train, num_classes)\n",
    "y_test = keras.utils.to_categorical(y_test, num_classes)\n",
    "\n",
    "model = Sequential()\n",
    "model.add(Conv2D(32, kernel_size=(3, 3),\n",
    "                 activation='relu',\n",
    "                 input_shape=input_shape))\n",
    "model.add(Conv2D(64, (3, 3), activation='relu'))\n",
    "model.add(MaxPooling2D(pool_size=(2, 2)))\n",
    "model.add(Dropout(0.25))\n",
    "model.add(Flatten())\n",
    "model.add(Dense(128, activation='relu'))\n",
    "model.add(Dropout(0.5))\n",
    "model.add(Dense(num_classes, activation='softmax'))\n",
    "\n",
    "model.compile(loss=keras.losses.categorical_crossentropy,\n",
    "              optimizer=keras.optimizers.Adadelta(),\n",
    "              metrics=['accuracy'])\n",
    "\n",
    "history = model.fit(x_train, y_train,\n",
    "          batch_size=batch_size,\n",
    "          epochs=epochs,\n",
    "          verbose=1,\n",
    "          validation_data=(x_test, y_test))\n",
    "score = model.evaluate(x_test, y_test, verbose=1)\n",
    "print('Test loss:', score[0])\n",
    "print('Test accuracy:', score[1])\n",
    "\n",
    "print(\"Time Elapsed: {} seconds\".format((datetime.now() - start_time).total_seconds()))"
   ]
  },
  {
   "cell_type": "code",
   "execution_count": 3,
   "metadata": {
    "colab": {
     "base_uri": "https://localhost:8080/",
     "height": 590
    },
    "id": "2dR631g5Y0qk",
    "outputId": "159bb783-fbf3-4b98-8ae9-8fb209e9601b"
   },
   "outputs": [
    {
     "name": "stdout",
     "output_type": "stream",
     "text": [
      "dict_keys(['loss', 'accuracy', 'val_loss', 'val_accuracy'])\n"
     ]
    },
    {
     "data": {
      "image/png": "[encoded data removed]",
      "text/plain": [
       "<Figure size 432x288 with 1 Axes>"
      ]
     },
     "metadata": {
      "needs_background": "light",
      "tags": []
     },
     "output_type": "display_data"
    },
    {
     "data": {
      "image/png": "[encoded data removed]",
      "text/plain": [
       "<Figure size 432x288 with 1 Axes>"
      ]
     },
     "metadata": {
      "needs_background": "light",
      "tags": []
     },
     "output_type": "display_data"
    }
   ],
   "source": [
    "\n",
    "# list all data in history\n",
    "print(history.history.keys())\n",
    "# summarize history for accuracy\n",
    "plt.plot(history.history['accuracy'])\n",
    "plt.plot(history.history['val_accuracy'])\n",
    "plt.title('model accuracy')\n",
    "plt.ylabel('accuracy')\n",
    "plt.xlabel('epoch')\n",
    "plt.legend(['train', 'test'], loc='upper left')\n",
    "plt.show()\n",
    "# summarize history for loss\n",
    "plt.plot(history.history['loss'])\n",
    "plt.plot(history.history['val_loss'])\n",
    "plt.title('model loss')\n",
    "plt.ylabel('loss')\n",
    "plt.xlabel('epoch')\n",
    "plt.legend(['train', 'test'], loc='upper left')\n",
    "plt.show()"
   ]
  },
  {
   "cell_type": "markdown",
   "metadata": {},
   "source": [
    "### When running the keras model with GPU, it has a train loss and accuracy of 0.9221 and 0.7281 and test loss and accuracy of 0.6738 and 0.8514. These results are very similar to when GPU was not used, which shows that GPU will not provide prediction improvements. Based on the plot, this model is also underfitting. However, the speed of the training and testing significantly increases from 1715s to only 94s. As a result, we should run it with GPU when available as it does not seem to cause any decrease in performance, and instead improve the speed."
   ]
  },
  {
   "cell_type": "code",
   "execution_count": 4,
   "metadata": {
    "id": "ue1pZvWlY2lL"
   },
   "outputs": [],
   "source": [
    "predictions = model.predict(x_test, verbose=0)"
   ]
  },
  {
   "cell_type": "code",
   "execution_count": 5,
   "metadata": {
    "colab": {
     "base_uri": "https://localhost:8080/"
    },
    "id": "6bGvhC7yY4Fa",
    "outputId": "4c463d28-a77d-4da5-e445-c6b9f613f958"
   },
   "outputs": [
    {
     "name": "stdout",
     "output_type": "stream",
     "text": [
      "[7 2 1 ... 4 5 6]\n",
      "[7 2 1 ... 4 8 6]\n"
     ]
    }
   ],
   "source": [
    "yitest = np.argmax(y_test, axis=1)\n",
    "\n",
    "yptest = np.argmax(predictions, axis=1)\n",
    "print (yitest)\n",
    "print (yptest)"
   ]
  },
  {
   "cell_type": "code",
   "execution_count": 6,
   "metadata": {
    "colab": {
     "base_uri": "https://localhost:8080/"
    },
    "id": "2cjvmr0iY5PD",
    "outputId": "b869a900-a92b-4238-997d-061c69a71c45"
   },
   "outputs": [
    {
     "name": "stdout",
     "output_type": "stream",
     "text": [
      "[[ 942    0    1    3    0    2   21    1   10    0]\n",
      " [   0 1084    3   10    0    2    5    0   30    1]\n",
      " [  20    6  885   12   13    0   34   24   37    1]\n",
      " [   5    8   33  896    0    8    6   24   21    9]\n",
      " [   2   10    4    0  847    0   31    2   11   75]\n",
      " [  29   15   10  146   32  571   25    8   40   16]\n",
      " [  25   20    8    0    8   17  879    0    1    0]\n",
      " [   1   39   32    1   17    0    2  885   11   40]\n",
      " [  13   30   11   69   12   14   14   15  775   21]\n",
      " [  16   21    7   15  140    2    5   41   12  750]]\n"
     ]
    }
   ],
   "source": [
    "cfm = confusion_matrix(yitest, yptest)\n",
    "print (cfm)"
   ]
  },
  {
   "cell_type": "code",
   "execution_count": 7,
   "metadata": {
    "colab": {
     "base_uri": "https://localhost:8080/",
     "height": 314
    },
    "id": "rSyGzMSMY6dD",
    "outputId": "bad58fe9-8c41-4031-f331-bb7b707fa7fe"
   },
   "outputs": [
    {
     "name": "stdout",
     "output_type": "stream",
     "text": [
      "Confusion matrix, without normalization\n"
     ]
    },
    {
     "data": {
      "image/png": "[encoded data removed]",
      "text/plain": [
       "<Figure size 432x288 with 2 Axes>"
      ]
     },
     "metadata": {
      "needs_background": "light",
      "tags": []
     },
     "output_type": "display_data"
    }
   ],
   "source": [
    "plot_confusion_matrix(cfm, classes=range(10), \n",
    "                      title='Confusion matrix for MNIST')"
   ]
  },
  {
   "cell_type": "markdown",
   "metadata": {},
   "source": [
    "### The confusion matrix of the GPU and non-GPU experiment of the keras model is very similar and consistent with each other."
   ]
  },
  {
   "cell_type": "markdown",
   "metadata": {},
   "source": [
    "## Provided pytorch model (labpytorch2.ipynb) without GPU"
   ]
  },
  {
   "cell_type": "markdown",
   "metadata": {},
   "source": [
    "### Below is the code to run the provided pytorch model. We will run and see its performance. Similar to the Keras model, the first step is to import the required libraries and extract the MNIST dataset as training and testing set."
   ]
  },
  {
   "cell_type": "code",
   "execution_count": null,
   "metadata": {
    "id": "-5mF8IK32_yd",
    "outputId": "0e684b80-84b5-4e91-aea9-f0c8386fc31d"
   },
   "outputs": [
    {
     "name": "stderr",
     "output_type": "stream",
     "text": [
      "6.0%"
     ]
    },
    {
     "name": "stdout",
     "output_type": "stream",
     "text": [
      "Downloading http://yann.lecun.com/exdb/mnist/train-images-idx3-ubyte.gz to ./data/MNIST/raw/train-images-idx3-ubyte.gz\n"
     ]
    },
    {
     "name": "stderr",
     "output_type": "stream",
     "text": [
      "100.1%"
     ]
    },
    {
     "name": "stdout",
     "output_type": "stream",
     "text": [
      "Extracting ./data/MNIST/raw/train-images-idx3-ubyte.gz to ./data/MNIST/raw\n"
     ]
    },
    {
     "name": "stderr",
     "output_type": "stream",
     "text": [
      "0.5%5%"
     ]
    },
    {
     "name": "stdout",
     "output_type": "stream",
     "text": [
      "Downloading http://yann.lecun.com/exdb/mnist/train-labels-idx1-ubyte.gz to ./data/MNIST/raw/train-labels-idx1-ubyte.gz\n",
      "Extracting ./data/MNIST/raw/train-labels-idx1-ubyte.gz to ./data/MNIST/raw\n",
      "Downloading http://yann.lecun.com/exdb/mnist/t10k-images-idx3-ubyte.gz to ./data/MNIST/raw/t10k-images-idx3-ubyte.gz\n"
     ]
    },
    {
     "name": "stderr",
     "output_type": "stream",
     "text": [
      "180.4%"
     ]
    },
    {
     "name": "stdout",
     "output_type": "stream",
     "text": [
      "Extracting ./data/MNIST/raw/t10k-images-idx3-ubyte.gz to ./data/MNIST/raw\n",
      "Downloading http://yann.lecun.com/exdb/mnist/t10k-labels-idx1-ubyte.gz to ./data/MNIST/raw/t10k-labels-idx1-ubyte.gz\n",
      "Extracting ./data/MNIST/raw/t10k-labels-idx1-ubyte.gz to ./data/MNIST/raw\n",
      "Processing...\n",
      "Done!\n"
     ]
    }
   ],
   "source": [
    "import time\n",
    "import torch \n",
    "import torch.nn as nn\n",
    "import torchvision\n",
    "import torchvision.transforms as transforms\n",
    "\n",
    "from matplotlib import pyplot as plt\n",
    "import numpy as np\n",
    "from datetime import datetime\n",
    "from sklearn.metrics import confusion_matrix\n",
    "import itertools\n",
    "\n",
    "# Device configuration\n",
    "device = torch.device('cuda:0' if torch.cuda.is_available() else 'cpu')\n",
    "\n",
    "# MNIST dataset\n",
    "train_dataset = torchvision.datasets.MNIST(root='./data/',\n",
    "                                           train=True, \n",
    "                                           transform=transforms.ToTensor(),\n",
    "                                           download=True)\n",
    "\n",
    "test_dataset = torchvision.datasets.MNIST(root='./data/',\n",
    "                                          train=False, \n",
    "                                          transform= transforms.ToTensor())\n",
    "                                        "
   ]
  },
  {
   "cell_type": "markdown",
   "metadata": {
    "id": "WiuDYatGKuwi"
   },
   "source": [
    "### Next, several functions are created for training, testing, and plotting purposes, such as to the plot() function and log_progress() function."
   ]
  },
  {
   "cell_type": "code",
   "execution_count": 2,
   "metadata": {
    "id": "rcJpiG9QUcax"
   },
   "outputs": [],
   "source": [
    "'''Learning Curve Plot Utility'''\n",
    "def plot(train_loss_history, val_loss_history, train_acc_history, val_acc_history):\n",
    "  fig, axs = plt.subplots(1, 2, figsize=(11,5))\n",
    "\n",
    "  ax = axs[0]\n",
    "  ax.set_title(\"Model Loss\", fontsize=12)\n",
    "  ax.plot(train_loss_history, label=\"Training\")\n",
    "  ax.plot(val_loss_history,   label=\"Validation\")\n",
    "  ax.set_xlabel(\"Epoch\",        fontsize=12)\n",
    "  ax.set_ylabel(\"Average loss\", fontsize=12)\n",
    "  ax.legend(loc=\"best\",         fontsize=12)\n",
    "\n",
    "  ax = axs[1]\n",
    "  ax.set_title(\"Model Accuracy\", fontsize=12)\n",
    "  ax.plot(train_acc_history, label=\"Training\")\n",
    "  ax.plot(val_acc_history,   label=\"Validation\")\n",
    "  ax.set_xlabel(\"Epoch\",        fontsize=12)\n",
    "  ax.set_ylabel(\"Accuracy\",     fontsize=12)\n",
    "  ax.set_ylim(0,1)\n",
    "  ax.legend(loc=\"best\",         fontsize=12)"
   ]
  },
  {
   "cell_type": "code",
   "execution_count": 3,
   "metadata": {
    "id": "GGfqtNuSSHuL"
   },
   "outputs": [],
   "source": [
    "'''Learning progress utility'''\n",
    "def log_progress(running_loss, curr_batch, batch_size, curr_epoch, total_epochs, dataloader):\n",
    "    \"\"\"\n",
    "    Prints message logging progress through training.\n",
    "    \"\"\"\n",
    "    progress = float(curr_batch + 1)/(float(len(dataloader.dataset)) / batch_size)\n",
    "    log = \"EPOCH [{}/{}]. Running Loss: {} Progress: {} % \".format(\n",
    "        curr_epoch + 1, total_epochs, round(running_loss, 2), round(progress * 100, 2))\n",
    "    print(log)"
   ]
  },
  {
   "cell_type": "markdown",
   "metadata": {},
   "source": [
    "### Next, the hyperparameters are set and train and test data are loaded."
   ]
  },
  {
   "cell_type": "code",
   "execution_count": null,
   "metadata": {
    "id": "-39H6PNyQI4x"
   },
   "outputs": [],
   "source": [
    "# Hyperparameters\n",
    "num_epochs = 6\n",
    "num_classes = 10\n",
    "batch_size = 100\n",
    "learning_rate = 0.0001"
   ]
  },
  {
   "cell_type": "code",
   "execution_count": null,
   "metadata": {
    "id": "xLGXeFkz2_yk"
   },
   "outputs": [],
   "source": [
    "# Data loader\n",
    "train_loader = torch.utils.data.DataLoader(dataset=train_dataset,\n",
    "                                           batch_size=batch_size, \n",
    "                                           shuffle=True)\n",
    "\n",
    "test_loader = torch.utils.data.DataLoader(dataset=test_dataset,\n",
    "                                          batch_size=batch_size, \n",
    "                                          shuffle=False)"
   ]
  },
  {
   "cell_type": "markdown",
   "metadata": {
    "id": "zpIzFubFLfBG"
   },
   "source": [
    "### Then, the model layers are created. In the model below, we are using two convolutional layers. In each layer, there is the convolution, batch normalization, activation, and maxpool."
   ]
  },
  {
   "cell_type": "code",
   "execution_count": null,
   "metadata": {
    "id": "n7nXTSdg2_yn"
   },
   "outputs": [],
   "source": [
    "# Convolutional neural network (two convolutional layers)\n",
    "class ConvNet(nn.Module):\n",
    "    def __init__(self, num_classes=10):\n",
    "        super(ConvNet, self).__init__()\n",
    "        self.layer1 = nn.Sequential(\n",
    "            nn.Conv2d(1, 16, kernel_size=5, stride=1, padding=2),\n",
    "            nn.BatchNorm2d(16),\n",
    "            nn.ReLU(),\n",
    "            nn.MaxPool2d(kernel_size=2, stride=2)\n",
    "            )\n",
    "        self.layer2 = nn.Sequential(\n",
    "            nn.Conv2d(16, 32, kernel_size=5, stride=1, padding=2),\n",
    "            nn.BatchNorm2d(32),\n",
    "            nn.ReLU(),\n",
    "            nn.MaxPool2d(kernel_size=2, stride=2))\n",
    "        self.fc = nn.Linear(7*7*32, num_classes)\n",
    "        \n",
    "    def forward(self, x):\n",
    "        out = self.layer1(x)\n",
    "        out = self.layer2(out)\n",
    "        out = out.reshape(out.size(0), -1)\n",
    "        out = self.fc(out)\n",
    "        return out\n",
    "\n",
    "model = ConvNet(num_classes).to(device)"
   ]
  },
  {
   "cell_type": "markdown",
   "metadata": {
    "id": "DQhKowFgy1ty"
   },
   "source": [
    "### Next, the model is then trained and tested as below. "
   ]
  },
  {
   "cell_type": "code",
   "execution_count": null,
   "metadata": {
    "colab": {
     "base_uri": "https://localhost:8080/",
     "height": 1000
    },
    "id": "nL5ha6WXRbYp",
    "outputId": "4783d15b-cb77-4604-971f-0d7f513ea7e2"
   },
   "outputs": [
    {
     "name": "stdout",
     "output_type": "stream",
     "text": [
      "EPOCH [1/6]. Running Loss: 184.41 Progress: 33.33 % \n",
      "EPOCH [1/6]. Running Loss: 241.21 Progress: 66.67 % \n",
      "EPOCH [1/6]. Running Loss: 277.97 Progress: 100.0 % \n",
      "Train Avg. Loss: [0.122] Acc: 0.8938 on 60000.0 images\n",
      "Validating...\n",
      "Val Avg. Loss: [0.2022] Acc: 0.9645 on 10000.0 images\n",
      "\n",
      "EPOCH [2/6]. Running Loss: 27.81 Progress: 33.33 % \n",
      "EPOCH [2/6]. Running Loss: 50.74 Progress: 66.67 % \n",
      "EPOCH [2/6]. Running Loss: 71.42 Progress: 100.0 % \n",
      "Train Avg. Loss: [0.1179] Acc: 0.9699 on 60000.0 images\n",
      "Validating...\n",
      "Val Avg. Loss: [0.1036] Acc: 0.9775 on 10000.0 images\n",
      "\n",
      "EPOCH [3/6]. Running Loss: 17.01 Progress: 33.33 % \n",
      "EPOCH [3/6]. Running Loss: 33.09 Progress: 66.67 % \n",
      "EPOCH [3/6]. Running Loss: 48.81 Progress: 100.0 % \n",
      "Train Avg. Loss: [0.0896] Acc: 0.9787 on 60000.0 images\n",
      "Validating...\n",
      "Val Avg. Loss: [0.0805] Acc: 0.982 on 10000.0 images\n",
      "\n",
      "EPOCH [4/6]. Running Loss: 13.55 Progress: 33.33 % \n",
      "EPOCH [4/6]. Running Loss: 26.1 Progress: 66.67 % \n",
      "EPOCH [4/6]. Running Loss: 38.56 Progress: 100.0 % \n",
      "Train Avg. Loss: [0.0438] Acc: 0.9823 on 60000.0 images\n",
      "Validating...\n",
      "Val Avg. Loss: [0.0562] Acc: 0.9835 on 10000.0 images\n",
      "\n",
      "EPOCH [5/6]. Running Loss: 12.25 Progress: 33.33 % \n",
      "EPOCH [5/6]. Running Loss: 22.65 Progress: 66.67 % \n",
      "EPOCH [5/6]. Running Loss: 32.4 Progress: 100.0 % \n",
      "Train Avg. Loss: [0.0146] Acc: 0.9853 on 60000.0 images\n",
      "Validating...\n",
      "Val Avg. Loss: [0.0387] Acc: 0.9843 on 10000.0 images\n",
      "\n",
      "EPOCH [6/6]. Running Loss: 9.29 Progress: 33.33 % \n",
      "EPOCH [6/6]. Running Loss: 18.32 Progress: 66.67 % \n",
      "EPOCH [6/6]. Running Loss: 28.39 Progress: 100.0 % \n",
      "Train Avg. Loss: [0.0306] Acc: 0.9866 on 60000.0 images\n",
      "Validating...\n",
      "Val Avg. Loss: [0.0318] Acc: 0.9865 on 10000.0 images\n",
      "\n",
      "Time Elapsed: 548.182731 seconds\n"
     ]
    }
   ],
   "source": [
    "# Loss and optimizer\n",
    "criterion = nn.CrossEntropyLoss()\n",
    "optimizer = torch.optim.Adam(model.parameters(), lr=learning_rate)\n",
    "\n",
    "# Keep track of average losses, training accuracy and validation accuracy for each epoch\n",
    "train_loss_history = np.zeros(num_epochs)\n",
    "train_acc_history  = np.zeros(num_epochs)\n",
    "val_loss_history   = np.zeros(num_epochs)\n",
    "val_acc_history    = np.zeros(num_epochs)\n",
    "\n",
    "start_time = datetime.now()\n",
    "\n",
    "for epoch in range(num_epochs):\n",
    "    \n",
    "    # Place network in training mode\n",
    "    model.train()\n",
    "    \n",
    "    # Initialize running epoch loss and number correctly classified\n",
    "    running_loss   = 0.0\n",
    "    num_correct    = 0.0\n",
    "    total_images   = 0.0\n",
    "    \n",
    "    for batch_num, (inputs, labels) in enumerate(train_loader):\n",
    "        # [inputs] and [labels] is one batch of images and their classes\n",
    "        inputs = inputs.to(device)\n",
    "        labels = labels.to(device)\n",
    "        \n",
    "        # Forward pass\n",
    "        outputs = model(inputs)\n",
    "        loss = criterion(outputs, labels)\n",
    "        \n",
    "        # Backward and optimize\n",
    "        optimizer.zero_grad()\n",
    "        loss.backward()\n",
    "        optimizer.step()\n",
    "\n",
    "        # Update statistics for this batch\n",
    "        curr_loss = loss.item()\n",
    "        _, preds = torch.max(outputs, 1)\n",
    "        curr_images = labels.cpu().data.numpy().size\n",
    "        curr_correct = torch.sum(preds == labels.data.reshape(-1))\n",
    "\n",
    "        # Update running statistics for this epoch\n",
    "        running_loss += curr_loss\n",
    "        num_correct += curr_correct\n",
    "        total_images += curr_images\n",
    "\n",
    "        # Log Progress every 200 batches\n",
    "        if (batch_num + 1) % 200 == 0:\n",
    "          log_progress(running_loss, batch_num, batch_size, epoch, num_epochs, train_loader)\n",
    "\n",
    "    # Update statistics for epoch\n",
    "    train_loss_history[epoch] = curr_loss #running_loss / total_images\n",
    "    train_acc_history[epoch]  = float(num_correct)  / float(total_images)\n",
    "    print(\"Train Avg. Loss: [{}] Acc: {} on {} images\".format(\n",
    "        round(train_loss_history[epoch],4), round(train_acc_history[epoch],4), total_images) )\n",
    "    \n",
    "    # ============================ Validation ==============================\n",
    "    print(\"Validating...\")\n",
    "    # Place network in testing mode (won't need to keep track of gradients)\n",
    "    model.eval()\n",
    "    \n",
    "    running_loss   = 0.0\n",
    "    num_correct    = 0.0\n",
    "    total_images   = 0.0\n",
    "    \n",
    "    for batch_num, (inputs, labels) in enumerate(test_loader):\n",
    "        inputs = inputs.to(device)\n",
    "        labels = labels.to(device)\n",
    "\n",
    "        # Propagate batch through network\n",
    "        outputs  = model(inputs)\n",
    "        loss     = criterion(outputs, labels.squeeze())\n",
    "        _, preds = torch.max(outputs, 1)\n",
    "        \n",
    "        # Update statistics for this batch\n",
    "        running_loss  += loss.item()\n",
    "        num_correct   += torch.sum(preds == labels.data.reshape(-1))\n",
    "        total_images  += labels.cpu().data.numpy().size\n",
    "        \n",
    "        # Log Progress every 200 batches\n",
    "        if (batch_num + 1) % 200 == 0:\n",
    "          log_progress(running_loss, batch_num, batch_size, epoch, num_epochs, test_loader)    \n",
    "\n",
    "    # Update statistics for validation data\n",
    "    val_loss_history[epoch] = loss.item() #running_loss / total_images\n",
    "    val_acc_history[epoch]  = float(num_correct)  / float(total_images) \n",
    "    print(\"Val Avg. Loss: [{}] Acc: {} on {} images\\n\".format(\n",
    "        round(val_loss_history[epoch],4), val_acc_history[epoch], total_images))\n",
    "    \n",
    "print(\"Time Elapsed: {} seconds\".format((datetime.now() - start_time).total_seconds()))"
   ]
  },
  {
   "cell_type": "markdown",
   "metadata": {
    "id": "w-OwOoFGfJf_"
   },
   "source": [
    "## Learning curve plots"
   ]
  },
  {
   "cell_type": "code",
   "execution_count": null,
   "metadata": {
    "id": "2M6X1oyvfJf_",
    "outputId": "01f3442d-2ad2-4218-80e1-cf403b3d0e5f"
   },
   "outputs": [
    {
     "data": {
      "image/png": "[encoded data removed]",
      "text/plain": [
       "<Figure size 792x360 with 2 Axes>"
      ]
     },
     "metadata": {
      "needs_background": "light",
      "tags": []
     },
     "output_type": "display_data"
    }
   ],
   "source": [
    "plot(train_loss_history, val_loss_history, train_acc_history, val_acc_history)"
   ]
  },
  {
   "cell_type": "code",
   "execution_count": null,
   "metadata": {
    "id": "mq4-S5-wfJgA",
    "outputId": "16cd6181-c130-48e0-ff23-3d18d14034be"
   },
   "outputs": [
    {
     "name": "stdout",
     "output_type": "stream",
     "text": [
      "Test Accuracy of the model on the 10000 test images: 98.65 %\n"
     ]
    }
   ],
   "source": [
    "# Test the model\n",
    "ytest = []\n",
    "rtest = np.ones((0,10))\n",
    "model.eval()  # eval mode (batchnorm uses moving mean/variance instead of mini-batch mean/variance)\n",
    "with torch.no_grad():\n",
    "    correct = 0\n",
    "    total = 0\n",
    "    for images, labels in test_loader:\n",
    "        ytest = np.append(ytest, labels)\n",
    "        images = images.to(device)\n",
    "        labels = labels.to(device)\n",
    "        outputs = model(images)\n",
    "        _, predicted = torch.max(outputs.data, 1)\n",
    "        total += labels.size(0)\n",
    "        correct += (predicted == labels).sum().item()\n",
    "        rtest = np.append(rtest, outputs, axis=0)\n",
    "print('Test Accuracy of the model on the 10000 test images: {} %'.format(100 * correct / total))"
   ]
  },
  {
   "cell_type": "markdown",
   "metadata": {},
   "source": [
    "### From the plots and printed results above, we can see that the model is pretty good. The test runs for 548 seconds. It has a training accuracy of 0.9866 and training loss of 0.0306, which is very good. Additionally, it has testing accuracy of 0.9865 and testing loss of 0.0318, which is almost a perfect prediction for testing data. Looking at the model accuracy plot, we can see that there are no overfitting, which is when the model starts to learn noise instead of meaningful information from the training set. We can tell that there are no overfitting because in the epoch vs accuracy plot, the accuracy continues to increase as epochs increases. We can also see that the loss for both train and test continues to decrease through epochs. It is great to see that the model is able to get this kind of accuracy with this little epoch. It is possible to get an even better prediction with higher epochs, as long as it is not overfitting (which has not been seen)."
   ]
  },
  {
   "cell_type": "code",
   "execution_count": null,
   "metadata": {
    "id": "HKEzSuayfJgA",
    "outputId": "86876832-85bc-494c-cf20-c37f66c45d78"
   },
   "outputs": [
    {
     "name": "stdout",
     "output_type": "stream",
     "text": [
      "Confusion matrix, without normalization\n"
     ]
    },
    {
     "data": {
      "image/png": "[encoded data removed]",
      "text/plain": [
       "<Figure size 432x288 with 2 Axes>"
      ]
     },
     "metadata": {
      "needs_background": "light",
      "tags": []
     },
     "output_type": "display_data"
    }
   ],
   "source": [
    "cfm = confusion_matrix(np.argmax (rtest,axis=1), ytest)\n",
    "plot_confusion_matrix(cfm, classes=range(10), \n",
    "                      title='Confusion matrix for MNIST')"
   ]
  },
  {
   "cell_type": "markdown",
   "metadata": {},
   "source": [
    "### From the confusion matrix above, we can see that the model performs extremely well. Beside the blue diagonal boxes that shows correct predictions, there are barely any other \"blue\" boxes in the plot, showing that there are no other significant misclassified labels.\n",
    "\n",
    "### Just by comparing the results of the keras and pytorch provided models (without GPU), we can clearly see that the pytorch model has a much better performance in predicting the MNIST data. Based on the testing accuracy, the result was 98.65% vs 82.28%. Despite both having mainly 2 convolutional layers, they do have a different structure. The Keras model did not perform Batch Normalization, only performed MaxPooling once, and performed DropOuts twice. On the other hand, the PyTorch model has Batch Normalization and MaxPooling in every convolutional layer, and did not perform any dropouts. The result shows how the keras model is slightly underfitting while the pytorch model performs really well. As a result, if we are to choose a model, we should go with the pytorch model.\n",
    "\n",
    "### Next, we will try to run this pytorch model with GPU to see the differences that it may cause."
   ]
  },
  {
   "cell_type": "markdown",
   "metadata": {},
   "source": [
    "## Provided pytorch model (labpytorch2.ipynb) with GPU"
   ]
  },
  {
   "cell_type": "code",
   "execution_count": 18,
   "metadata": {
    "colab": {
     "base_uri": "https://localhost:8080/"
    },
    "id": "nL5ha6WXRbYp",
    "outputId": "c9e40413-7f25-4c08-9c2e-4499278abbb6"
   },
   "outputs": [
    {
     "name": "stdout",
     "output_type": "stream",
     "text": [
      "EPOCH [1/6]. Running Loss: 182.82 Progress: 33.33 % \n",
      "EPOCH [1/6]. Running Loss: 242.68 Progress: 66.67 % \n",
      "EPOCH [1/6]. Running Loss: 280.86 Progress: 100.0 % \n",
      "Train Avg. Loss: [0.1478] Acc: 0.8919 on 60000.0 images\n",
      "Validating...\n",
      "Val Avg. Loss: [0.2343] Acc: 0.963 on 10000.0 images\n",
      "\n",
      "EPOCH [2/6]. Running Loss: 28.49 Progress: 33.33 % \n",
      "EPOCH [2/6]. Running Loss: 52.73 Progress: 66.67 % \n",
      "EPOCH [2/6]. Running Loss: 73.17 Progress: 100.0 % \n",
      "Train Avg. Loss: [0.089] Acc: 0.9699 on 60000.0 images\n",
      "Validating...\n",
      "Val Avg. Loss: [0.122] Acc: 0.9758 on 10000.0 images\n",
      "\n",
      "EPOCH [3/6]. Running Loss: 17.87 Progress: 33.33 % \n",
      "EPOCH [3/6]. Running Loss: 33.43 Progress: 66.67 % \n",
      "EPOCH [3/6]. Running Loss: 47.98 Progress: 100.0 % \n",
      "Train Avg. Loss: [0.0501] Acc: 0.9793 on 60000.0 images\n",
      "Validating...\n",
      "Val Avg. Loss: [0.066] Acc: 0.9821 on 10000.0 images\n",
      "\n",
      "EPOCH [4/6]. Running Loss: 12.69 Progress: 33.33 % \n",
      "EPOCH [4/6]. Running Loss: 25.12 Progress: 66.67 % \n",
      "EPOCH [4/6]. Running Loss: 36.94 Progress: 100.0 % \n",
      "Train Avg. Loss: [0.0416] Acc: 0.9836 on 60000.0 images\n",
      "Validating...\n",
      "Val Avg. Loss: [0.045] Acc: 0.9851 on 10000.0 images\n",
      "\n",
      "EPOCH [5/6]. Running Loss: 10.56 Progress: 33.33 % \n",
      "EPOCH [5/6]. Running Loss: 20.97 Progress: 66.67 % \n",
      "EPOCH [5/6]. Running Loss: 30.84 Progress: 100.0 % \n",
      "Train Avg. Loss: [0.0802] Acc: 0.9861 on 60000.0 images\n",
      "Validating...\n",
      "Val Avg. Loss: [0.0451] Acc: 0.9866 on 10000.0 images\n",
      "\n",
      "EPOCH [6/6]. Running Loss: 9.03 Progress: 33.33 % \n",
      "EPOCH [6/6]. Running Loss: 17.88 Progress: 66.67 % \n",
      "EPOCH [6/6]. Running Loss: 26.57 Progress: 100.0 % \n",
      "Train Avg. Loss: [0.0384] Acc: 0.9876 on 60000.0 images\n",
      "Validating...\n",
      "Val Avg. Loss: [0.0265] Acc: 0.9873 on 10000.0 images\n",
      "\n",
      "Time Elapsed: 78.169121 seconds\n"
     ]
    }
   ],
   "source": [
    "# Loss and optimizer\n",
    "criterion = nn.CrossEntropyLoss()\n",
    "optimizer = torch.optim.Adam(model.parameters(), lr=learning_rate)\n",
    "\n",
    "# Keep track of average losses, training accuracy and validation accuracy for each epoch\n",
    "train_loss_history = np.zeros(num_epochs)\n",
    "train_acc_history  = np.zeros(num_epochs)\n",
    "val_loss_history   = np.zeros(num_epochs)\n",
    "val_acc_history    = np.zeros(num_epochs)\n",
    "\n",
    "start_time = datetime.now()\n",
    "\n",
    "for epoch in range(num_epochs):\n",
    "    \n",
    "    # Place network in training mode\n",
    "    model.train()\n",
    "    \n",
    "    # Initialize running epoch loss and number correctly classified\n",
    "    running_loss   = 0.0\n",
    "    num_correct    = 0.0\n",
    "    total_images   = 0.0\n",
    "    \n",
    "    for batch_num, (inputs, labels) in enumerate(train_loader):\n",
    "        # [inputs] and [labels] is one batch of images and their classes\n",
    "        inputs = inputs.to(device)\n",
    "        labels = labels.to(device)\n",
    "        \n",
    "        # Forward pass\n",
    "        outputs = model(inputs)\n",
    "        loss = criterion(outputs, labels)\n",
    "        \n",
    "        # Backward and optimize\n",
    "        optimizer.zero_grad()\n",
    "        loss.backward()\n",
    "        optimizer.step()\n",
    "\n",
    "        # Update statistics for this batch\n",
    "        curr_loss = loss.item()\n",
    "        _, preds = torch.max(outputs, 1)\n",
    "        curr_images = labels.cpu().data.numpy().size\n",
    "        curr_correct = torch.sum(preds == labels.data.reshape(-1))\n",
    "\n",
    "        # Update running statistics for this epoch\n",
    "        running_loss += curr_loss\n",
    "        num_correct += curr_correct\n",
    "        total_images += curr_images\n",
    "\n",
    "        # Log Progress every 200 batches\n",
    "        if (batch_num + 1) % 200 == 0:\n",
    "          log_progress(running_loss, batch_num, batch_size, epoch, num_epochs, train_loader)\n",
    "\n",
    "    # Update statistics for epoch\n",
    "    train_loss_history[epoch] = curr_loss #running_loss / total_images\n",
    "    train_acc_history[epoch]  = float(num_correct)  / float(total_images)\n",
    "    print(\"Train Avg. Loss: [{}] Acc: {} on {} images\".format(\n",
    "        round(train_loss_history[epoch],4), round(train_acc_history[epoch],4), total_images) )\n",
    "    \n",
    "    # ============================ Validation ==============================\n",
    "    print(\"Validating...\")\n",
    "    # Place network in testing mode (won't need to keep track of gradients)\n",
    "    model.eval()\n",
    "    \n",
    "    running_loss   = 0.0\n",
    "    num_correct    = 0.0\n",
    "    total_images   = 0.0\n",
    "    \n",
    "    for batch_num, (inputs, labels) in enumerate(test_loader):\n",
    "        inputs = inputs.to(device)\n",
    "        labels = labels.to(device)\n",
    "\n",
    "        # Propagate batch through network\n",
    "        outputs  = model(inputs)\n",
    "        loss     = criterion(outputs, labels.squeeze())\n",
    "        _, preds = torch.max(outputs, 1)\n",
    "        \n",
    "        # Update statistics for this batch\n",
    "        running_loss  += loss.item()\n",
    "        num_correct   += torch.sum(preds == labels.data.reshape(-1))\n",
    "        total_images  += labels.cpu().data.numpy().size\n",
    "        \n",
    "        # Log Progress every 200 batches\n",
    "        if (batch_num + 1) % 200 == 0:\n",
    "          log_progress(running_loss, batch_num, batch_size, epoch, num_epochs, test_loader)    \n",
    "\n",
    "    # Update statistics for validation data\n",
    "    val_loss_history[epoch] = loss.item() #running_loss / total_images\n",
    "    val_acc_history[epoch]  = float(num_correct)  / float(total_images) \n",
    "    print(\"Val Avg. Loss: [{}] Acc: {} on {} images\\n\".format(\n",
    "        round(val_loss_history[epoch],4), val_acc_history[epoch], total_images))\n",
    "    \n",
    "print(\"Time Elapsed: {} seconds\".format((datetime.now() - start_time).total_seconds()))"
   ]
  },
  {
   "cell_type": "markdown",
   "metadata": {
    "id": "kKk0tI8l4_gZ"
   },
   "source": [
    "## Learning curve plots"
   ]
  },
  {
   "cell_type": "code",
   "execution_count": 19,
   "metadata": {
    "colab": {
     "base_uri": "https://localhost:8080/",
     "height": 353
    },
    "id": "tYErXFRL4_gZ",
    "outputId": "17914594-b8bd-439e-9228-d9c410be5b84"
   },
   "outputs": [
    {
     "data": {
      "image/png": "[encoded data removed]",
      "text/plain": [
       "<Figure size 792x360 with 2 Axes>"
      ]
     },
     "metadata": {
      "needs_background": "light",
      "tags": []
     },
     "output_type": "display_data"
    }
   ],
   "source": [
    "plot(train_loss_history, val_loss_history, train_acc_history, val_acc_history)"
   ]
  },
  {
   "cell_type": "code",
   "execution_count": 21,
   "metadata": {
    "colab": {
     "base_uri": "https://localhost:8080/"
    },
    "id": "7gyqcb7o4_gZ",
    "outputId": "a22538e1-e436-4d42-b2ff-d49e35972263"
   },
   "outputs": [
    {
     "name": "stdout",
     "output_type": "stream",
     "text": [
      "Test Accuracy of the model on the 10000 test images: 98.73 %\n"
     ]
    }
   ],
   "source": [
    "# Test the model\n",
    "ytest = []\n",
    "rtest = np.ones((0,10))\n",
    "model.eval()  # eval mode (batchnorm uses moving mean/variance instead of mini-batch mean/variance)\n",
    "with torch.no_grad():\n",
    "    correct = 0\n",
    "    total = 0\n",
    "    for images, labels in test_loader:\n",
    "        ytest = np.append(ytest, labels)\n",
    "        images = images.to(device)\n",
    "        labels = labels.to(device)\n",
    "        outputs = model(images)\n",
    "        _, predicted = torch.max(outputs.data, 1)\n",
    "        total += labels.size(0)\n",
    "        correct += (predicted == labels).sum().item()\n",
    "        rtest = np.append(rtest, outputs.cpu(), axis=0)\n",
    "print('Test Accuracy of the model on the 10000 test images: {} %'.format(100 * correct / total))"
   ]
  },
  {
   "cell_type": "code",
   "execution_count": 22,
   "metadata": {
    "colab": {
     "base_uri": "https://localhost:8080/",
     "height": 314
    },
    "id": "EuQ6hVNW4_gZ",
    "outputId": "007fefe3-2396-4790-84fe-4a0b36bd3fbf"
   },
   "outputs": [
    {
     "name": "stdout",
     "output_type": "stream",
     "text": [
      "Confusion matrix, without normalization\n"
     ]
    },
    {
     "data": {
      "image/png": "[encoded data removed]",
      "text/plain": [
       "<Figure size 432x288 with 2 Axes>"
      ]
     },
     "metadata": {
      "needs_background": "light",
      "tags": []
     },
     "output_type": "display_data"
    }
   ],
   "source": [
    "cfm = confusion_matrix(np.argmax (rtest,axis=1), ytest)\n",
    "plot_confusion_matrix(cfm, classes=range(10), \n",
    "                      title='Confusion matrix for MNIST')"
   ]
  },
  {
   "cell_type": "markdown",
   "metadata": {},
   "source": [
    "### Looking at the results of the pytorch model running with GPU or not, it looks like the main advantage is speed. The experiment with GPU ran for 78s, while without a GPU it ran for 548s. This is a huge improvement, which makes using the GPU a huge advantage. There seems to be no downside of using it with GPU. The testing accuracy between the two are similar: 98.73% with GPU and 98.65% without GPU. Both of their confusion matrix are also similar."
   ]
  },
  {
   "cell_type": "markdown",
   "metadata": {},
   "source": [
    "### In this next step, we will try to create the pytorch model in Keras and vice veras to see if there will be any performance differences to conclude on which model is better, and to even identify on which framework is better."
   ]
  },
  {
   "cell_type": "markdown",
   "metadata": {},
   "source": [
    "## Provided Keras model on Pytorch (labpytorch3.ipynb)\n",
    "### The code below shows the keras model created in PyTorch. The first step is in extracting the MNIST data as training and testing dataset."
   ]
  },
  {
   "cell_type": "code",
   "execution_count": 1,
   "metadata": {
    "colab": {
     "base_uri": "https://localhost:8080/",
     "height": 437,
     "referenced_widgets": [
      "cc43c437042641f88715941f7e9fb25f",
      "1ecfca4ae42b48968177aaed04bf6770",
      "1f86efbe0379463c830a95a64110bff1",
      "6fdfeb1f7a4b49feac8958016fdf86ba",
      "4cd8c4a97b474dec8608fc8dc3188711",
      "6c254e360e3f4353aba22fca56d8d66c",
      "8d496e99ec524c118ffcaae351c884f4",
      "65395d2be8e84d45a6d962bd9a3aa3ef",
      "67be085fd0b04c839f9759927e3f0edf",
      "a5068c69795a4d84aa1f29e8e26b5cca",
      "76aa84fb7f744e15a6552bd002d086c4",
      "27d2197546784e2188f80c98f3de8bed",
      "2fd30f16f1be42749fc5c72e631546d0",
      "c88f6436953246ad94249cd5d5bd8d6f",
      "340c477b6c3a47f5bd36ae82dba8d89c",
      "44ac29391c2b4891bc19ae29ea4c967f",
      "3fa0e74c0fbb4cdc9989db317566efbd",
      "10ed5820e7b84d7c9061c1ca611a367a",
      "2cf6e47a88334e67b3ef3152ff4f6da4",
      "92d5dfe912394016a0d14ec7b73daf6e",
      "4484c53eea8e45b68dddebb033cb5fb6",
      "ba4944ca97a342749606d48a81ad72c7",
      "561d2b39b2204f01bf5957842212a5d8",
      "e3707b4a54214c5f9d7b879b01d3f7d5",
      "3301cdc2d1b044c387f6de6d6af975d5",
      "3c100b12ce254f62bb2b8bdf02ea2f44",
      "3ba34416f6f1472f88f4d5f7174dc6a9",
      "91cadf8911804582be998fd60d68fc70",
      "f757745bf8fb4bb7aef56df9a6fb75d4",
      "4629a79ca01447909accfcafb192159c",
      "9feced38174844ebbc275d2aa680092f",
      "33536ee22a5740d0ac5b2292b1db2261"
     ]
    },
    "id": "U3pqJPUzNJMM",
    "outputId": "2d20722c-5066-4ff1-c628-21aa3ff1f864"
   },
   "outputs": [
    {
     "name": "stdout",
     "output_type": "stream",
     "text": [
      "Downloading http://yann.lecun.com/exdb/mnist/train-images-idx3-ubyte.gz to ./data/MNIST/raw/train-images-idx3-ubyte.gz\n"
     ]
    },
    {
     "data": {
      "application/vnd.jupyter.widget-view+json": {
       "model_id": "cc43c437042641f88715941f7e9fb25f",
       "version_major": 2,
       "version_minor": 0
      },
      "text/plain": [
       "HBox(children=(FloatProgress(value=1.0, bar_style='info', max=1.0), HTML(value='')))"
      ]
     },
     "metadata": {
      "tags": []
     },
     "output_type": "display_data"
    },
    {
     "name": "stdout",
     "output_type": "stream",
     "text": [
      "Extracting ./data/MNIST/raw/train-images-idx3-ubyte.gz to ./data/MNIST/raw\n",
      "Downloading http://yann.lecun.com/exdb/mnist/train-labels-idx1-ubyte.gz to ./data/MNIST/raw/train-labels-idx1-ubyte.gz\n"
     ]
    },
    {
     "data": {
      "application/vnd.jupyter.widget-view+json": {
       "model_id": "67be085fd0b04c839f9759927e3f0edf",
       "version_major": 2,
       "version_minor": 0
      },
      "text/plain": [
       "HBox(children=(FloatProgress(value=1.0, bar_style='info', max=1.0), HTML(value='')))"
      ]
     },
     "metadata": {
      "tags": []
     },
     "output_type": "display_data"
    },
    {
     "name": "stdout",
     "output_type": "stream",
     "text": [
      "Extracting ./data/MNIST/raw/train-labels-idx1-ubyte.gz to ./data/MNIST/raw\n",
      "Downloading http://yann.lecun.com/exdb/mnist/t10k-images-idx3-ubyte.gz to ./data/MNIST/raw/t10k-images-idx3-ubyte.gz\n"
     ]
    },
    {
     "data": {
      "application/vnd.jupyter.widget-view+json": {
       "model_id": "3fa0e74c0fbb4cdc9989db317566efbd",
       "version_major": 2,
       "version_minor": 0
      },
      "text/plain": [
       "HBox(children=(FloatProgress(value=1.0, bar_style='info', max=1.0), HTML(value='')))"
      ]
     },
     "metadata": {
      "tags": []
     },
     "output_type": "display_data"
    },
    {
     "name": "stdout",
     "output_type": "stream",
     "text": [
      "Extracting ./data/MNIST/raw/t10k-images-idx3-ubyte.gz to ./data/MNIST/raw\n",
      "Downloading http://yann.lecun.com/exdb/mnist/t10k-labels-idx1-ubyte.gz to ./data/MNIST/raw/t10k-labels-idx1-ubyte.gz\n"
     ]
    },
    {
     "data": {
      "application/vnd.jupyter.widget-view+json": {
       "model_id": "3301cdc2d1b044c387f6de6d6af975d5",
       "version_major": 2,
       "version_minor": 0
      },
      "text/plain": [
       "HBox(children=(FloatProgress(value=1.0, bar_style='info', max=1.0), HTML(value='')))"
      ]
     },
     "metadata": {
      "tags": []
     },
     "output_type": "display_data"
    },
    {
     "name": "stdout",
     "output_type": "stream",
     "text": [
      "Extracting ./data/MNIST/raw/t10k-labels-idx1-ubyte.gz to ./data/MNIST/raw\n",
      "Processing...\n",
      "\n",
      "\n",
      "\n",
      "Done!\n",
      "\n"
     ]
    },
    {
     "name": "stderr",
     "output_type": "stream",
     "text": [
      "/usr/local/lib/python3.6/dist-packages/torchvision/datasets/mnist.py:480: UserWarning: The given NumPy array is not writeable, and PyTorch does not support non-writeable tensors. This means you can write to the underlying (supposedly non-writeable) NumPy array using the tensor. You may want to copy the array to protect its data or make it writeable before converting it to a tensor. This type of warning will be suppressed for the rest of this program. (Triggered internally at  /pytorch/torch/csrc/utils/tensor_numpy.cpp:141.)\n",
      "  return torch.from_numpy(parsed.astype(m[2], copy=False)).view(*s)\n"
     ]
    }
   ],
   "source": [
    "# Device configuration\n",
    "device = torch.device('cuda:0' if torch.cuda.is_available() else 'cpu')\n",
    "\n",
    "# MNIST dataset\n",
    "train_dataset = torchvision.datasets.MNIST(root='./data/',\n",
    "                                           train=True, \n",
    "                                           transform=transforms.ToTensor(),\n",
    "                                           download=True)\n",
    "\n",
    "test_dataset = torchvision.datasets.MNIST(root='./data/',\n",
    "                                          train=False, \n",
    "                                          transform= transforms.ToTensor())\n",
    "                                        "
   ]
  },
  {
   "cell_type": "markdown",
   "metadata": {},
   "source": [
    "### Next, we created some functions that will be used to train and plot the results."
   ]
  },
  {
   "cell_type": "code",
   "execution_count": 2,
   "metadata": {
    "id": "eV3raoqRNPgq"
   },
   "outputs": [],
   "source": [
    "'''Learning Curve Plot Utility'''\n",
    "def plot(train_loss_history, val_loss_history, train_acc_history, val_acc_history):\n",
    "  fig, axs = plt.subplots(1, 2, figsize=(11,5))\n",
    "\n",
    "  ax = axs[0]\n",
    "  ax.set_title(\"Model Loss\", fontsize=12)\n",
    "  ax.plot(train_loss_history, label=\"Training\")\n",
    "  ax.plot(val_loss_history,   label=\"Validation\")\n",
    "  ax.set_xlabel(\"Epoch\",        fontsize=12)\n",
    "  ax.set_ylabel(\"Average loss\", fontsize=12)\n",
    "  ax.legend(loc=\"best\",         fontsize=12)\n",
    "\n",
    "  ax = axs[1]\n",
    "  ax.set_title(\"Model Accuracy\", fontsize=12)\n",
    "  ax.plot(train_acc_history, label=\"Training\")\n",
    "  ax.plot(val_acc_history,   label=\"Validation\")\n",
    "  ax.set_xlabel(\"Epoch\",        fontsize=12)\n",
    "  ax.set_ylabel(\"Accuracy\",     fontsize=12)\n",
    "  ax.set_ylim(0,1)\n",
    "  ax.legend(loc=\"best\",         fontsize=12)"
   ]
  },
  {
   "cell_type": "code",
   "execution_count": 3,
   "metadata": {
    "id": "JuG7xuHkNP5w"
   },
   "outputs": [],
   "source": [
    "'''Learning progress utility'''\n",
    "def log_progress(running_loss, curr_batch, batch_size, curr_epoch, total_epochs, dataloader):\n",
    "    \"\"\"\n",
    "    Prints message logging progress through training.\n",
    "    \"\"\"\n",
    "    progress = float(curr_batch + 1)/(float(len(dataloader.dataset)) / batch_size)\n",
    "    log = \"EPOCH [{}/{}]. Running Loss: {} Progress: {} % \".format(\n",
    "        curr_epoch + 1, total_epochs, round(running_loss, 2), round(progress * 100, 2))\n",
    "    print(log)"
   ]
  },
  {
   "cell_type": "code",
   "execution_count": 4,
   "metadata": {
    "id": "d_Od107JNRh_"
   },
   "outputs": [],
   "source": [
    "#  preserntation for a confusion matrix\n",
    "\n",
    "def plot_confusion_matrix(cm, classes,\n",
    "                          normalize=False,\n",
    "                          title='Confusion matrix',\n",
    "                          cmap=plt.cm.Blues):\n",
    "    \"\"\"\n",
    "    This function prints and plots the confusion matrix.\n",
    "    Normalization can be applied by setting `normalize=True`.\n",
    "    \"\"\"\n",
    "    if normalize:\n",
    "        cm = cm.astype('float') / cm.sum(axis=1)[:, np.newaxis]\n",
    "        print(\"Normalized confusion matrix\")\n",
    "    else:\n",
    "        print('Confusion matrix, without normalization')\n",
    "\n",
    "    #print(cm)\n",
    "\n",
    "    plt.imshow(cm, interpolation='nearest', cmap=cmap)\n",
    "    plt.title(title)\n",
    "    plt.colorbar()\n",
    "    tick_marks = np.arange(len(classes))\n",
    "    plt.xticks(tick_marks, classes, rotation=45)\n",
    "    plt.yticks(tick_marks, classes)\n",
    "\n",
    "    fmt = '.2f' if normalize else 'd'\n",
    "    thresh = cm.max() / 2.\n",
    "    for i, j in itertools.product(range(cm.shape[0]), range(cm.shape[1])):\n",
    "        plt.text(j, i, format(cm[i, j], fmt),\n",
    "                 horizontalalignment=\"center\",\n",
    "                 color=\"white\" if cm[i, j] > thresh else \"black\")\n",
    "\n",
    "    plt.ylabel('True label')\n",
    "    plt.xlabel('Predicted label')\n",
    "    plt.tight_layout()\n",
    "\n"
   ]
  },
  {
   "cell_type": "markdown",
   "metadata": {},
   "source": [
    "### In this step, the hyperparameters are set. There are some changes compared to the original pytorch model."
   ]
  },
  {
   "cell_type": "code",
   "execution_count": 5,
   "metadata": {
    "id": "hdAX-bIKNS-Q"
   },
   "outputs": [],
   "source": [
    "# Hyperparameters\n",
    "num_epochs = 12 # changed from 6\n",
    "num_classes = 10\n",
    "batch_size = 128 # changed from 100\n",
    "learning_rate = 1.0 # changed from 0.0001"
   ]
  },
  {
   "cell_type": "code",
   "execution_count": 6,
   "metadata": {
    "id": "xZgF5v3ONUXG"
   },
   "outputs": [],
   "source": [
    "# Data loader\n",
    "train_loader = torch.utils.data.DataLoader(dataset=train_dataset,\n",
    "                                           batch_size=batch_size, \n",
    "                                           shuffle=True)\n",
    "\n",
    "test_loader = torch.utils.data.DataLoader(dataset=test_dataset,\n",
    "                                          batch_size=batch_size, \n",
    "                                          shuffle=False)"
   ]
  },
  {
   "cell_type": "markdown",
   "metadata": {
    "id": "kI9XRKZxb-_E"
   },
   "source": [
    "## Model\n",
    "### In this step, we created the CNN model of the keras demo model. At the top, we can see the model that was created based on the keras structure shown on the comment block below. There are a total of two convolutional layers made up of convolution and activation function. Then, there is the maxpool layer, dense layer in keras that is equivalent to linear in pytorch, the dropouts layer, and the softmax. The difficult part is in determining the strides and padding for convolution and maxpool. The stride should be set as 1 as it is the default value, while the padding are calculated by the formula width_output = (width_input - filter_size + 2 * padding)/stride + 1. The different layers are first created, and are then combined in the forward function to have a similar order to the model's implementation in keras."
   ]
  },
  {
   "cell_type": "code",
   "execution_count": 7,
   "metadata": {
    "id": "6XFLYQpfNVk-"
   },
   "outputs": [],
   "source": [
    "# Convolutional neural network (two convolutional layers)\n",
    "class ConvNet(nn.Module):\n",
    "    def __init__(self, num_classes=10):\n",
    "        super(ConvNet, self).__init__()\n",
    "        self.layer1 = nn.Sequential(\n",
    "            nn.Conv2d(1, 32, kernel_size=3, stride=1, padding=0),\n",
    "            nn.ReLU()\n",
    "            )\n",
    "        self.layer2 = nn.Sequential(\n",
    "            nn.Conv2d(32, 64, kernel_size=3, stride=1, padding=0),\n",
    "            nn.ReLU()\n",
    "            )\n",
    "        self.max_pool = nn.MaxPool2d(kernel_size=2)\n",
    "        self.fc1 = nn.Sequential(\n",
    "            nn.Linear(12*12*64, 128),\n",
    "            nn.ReLU(),\n",
    "            )\n",
    "        self.fc2 = nn.Linear(128, num_classes)\n",
    "        self.drop_out5 = nn.Dropout(p=0.5)\n",
    "        self.drop_out25 = nn.Dropout(p=0.25)\n",
    "        self.flat = nn.Flatten()\n",
    "        self.soft_max = nn.Softmax()\n",
    "        \n",
    "        \n",
    "# model = Sequential()\n",
    "# model.add(Conv2D(32, kernel_size=(3, 3),\n",
    "#                  activation='relu',\n",
    "#                  input_shape=input_shape))\n",
    "# model.add(Conv2D(64, (3, 3), activation='relu'))\n",
    "# model.add(MaxPooling2D(pool_size=(2, 2))) default to valid (no padding)?\n",
    "# model.add(Dropout(0.25))\n",
    "# model.add(Flatten())\n",
    "# model.add(Dense(128, activation='relu'))\n",
    "# model.add(Dropout(0.5))\n",
    "# model.add(Dense(num_classes, activation='softmax'))\n",
    "\n",
    "\n",
    "    def forward(self, x):\n",
    "        out = self.layer1(x) # Conv2D, relu, input size 28 output size 26\n",
    "        out = self.layer2(out) # Conv2D, relu, in 26 out 24\n",
    "        out = self.max_pool(out) # MaxPool2D, in 24 out 12\n",
    "        out = self.drop_out25(out) # Dropout 0.25\n",
    "        out = out.reshape(out.size(0), -1) # Flatten \n",
    "        out = self.fc1(out) # Dense \n",
    "        out = self.drop_out5(out) # Dropout 0.5\n",
    "        out = self.fc2(out) # Dense\n",
    "        out = self.soft_max(out) # Softmax\n",
    "        return out\n",
    "\n",
    "model = ConvNet(num_classes).to(device)"
   ]
  },
  {
   "cell_type": "markdown",
   "metadata": {
    "id": "Tg7HpIvZcC-1"
   },
   "source": [
    "## Training "
   ]
  },
  {
   "cell_type": "markdown",
   "metadata": {},
   "source": [
    "### In this section, the model is trained. Since this section is created based on the pytorch demo model, the only change needed is to change the optimizers to Adadelta with the specified learning rate."
   ]
  },
  {
   "cell_type": "code",
   "execution_count": 8,
   "metadata": {
    "colab": {
     "base_uri": "https://localhost:8080/"
    },
    "id": "max90smtNY0G",
    "outputId": "a6f149d5-83ba-4709-bcbe-2d18bdbb7e97"
   },
   "outputs": [
    {
     "name": "stderr",
     "output_type": "stream",
     "text": [
      "/usr/local/lib/python3.6/dist-packages/ipykernel_launcher.py:47: UserWarning: Implicit dimension choice for softmax has been deprecated. Change the call to include dim=X as an argument.\n"
     ]
    },
    {
     "name": "stdout",
     "output_type": "stream",
     "text": [
      "EPOCH [1/12]. Running Loss: 346.21 Progress: 42.67 % \n",
      "EPOCH [1/12]. Running Loss: 657.72 Progress: 85.33 % \n",
      "Train Avg. Loss: [1.5285] Acc: 0.8392 on 60000.0 images\n",
      "Validating...\n",
      "Val Avg. Loss: [1.4613] Acc: 0.9587 on 10000.0 images\n",
      "\n",
      "EPOCH [2/12]. Running Loss: 304.21 Progress: 42.67 % \n",
      "EPOCH [2/12]. Running Loss: 606.54 Progress: 85.33 % \n",
      "Train Avg. Loss: [1.4885] Acc: 0.9477 on 60000.0 images\n",
      "Validating...\n",
      "Val Avg. Loss: [1.4612] Acc: 0.9741 on 10000.0 images\n",
      "\n",
      "EPOCH [3/12]. Running Loss: 300.45 Progress: 42.67 % \n",
      "EPOCH [3/12]. Running Loss: 600.37 Progress: 85.33 % \n",
      "Train Avg. Loss: [1.4935] Acc: 0.962 on 60000.0 images\n",
      "Validating...\n",
      "Val Avg. Loss: [1.4612] Acc: 0.9796 on 10000.0 images\n",
      "\n",
      "EPOCH [4/12]. Running Loss: 298.99 Progress: 42.67 % \n",
      "EPOCH [4/12]. Running Loss: 597.52 Progress: 85.33 % \n",
      "Train Avg. Loss: [1.5052] Acc: 0.9684 on 60000.0 images\n",
      "Validating...\n",
      "Val Avg. Loss: [1.4612] Acc: 0.9781 on 10000.0 images\n",
      "\n",
      "EPOCH [5/12]. Running Loss: 297.81 Progress: 42.67 % \n",
      "EPOCH [5/12]. Running Loss: 595.87 Progress: 85.33 % \n",
      "Train Avg. Loss: [1.4946] Acc: 0.972 on 60000.0 images\n",
      "Validating...\n",
      "Val Avg. Loss: [1.4612] Acc: 0.9812 on 10000.0 images\n",
      "\n",
      "EPOCH [6/12]. Running Loss: 297.07 Progress: 42.67 % \n",
      "EPOCH [6/12]. Running Loss: 594.41 Progress: 85.33 % \n",
      "Train Avg. Loss: [1.4903] Acc: 0.9758 on 60000.0 images\n",
      "Validating...\n",
      "Val Avg. Loss: [1.4612] Acc: 0.9842 on 10000.0 images\n",
      "\n",
      "EPOCH [7/12]. Running Loss: 297.16 Progress: 42.67 % \n",
      "EPOCH [7/12]. Running Loss: 594.24 Progress: 85.33 % \n",
      "Train Avg. Loss: [1.4741] Acc: 0.9765 on 60000.0 images\n",
      "Validating...\n",
      "Val Avg. Loss: [1.4612] Acc: 0.9849 on 10000.0 images\n",
      "\n",
      "EPOCH [8/12]. Running Loss: 296.62 Progress: 42.67 % \n",
      "EPOCH [8/12]. Running Loss: 593.38 Progress: 85.33 % \n",
      "Train Avg. Loss: [1.4962] Acc: 0.9783 on 60000.0 images\n",
      "Validating...\n",
      "Val Avg. Loss: [1.4612] Acc: 0.9869 on 10000.0 images\n",
      "\n",
      "EPOCH [9/12]. Running Loss: 296.42 Progress: 42.67 % \n",
      "EPOCH [9/12]. Running Loss: 592.61 Progress: 85.33 % \n",
      "Train Avg. Loss: [1.4721] Acc: 0.9802 on 60000.0 images\n",
      "Validating...\n",
      "Val Avg. Loss: [1.4612] Acc: 0.9881 on 10000.0 images\n",
      "\n",
      "EPOCH [10/12]. Running Loss: 295.92 Progress: 42.67 % \n",
      "EPOCH [10/12]. Running Loss: 592.16 Progress: 85.33 % \n",
      "Train Avg. Loss: [1.4909] Acc: 0.981 on 60000.0 images\n",
      "Validating...\n",
      "Val Avg. Loss: [1.4612] Acc: 0.9863 on 10000.0 images\n",
      "\n",
      "EPOCH [11/12]. Running Loss: 295.98 Progress: 42.67 % \n",
      "EPOCH [11/12]. Running Loss: 591.81 Progress: 85.33 % \n",
      "Train Avg. Loss: [1.4638] Acc: 0.9818 on 60000.0 images\n",
      "Validating...\n",
      "Val Avg. Loss: [1.4612] Acc: 0.9884 on 10000.0 images\n",
      "\n",
      "EPOCH [12/12]. Running Loss: 295.76 Progress: 42.67 % \n",
      "EPOCH [12/12]. Running Loss: 591.42 Progress: 85.33 % \n",
      "Train Avg. Loss: [1.482] Acc: 0.9828 on 60000.0 images\n",
      "Validating...\n",
      "Val Avg. Loss: [1.4612] Acc: 0.9876 on 10000.0 images\n",
      "\n",
      "Time Elapsed: 1578.35037 seconds\n"
     ]
    }
   ],
   "source": [
    "# Loss and optimizer\n",
    "criterion = nn.CrossEntropyLoss()\n",
    "optimizer = torch.optim.Adadelta(model.parameters(), lr=learning_rate) # Changed to Adadelta with lr=1.0\n",
    "\n",
    "# Keep track of average losses, training accuracy and validation accuracy for each epoch\n",
    "train_loss_history = np.zeros(num_epochs)\n",
    "train_acc_history  = np.zeros(num_epochs)\n",
    "val_loss_history   = np.zeros(num_epochs)\n",
    "val_acc_history    = np.zeros(num_epochs)\n",
    "\n",
    "start_time = datetime.now()\n",
    "\n",
    "for epoch in range(num_epochs):\n",
    "    \n",
    "    # Place network in training mode\n",
    "    model.train()\n",
    "    \n",
    "    # Initialize running epoch loss and number correctly classified\n",
    "    running_loss   = 0.0\n",
    "    num_correct    = 0.0\n",
    "    total_images   = 0.0\n",
    "    \n",
    "    for batch_num, (inputs, labels) in enumerate(train_loader):\n",
    "        # [inputs] and [labels] is one batch of images and their classes\n",
    "        inputs = inputs.to(device)\n",
    "        labels = labels.to(device)\n",
    "        \n",
    "        # Forward pass\n",
    "        outputs = model(inputs)\n",
    "        loss = criterion(outputs, labels)\n",
    "        \n",
    "        # Backward and optimize\n",
    "        optimizer.zero_grad()\n",
    "        loss.backward()\n",
    "        optimizer.step()\n",
    "\n",
    "        # Update statistics for this batch\n",
    "        curr_loss = loss.item()\n",
    "        _, preds = torch.max(outputs, 1)\n",
    "        curr_images = labels.cpu().data.numpy().size\n",
    "        curr_correct = torch.sum(preds == labels.data.reshape(-1))\n",
    "\n",
    "        # Update running statistics for this epoch\n",
    "        running_loss += curr_loss\n",
    "        num_correct += curr_correct\n",
    "        total_images += curr_images\n",
    "\n",
    "        # Log Progress every 200 batches\n",
    "        if (batch_num + 1) % 200 == 0:\n",
    "          log_progress(running_loss, batch_num, batch_size, epoch, num_epochs, train_loader)\n",
    "\n",
    "    # Update statistics for epoch\n",
    "    train_loss_history[epoch] = curr_loss #running_loss / total_images\n",
    "    train_acc_history[epoch]  = float(num_correct)  / float(total_images)\n",
    "    print(\"Train Avg. Loss: [{}] Acc: {} on {} images\".format(\n",
    "        round(train_loss_history[epoch],4), round(train_acc_history[epoch],4), total_images) )\n",
    "    \n",
    "    # ============================ Validation ==============================\n",
    "    print(\"Validating...\")\n",
    "    # Place network in testing mode (won't need to keep track of gradients)\n",
    "    model.eval()\n",
    "    \n",
    "    running_loss   = 0.0\n",
    "    num_correct    = 0.0\n",
    "    total_images   = 0.0\n",
    "    \n",
    "    for batch_num, (inputs, labels) in enumerate(test_loader):\n",
    "        inputs = inputs.to(device)\n",
    "        labels = labels.to(device)\n",
    "\n",
    "        # Propagate batch through network\n",
    "        outputs  = model(inputs)\n",
    "        loss     = criterion(outputs, labels.squeeze())\n",
    "        _, preds = torch.max(outputs, 1)\n",
    "        \n",
    "        # Update statistics for this batch\n",
    "        running_loss  += loss.item()\n",
    "        num_correct   += torch.sum(preds == labels.data.reshape(-1))\n",
    "        total_images  += labels.cpu().data.numpy().size\n",
    "        \n",
    "        # Log Progress every 200 batches\n",
    "        if (batch_num + 1) % 200 == 0:\n",
    "          log_progress(running_loss, batch_num, batch_size, epoch, num_epochs, test_loader)    \n",
    "\n",
    "    # Update statistics for validation data\n",
    "    val_loss_history[epoch] = loss.item() #running_loss / total_images\n",
    "    val_acc_history[epoch]  = float(num_correct)  / float(total_images) \n",
    "    print(\"Val Avg. Loss: [{}] Acc: {} on {} images\\n\".format(\n",
    "        round(val_loss_history[epoch],4), val_acc_history[epoch], total_images))\n",
    "    \n",
    "print(\"Time Elapsed: {} seconds\".format((datetime.now() - start_time).total_seconds()))"
   ]
  },
  {
   "cell_type": "markdown",
   "metadata": {
    "id": "SBiZuxracH56"
   },
   "source": [
    "## Learning curve plots"
   ]
  },
  {
   "cell_type": "code",
   "execution_count": 9,
   "metadata": {
    "colab": {
     "base_uri": "https://localhost:8080/",
     "height": 353
    },
    "id": "xuJFZ9c8Na2C",
    "outputId": "c75774d4-a773-4079-e52c-7926eeff1bc3"
   },
   "outputs": [
    {
     "data": {
      "image/png": "[encoded data removed]",
      "text/plain": [
       "<Figure size 792x360 with 2 Axes>"
      ]
     },
     "metadata": {
      "needs_background": "light",
      "tags": []
     },
     "output_type": "display_data"
    }
   ],
   "source": [
    "plot(train_loss_history, val_loss_history, train_acc_history, val_acc_history)"
   ]
  },
  {
   "cell_type": "markdown",
   "metadata": {},
   "source": [
    "### Based on the results above, this model has a training loss and accuracy of 1.482 and 0.9828 and testing loss and accuracy of 1.4612 and 0.9876. The testing accuracy is very good. From the plots, we can see that the model does not underfit. This is interesting to see because when it is implemented in keras, the testing accuracy is only 0.83. Additionally, the model underfits in Keras. There may be some differences in the way the model is trained between Pytorch and Keras, which causes this improvement in performance. This experiment in pytorch also runs slightly faster at 1578 seconds, compared to the 1718 seconds when running in Keras. Based on the result here, it looks like it will be better to run models in Pytorch."
   ]
  },
  {
   "cell_type": "code",
   "execution_count": 10,
   "metadata": {
    "colab": {
     "base_uri": "https://localhost:8080/"
    },
    "id": "Yegse1KtNcHs",
    "outputId": "333130f1-d051-44a6-80ee-f2a3bd3aec23"
   },
   "outputs": [
    {
     "name": "stderr",
     "output_type": "stream",
     "text": [
      "/usr/local/lib/python3.6/dist-packages/ipykernel_launcher.py:47: UserWarning: Implicit dimension choice for softmax has been deprecated. Change the call to include dim=X as an argument.\n"
     ]
    },
    {
     "name": "stdout",
     "output_type": "stream",
     "text": [
      "Test Accuracy of the model on the 10000 test images: 98.76 %\n"
     ]
    }
   ],
   "source": [
    "# Test the model\n",
    "ytest = []\n",
    "rtest = np.ones((0,10))\n",
    "model.eval()  # eval mode (batchnorm uses moving mean/variance instead of mini-batch mean/variance)\n",
    "with torch.no_grad():\n",
    "    correct = 0\n",
    "    total = 0\n",
    "    for images, labels in test_loader:\n",
    "        ytest = np.append(ytest, labels)\n",
    "        images = images.to(device)\n",
    "        labels = labels.to(device)\n",
    "        outputs = model(images)\n",
    "        _, predicted = torch.max(outputs.data, 1)\n",
    "        total += labels.size(0)\n",
    "        correct += (predicted == labels).sum().item()\n",
    "        rtest = np.append(rtest, outputs, axis=0)\n",
    "print('Test Accuracy of the model on the 10000 test images: {} %'.format(100 * correct / total))"
   ]
  },
  {
   "cell_type": "code",
   "execution_count": 11,
   "metadata": {
    "colab": {
     "base_uri": "https://localhost:8080/",
     "height": 314
    },
    "id": "f2On63xvNdkH",
    "outputId": "f1e91e23-d7a5-4242-9f78-dfd8f3ed4f24"
   },
   "outputs": [
    {
     "name": "stdout",
     "output_type": "stream",
     "text": [
      "Confusion matrix, without normalization\n"
     ]
    },
    {
     "data": {
      "image/png": "[encoded data removed]",
      "text/plain": [
       "<Figure size 432x288 with 2 Axes>"
      ]
     },
     "metadata": {
      "needs_background": "light",
      "tags": []
     },
     "output_type": "display_data"
    }
   ],
   "source": [
    "cfm = confusion_matrix(np.argmax (rtest,axis=1), ytest)\n",
    "plot_confusion_matrix(cfm, classes=range(10), \n",
    "                      title='Confusion matrix for MNIST')"
   ]
  },
  {
   "cell_type": "markdown",
   "metadata": {},
   "source": [
    "### Looking at the confusion matrix, we can see that it has a pretty good performance. The blue boxes are along the diagonal of correct predictions, and there are no major misclassifications shown in the matrix. Compared to this model's implementation in Keras, it looks to perform much better in pytorch."
   ]
  },
  {
   "cell_type": "code",
   "execution_count": 12,
   "metadata": {
    "id": "8VKfJzwENfN8"
   },
   "outputs": [],
   "source": [
    "# Save the model checkpoint\n",
    "torch.save(model.state_dict(), 'model.ckpt')"
   ]
  },
  {
   "cell_type": "markdown",
   "metadata": {},
   "source": [
    "## Provided Pytorch model on Keras (labkeras3.ipynb)\n",
    "### In the section below, we are creating the demo pytorch model on keras to see if there will be any differences. The keras model below will be based on the demo model, but there will be some changes. Firstly, the hyperparameters are changed to be similar to the pytorch demo model. Then, the convolutional layers are changed. Creating the layers on keras are simpler as we can simply just add layers one after another. Additionally, keras provides the ability to automatically calculate padding. The layers are created based on the keras demo model that is included in to comment block below. The final change is in changing the optimizers from AdaDelta to Adam."
   ]
  },
  {
   "cell_type": "code",
   "execution_count": 3,
   "metadata": {
    "colab": {
     "base_uri": "https://localhost:8080/"
    },
    "id": "vYpHcJPSZF_C",
    "outputId": "2c1caa4d-64b0-4482-c072-91189b3ad2fa"
   },
   "outputs": [
    {
     "name": "stdout",
     "output_type": "stream",
     "text": [
      "x_train shape: (60000, 28, 28, 1)\n",
      "60000 train samples\n",
      "10000 test samples\n",
      "Epoch 1/6\n",
      "600/600 [==============================] - 82s 137ms/step - loss: 0.4631 - accuracy: 0.8633 - val_loss: 0.2018 - val_accuracy: 0.9524\n",
      "Epoch 2/6\n",
      "600/600 [==============================] - 82s 137ms/step - loss: 0.1200 - accuracy: 0.9656 - val_loss: 0.0912 - val_accuracy: 0.9723\n",
      "Epoch 3/6\n",
      "600/600 [==============================] - 82s 136ms/step - loss: 0.0810 - accuracy: 0.9762 - val_loss: 0.0689 - val_accuracy: 0.9785\n",
      "Epoch 4/6\n",
      "600/600 [==============================] - 82s 137ms/step - loss: 0.0617 - accuracy: 0.9821 - val_loss: 0.0592 - val_accuracy: 0.9807\n",
      "Epoch 5/6\n",
      "600/600 [==============================] - 82s 137ms/step - loss: 0.0499 - accuracy: 0.9855 - val_loss: 0.0517 - val_accuracy: 0.9831\n",
      "Epoch 6/6\n",
      "600/600 [==============================] - 87s 146ms/step - loss: 0.0409 - accuracy: 0.9883 - val_loss: 0.0451 - val_accuracy: 0.9858\n",
      "Test loss: 0.0451040081679821\n",
      "Test accuracy: 0.98580002784729\n",
      "Time Elapsed: 503.536414 seconds\n"
     ]
    }
   ],
   "source": [
    "from __future__ import print_function\n",
    "import keras\n",
    "from keras.datasets import mnist\n",
    "from keras.models import Sequential\n",
    "from keras.layers import Dense, Dropout, Flatten\n",
    "from keras.layers import Conv2D, MaxPooling2D, BatchNormalization\n",
    "from keras import backend as K\n",
    "import time\n",
    "from datetime import datetime\n",
    "\n",
    "start_time = datetime.now()\n",
    "\n",
    "batch_size = 100\n",
    "num_classes = 10\n",
    "epochs = 6\n",
    "\n",
    "# input image dimensions\n",
    "img_rows, img_cols = 28, 28\n",
    "\n",
    "# the data, split between train and test sets\n",
    "(x_train, y_train), (x_test, y_test) = mnist.load_data()\n",
    "\n",
    "if K.image_data_format() == 'channels_first':\n",
    "    x_train = x_train.reshape(x_train.shape[0], 1, img_rows, img_cols)\n",
    "    x_test = x_test.reshape(x_test.shape[0], 1, img_rows, img_cols)\n",
    "    input_shape = (1, img_rows, img_cols)\n",
    "else:\n",
    "    x_train = x_train.reshape(x_train.shape[0], img_rows, img_cols, 1)\n",
    "    x_test = x_test.reshape(x_test.shape[0], img_rows, img_cols, 1)\n",
    "    input_shape = (img_rows, img_cols, 1)\n",
    "\n",
    "x_train = x_train.astype('float32')\n",
    "x_test = x_test.astype('float32')\n",
    "x_train /= 255\n",
    "x_test /= 255\n",
    "print('x_train shape:', x_train.shape)\n",
    "print(x_train.shape[0], 'train samples')\n",
    "print(x_test.shape[0], 'test samples')\n",
    "\n",
    "# convert class vectors to binary class matrices\n",
    "y_train = keras.utils.to_categorical(y_train, num_classes)\n",
    "y_test = keras.utils.to_categorical(y_test, num_classes)\n",
    "\n",
    "model = Sequential()\n",
    "#model.add(ZeroPadding2D(padding=(2, 2))) # Padding of 2\n",
    "model.add(Conv2D(16, kernel_size=(5, 5),\n",
    "                 strides=(1, 1),\n",
    "                 activation='relu',\n",
    "                 padding=\"same\",\n",
    "                 input_shape=input_shape))\n",
    "model.add(BatchNormalization())\n",
    "model.add(MaxPooling2D(pool_size=(2, 2), strides=(2, 2), padding=\"same\"))\n",
    "#model.add(ZeroPadding2D(padding=(2, 2))) # Padding of 2\n",
    "model.add(Conv2D(32, kernel_size=(5, 5), \n",
    "                 strides=(1, 1),\n",
    "                 activation='relu', \n",
    "                 padding=\"same\"))\n",
    "model.add(BatchNormalization())\n",
    "model.add(MaxPooling2D(pool_size=(2, 2), strides=(2, 2), padding=\"same\"))\n",
    "model.add(Flatten())\n",
    "#model.add(Dense(num_classes))\n",
    "#model.add(Dense(128, activation='relu'))\n",
    "model.add(Dense(num_classes, activation='softmax')) # Should I have softmax here?\n",
    "\n",
    "model.compile(loss=keras.losses.categorical_crossentropy,\n",
    "              optimizer=keras.optimizers.Adam(learning_rate=0.0001),\n",
    "              metrics=['accuracy']) # updated to Adam and learning rate\n",
    "\n",
    "history = model.fit(x_train, y_train,\n",
    "          batch_size=batch_size,\n",
    "          epochs=epochs,\n",
    "          verbose=1,\n",
    "          validation_data=(x_test, y_test))\n",
    "score = model.evaluate(x_test, y_test, verbose=0)\n",
    "print('Test loss:', score[0])\n",
    "print('Test accuracy:', score[1])\n",
    "\n",
    "# # Convolutional neural network (two convolutional layers)\n",
    "# class ConvNet(nn.Module):\n",
    "#     def __init__(self, num_classes=10):\n",
    "#         super(ConvNet, self).__init__()\n",
    "#         self.layer1 = nn.Sequential(\n",
    "#             nn.Conv2d(1, 16, kernel_size=5, stride=1, padding=2),\n",
    "#             nn.BatchNorm2d(16),\n",
    "#             nn.ReLU(),\n",
    "#             nn.MaxPool2d(kernel_size=2, stride=2)\n",
    "#             )\n",
    "#         self.layer2 = nn.Sequential(\n",
    "#             nn.Conv2d(16, 32, kernel_size=5, stride=1, padding=2),\n",
    "#             nn.BatchNorm2d(32),\n",
    "#             nn.ReLU(),\n",
    "#             nn.MaxPool2d(kernel_size=2, stride=2))\n",
    "#         self.fc = nn.Linear(7*7*32, num_classes)\n",
    "        \n",
    "#     def forward(self, x):\n",
    "#         out = self.layer1(x)\n",
    "#         out = self.layer2(out)\n",
    "#         out = out.reshape(out.size(0), -1)\n",
    "#         out = self.fc(out)\n",
    "#         return out\n",
    "\n",
    "# model = ConvNet(num_classes).to(device)\n",
    "\n",
    "print(\"Time Elapsed: {} seconds\".format((datetime.now() - start_time).total_seconds()))"
   ]
  },
  {
   "cell_type": "code",
   "execution_count": 3,
   "metadata": {
    "colab": {
     "base_uri": "https://localhost:8080/",
     "height": 590
    },
    "id": "Mb2RtZtzZHtJ",
    "outputId": "35502477-b9d2-43f0-91f9-73e9e089f2c5"
   },
   "outputs": [
    {
     "name": "stdout",
     "output_type": "stream",
     "text": [
      "dict_keys(['loss', 'accuracy', 'val_loss', 'val_accuracy'])\n"
     ]
    },
    {
     "data": {
      "image/png": "[encoded data removed]",
      "text/plain": [
       "<Figure size 432x288 with 1 Axes>"
      ]
     },
     "metadata": {
      "needs_background": "light",
      "tags": []
     },
     "output_type": "display_data"
    },
    {
     "data": {
      "image/png": "[encoded data removed]",
      "text/plain": [
       "<Figure size 432x288 with 1 Axes>"
      ]
     },
     "metadata": {
      "needs_background": "light",
      "tags": []
     },
     "output_type": "display_data"
    }
   ],
   "source": [
    "# list all data in history\n",
    "print(history.history.keys())\n",
    "# summarize history for accuracy\n",
    "plt.plot(history.history['accuracy'])\n",
    "plt.plot(history.history['val_accuracy'])\n",
    "plt.title('model accuracy')\n",
    "plt.ylabel('accuracy')\n",
    "plt.xlabel('epoch')\n",
    "plt.legend(['train', 'test'], loc='upper left')\n",
    "plt.show()\n",
    "# summarize history for loss\n",
    "plt.plot(history.history['loss'])\n",
    "plt.plot(history.history['val_loss'])\n",
    "plt.title('model loss')\n",
    "plt.ylabel('loss')\n",
    "plt.xlabel('epoch')\n",
    "plt.legend(['train', 'test'], loc='upper left')\n",
    "plt.show()"
   ]
  },
  {
   "cell_type": "markdown",
   "metadata": {},
   "source": [
    "### From the results above, we can see that the train loss and accuracy is 0.0409 and 0.9883, while the test loss and accuracy is 0.0451 and 0.9858. This shows that this is a great model. Based on the plots, we can see that the model is great, neither overfitting nor underfitting. Compared to the original pytorch model that has 98.65% test accuracy, this model in keras has a similar test accuracy of 98.58%. Both of them are very good. Both models also shows a good plot (neither overfitting nor underfitting). In terms of training and testing speed, the original pytorch model requires 548 seconds while this experiment in keras requires 503 seconds. Running it in Keras is slightly faster, but not too significant. As a result, there seem to be not too much difference in running this model in Pytorch or Keras."
   ]
  },
  {
   "cell_type": "code",
   "execution_count": 4,
   "metadata": {
    "id": "fSn3SfpWZQpB"
   },
   "outputs": [],
   "source": [
    "predictions = model.predict(x_test, verbose=0)"
   ]
  },
  {
   "cell_type": "code",
   "execution_count": 5,
   "metadata": {
    "colab": {
     "base_uri": "https://localhost:8080/"
    },
    "id": "lI1FQYVFZSNw",
    "outputId": "6c970a3c-1104-4761-831e-354c4739a3f6"
   },
   "outputs": [
    {
     "name": "stdout",
     "output_type": "stream",
     "text": [
      "[7 2 1 ... 4 5 6]\n",
      "[7 2 1 ... 4 5 6]\n"
     ]
    }
   ],
   "source": [
    "yitest = np.argmax(y_test, axis=1)\n",
    "\n",
    "yptest = np.argmax(predictions, axis=1)\n",
    "print (yitest)\n",
    "print (yptest)"
   ]
  },
  {
   "cell_type": "code",
   "execution_count": 6,
   "metadata": {
    "colab": {
     "base_uri": "https://localhost:8080/"
    },
    "id": "rqWTStjZZTon",
    "outputId": "ae548a9d-d12d-49c8-b740-4a901e04bbe5"
   },
   "outputs": [
    {
     "name": "stdout",
     "output_type": "stream",
     "text": [
      "[[ 974    0    0    1    0    0    3    1    1    0]\n",
      " [   0 1128    3    0    0    0    2    1    1    0]\n",
      " [   1    0 1021    2    1    0    1    4    1    1]\n",
      " [   0    0    3  991    0    9    0    4    2    1]\n",
      " [   0    1    0    0  970    0    1    2    1    7]\n",
      " [   2    0    1    4    0  883    1    0    1    0]\n",
      " [   5    4    0    0    1    7  939    0    2    0]\n",
      " [   0    3   14    2    1    1    0 1001    1    5]\n",
      " [   3    0    3    2    1    5    1    1  955    3]\n",
      " [   2    3    1    2    5    6    0    5    4  981]]\n"
     ]
    }
   ],
   "source": [
    "cfm = confusion_matrix(yitest, yptest)\n",
    "print (cfm)"
   ]
  },
  {
   "cell_type": "code",
   "execution_count": 7,
   "metadata": {
    "colab": {
     "base_uri": "https://localhost:8080/",
     "height": 314
    },
    "id": "itKalfhlZU_Y",
    "outputId": "7f4af95b-22df-46f7-874f-d2c5079e15f8"
   },
   "outputs": [
    {
     "name": "stdout",
     "output_type": "stream",
     "text": [
      "Confusion matrix, without normalization\n"
     ]
    },
    {
     "data": {
      "image/png": "[encoded data removed]",
      "text/plain": [
       "<Figure size 432x288 with 2 Axes>"
      ]
     },
     "metadata": {
      "needs_background": "light",
      "tags": []
     },
     "output_type": "display_data"
    }
   ],
   "source": [
    "plot_confusion_matrix(cfm, classes=range(10), \n",
    "                      title='Confusion matrix for MNIST')"
   ]
  },
  {
   "cell_type": "markdown",
   "metadata": {},
   "source": [
    "### Looking at the confusion matrix, we can see that most predictions are correct. When comparing this matrix with the experiment ran in Pytorch, there are barely any difference. This model has a similar performance in both Keras and Pytorch."
   ]
  },
  {
   "cell_type": "markdown",
   "metadata": {},
   "source": [
    "# Section 2"
   ]
  },
  {
   "cell_type": "markdown",
   "metadata": {},
   "source": [
    "### In this section, we will be creating a CNN model in pytorch that will have the best test prediction compared to the models that we have in Section 1. In the first section, we are able to get 98.65% test accuracy, which is very good. We will attempt to modify the model to have an even better validation accuracy.\n",
    "\n",
    "### Looking at the loss plot through the epoch in the original model, we can see that the loss is still decreasing. It looks like the model is not able to converge to have the best prediction given the learning rate in the limited epoch of only 6. So, we will try to increase the learning rate to have a better model, but it should not be too big or the model will overfit. Then, we will try to change the number of channels of the two convolutional layers. The layers now have channel 1 to 16, then 16 to 32. We will try to experiment if there are better number of channels that can have an stronger model.\n",
    "\n",
    "### Next, we notice that in the dense layer of the original model, it only transform the output of 7*7*32 to the number of classes. We will try to create another layer and experiment with the number of outputs/channels to find out the best model. In the dense layer, we will also create a dropout layer. The dropout layer allows to prevent overfitting, which may help in making better label predictions for unseen data. The dropout parameter will need to be experimented with. Finally, we will try to add a softmax function in the final layer. This is to allow probability distribution when making predictions.\n",
    "\n",
    "### Above is the plan that we will try to perform. Hopefully, we will be able to have an even better validation accuracy than the original model.\n",
    "\n",
    "\n",
    "### In the first step it is about importing libraries and importing the MNIST dataset as training and testing data."
   ]
  },
  {
   "cell_type": "code",
   "execution_count": 1,
   "metadata": {
    "colab": {
     "base_uri": "https://localhost:8080/",
     "height": 420,
     "referenced_widgets": [
      "d231cfa9b3394699a6d6b7d35bf290a2",
      "dd4058ecf4c44b4f8e5aa511b3f7450d",
      "77a2657da35f4df28eaf46761d267a33",
      "eed25e1465a4482a9e53712c3b0a8a5b",
      "c145eb66cd26446194503de52b0d3683",
      "75697e23e5f54b60a8ecf6cfcac70356",
      "0474715596294e72b74e623206208994",
      "a256c44d43674a39aea803f9df1c0d12",
      "e5ddc351b4df446ebddca3dad922586d",
      "0e17d7e38bf94f1894357f0ab9115c60",
      "f446b0daff9d4fa5822788ea02bca5fa",
      "b5a4c5c193d44cdbae322131e49ec4b6",
      "8d1ef66d715f406fafdf03a1d1a63da0",
      "e3c6bed5a18941ed86a5445cafee4e68",
      "53d0d63c8db34dcaa2bf05ec5a7576b7",
      "583d0e2fccbe47ca8578a10f18dda1f7",
      "a0f823bf8cab4a0886a396303e0996bb",
      "818d063be0df42a480e974b5248708e8",
      "bbdbd3547dd947d18589c7e4fab91f58",
      "48791581a5b84470a9bc1f6f470ad414",
      "b507fa584bfe4520a0148b8f6292bc4d",
      "80bfd9e5f3b24ccfb67a9d976d5fdbd7",
      "802bd30d324c4fb5bc7aae1151bc1d1b",
      "3b3509ad68bc4910a2d826406afaeee3",
      "462f4f9b36724435942feb92acdac2f8",
      "482fe7e1312e4fe4be721d18eae96728",
      "6aaf8d74bc5d4c29b6e3dac04769b89e",
      "412aca84005642c3a2fce5e39781b642",
      "5824b4d06f2344ffb7238a9064bd4ac1",
      "18a3a880069c47b990c278bf593f8ebb",
      "c90ec7630dce4de49c7fac3c4d60a50d",
      "2afb8d12d4624aa3b1e4c43296b2505b"
     ]
    },
    "id": "U3pqJPUzNJMM",
    "outputId": "0a2900d3-5489-41a7-c702-44889c588b34"
   },
   "outputs": [
    {
     "name": "stdout",
     "output_type": "stream",
     "text": [
      "Downloading http://yann.lecun.com/exdb/mnist/train-images-idx3-ubyte.gz to ./data/MNIST/raw/train-images-idx3-ubyte.gz\n"
     ]
    },
    {
     "data": {
      "application/vnd.jupyter.widget-view+json": {
       "model_id": "d231cfa9b3394699a6d6b7d35bf290a2",
       "version_major": 2,
       "version_minor": 0
      },
      "text/plain": [
       "HBox(children=(FloatProgress(value=1.0, bar_style='info', max=1.0), HTML(value='')))"
      ]
     },
     "metadata": {
      "tags": []
     },
     "output_type": "display_data"
    },
    {
     "name": "stdout",
     "output_type": "stream",
     "text": [
      "Extracting ./data/MNIST/raw/train-images-idx3-ubyte.gz to ./data/MNIST/raw\n",
      "Downloading http://yann.lecun.com/exdb/mnist/train-labels-idx1-ubyte.gz to ./data/MNIST/raw/train-labels-idx1-ubyte.gz\n"
     ]
    },
    {
     "data": {
      "application/vnd.jupyter.widget-view+json": {
       "model_id": "e5ddc351b4df446ebddca3dad922586d",
       "version_major": 2,
       "version_minor": 0
      },
      "text/plain": [
       "HBox(children=(FloatProgress(value=1.0, bar_style='info', max=1.0), HTML(value='')))"
      ]
     },
     "metadata": {
      "tags": []
     },
     "output_type": "display_data"
    },
    {
     "name": "stdout",
     "output_type": "stream",
     "text": [
      "Extracting ./data/MNIST/raw/train-labels-idx1-ubyte.gz to ./data/MNIST/raw\n",
      "Downloading http://yann.lecun.com/exdb/mnist/t10k-images-idx3-ubyte.gz to ./data/MNIST/raw/t10k-images-idx3-ubyte.gz\n",
      "\n",
      "\n"
     ]
    },
    {
     "data": {
      "application/vnd.jupyter.widget-view+json": {
       "model_id": "a0f823bf8cab4a0886a396303e0996bb",
       "version_major": 2,
       "version_minor": 0
      },
      "text/plain": [
       "HBox(children=(FloatProgress(value=1.0, bar_style='info', max=1.0), HTML(value='')))"
      ]
     },
     "metadata": {
      "tags": []
     },
     "output_type": "display_data"
    },
    {
     "name": "stdout",
     "output_type": "stream",
     "text": [
      "Extracting ./data/MNIST/raw/t10k-images-idx3-ubyte.gz to ./data/MNIST/raw\n",
      "Downloading http://yann.lecun.com/exdb/mnist/t10k-labels-idx1-ubyte.gz to ./data/MNIST/raw/t10k-labels-idx1-ubyte.gz\n"
     ]
    },
    {
     "data": {
      "application/vnd.jupyter.widget-view+json": {
       "model_id": "462f4f9b36724435942feb92acdac2f8",
       "version_major": 2,
       "version_minor": 0
      },
      "text/plain": [
       "HBox(children=(FloatProgress(value=1.0, bar_style='info', max=1.0), HTML(value='')))"
      ]
     },
     "metadata": {
      "tags": []
     },
     "output_type": "display_data"
    },
    {
     "name": "stdout",
     "output_type": "stream",
     "text": [
      "Extracting ./data/MNIST/raw/t10k-labels-idx1-ubyte.gz to ./data/MNIST/raw\n",
      "Processing...\n",
      "Done!\n",
      "\n"
     ]
    },
    {
     "name": "stderr",
     "output_type": "stream",
     "text": [
      "/usr/local/lib/python3.6/dist-packages/torchvision/datasets/mnist.py:480: UserWarning: The given NumPy array is not writeable, and PyTorch does not support non-writeable tensors. This means you can write to the underlying (supposedly non-writeable) NumPy array using the tensor. You may want to copy the array to protect its data or make it writeable before converting it to a tensor. This type of warning will be suppressed for the rest of this program. (Triggered internally at  /pytorch/torch/csrc/utils/tensor_numpy.cpp:141.)\n",
      "  return torch.from_numpy(parsed.astype(m[2], copy=False)).view(*s)\n"
     ]
    }
   ],
   "source": [
    "import time\n",
    "import torch \n",
    "import torch.nn as nn\n",
    "import torchvision\n",
    "import torchvision.transforms as transforms\n",
    "\n",
    "from matplotlib import pyplot as plt\n",
    "import numpy as np\n",
    "from datetime import datetime\n",
    "from sklearn.metrics import confusion_matrix\n",
    "import itertools\n",
    "\n",
    "# Device configuration\n",
    "device = torch.device('cuda:0' if torch.cuda.is_available() else 'cpu')\n",
    "\n",
    "# MNIST dataset\n",
    "train_dataset = torchvision.datasets.MNIST(root='./data/',\n",
    "                                           train=True, \n",
    "                                           transform=transforms.ToTensor(),\n",
    "                                           download=True)\n",
    "\n",
    "test_dataset = torchvision.datasets.MNIST(root='./data/',\n",
    "                                          train=False, \n",
    "                                          transform= transforms.ToTensor())\n",
    "                                        "
   ]
  },
  {
   "cell_type": "markdown",
   "metadata": {
    "id": "FKsLnkq9b7yj"
   },
   "source": [
    "### Next, several functions are created for plotting and training purposes."
   ]
  },
  {
   "cell_type": "code",
   "execution_count": 2,
   "metadata": {
    "id": "eV3raoqRNPgq"
   },
   "outputs": [],
   "source": [
    "'''Learning Curve Plot Utility'''\n",
    "def plot(train_loss_history, val_loss_history, train_acc_history, val_acc_history):\n",
    "  fig, axs = plt.subplots(1, 2, figsize=(11,5))\n",
    "\n",
    "  ax = axs[0]\n",
    "  ax.set_title(\"Model Loss\", fontsize=12)\n",
    "  ax.plot(train_loss_history, label=\"Training\")\n",
    "  ax.plot(val_loss_history,   label=\"Validation\")\n",
    "  ax.set_xlabel(\"Epoch\",        fontsize=12)\n",
    "  ax.set_ylabel(\"Average loss\", fontsize=12)\n",
    "  ax.legend(loc=\"best\",         fontsize=12)\n",
    "\n",
    "  ax = axs[1]\n",
    "  ax.set_title(\"Model Accuracy\", fontsize=12)\n",
    "  ax.plot(train_acc_history, label=\"Training\")\n",
    "  ax.plot(val_acc_history,   label=\"Validation\")\n",
    "  ax.set_xlabel(\"Epoch\",        fontsize=12)\n",
    "  ax.set_ylabel(\"Accuracy\",     fontsize=12)\n",
    "  ax.set_ylim(0,1)\n",
    "  ax.legend(loc=\"best\",         fontsize=12)"
   ]
  },
  {
   "cell_type": "code",
   "execution_count": 3,
   "metadata": {
    "id": "JuG7xuHkNP5w"
   },
   "outputs": [],
   "source": [
    "'''Learning progress utility'''\n",
    "def log_progress(running_loss, curr_batch, batch_size, curr_epoch, total_epochs, dataloader):\n",
    "    \"\"\"\n",
    "    Prints message logging progress through training.\n",
    "    \"\"\"\n",
    "    progress = float(curr_batch + 1)/(float(len(dataloader.dataset)) / batch_size)\n",
    "    log = \"EPOCH [{}/{}]. Running Loss: {} Progress: {} % \".format(\n",
    "        curr_epoch + 1, total_epochs, round(running_loss, 2), round(progress * 100, 2))\n",
    "    print(log)"
   ]
  },
  {
   "cell_type": "code",
   "execution_count": 4,
   "metadata": {
    "id": "d_Od107JNRh_"
   },
   "outputs": [],
   "source": [
    "#  preserntation for a confusion matrix\n",
    "\n",
    "def plot_confusion_matrix(cm, classes,\n",
    "                          normalize=False,\n",
    "                          title='Confusion matrix',\n",
    "                          cmap=plt.cm.Blues):\n",
    "    \"\"\"\n",
    "    This function prints and plots the confusion matrix.\n",
    "    Normalization can be applied by setting `normalize=True`.\n",
    "    \"\"\"\n",
    "    if normalize:\n",
    "        cm = cm.astype('float') / cm.sum(axis=1)[:, np.newaxis]\n",
    "        print(\"Normalized confusion matrix\")\n",
    "    else:\n",
    "        print('Confusion matrix, without normalization')\n",
    "\n",
    "    #print(cm)\n",
    "\n",
    "    plt.imshow(cm, interpolation='nearest', cmap=cmap)\n",
    "    plt.title(title)\n",
    "    plt.colorbar()\n",
    "    tick_marks = np.arange(len(classes))\n",
    "    plt.xticks(tick_marks, classes, rotation=45)\n",
    "    plt.yticks(tick_marks, classes)\n",
    "\n",
    "    fmt = '.2f' if normalize else 'd'\n",
    "    thresh = cm.max() / 2.\n",
    "    for i, j in itertools.product(range(cm.shape[0]), range(cm.shape[1])):\n",
    "        plt.text(j, i, format(cm[i, j], fmt),\n",
    "                 horizontalalignment=\"center\",\n",
    "                 color=\"white\" if cm[i, j] > thresh else \"black\")\n",
    "\n",
    "    plt.ylabel('True label')\n",
    "    plt.xlabel('Predicted label')\n",
    "    plt.tight_layout()\n",
    "\n"
   ]
  },
  {
   "cell_type": "markdown",
   "metadata": {},
   "source": [
    "### Then, we define the hyperparameters. The epochs and batch size are kept the same to the original pytorch model, while the learning rate was changed. After experimenting with different learning rate, we found that the original learning rate is too small and so it learns too slowly. The prediction performance is better with a higher learning rate."
   ]
  },
  {
   "cell_type": "code",
   "execution_count": 5,
   "metadata": {
    "id": "hdAX-bIKNS-Q"
   },
   "outputs": [],
   "source": [
    "# Hyperparameters\n",
    "num_epochs = 6\n",
    "num_classes = 10\n",
    "batch_size = 128\n",
    "learning_rate = 0.2 # Original was 0.0001"
   ]
  },
  {
   "cell_type": "code",
   "execution_count": 6,
   "metadata": {
    "id": "xZgF5v3ONUXG"
   },
   "outputs": [],
   "source": [
    "# Data loader\n",
    "train_loader = torch.utils.data.DataLoader(dataset=train_dataset,\n",
    "                                           batch_size=batch_size, \n",
    "                                           shuffle=True)\n",
    "\n",
    "test_loader = torch.utils.data.DataLoader(dataset=test_dataset,\n",
    "                                          batch_size=batch_size, \n",
    "                                          shuffle=False)"
   ]
  },
  {
   "cell_type": "markdown",
   "metadata": {
    "id": "kI9XRKZxb-_E"
   },
   "source": [
    "## Model\n",
    "### In terms of the different layers used in the model, there are some major changes through several experimentation. One thing that stays constant is that we are using 2 convolutional layers. In each layer, there is the batch normalization, max pooling, and activation function with ReLu.\n",
    "### Firstly, we are looking into how the different number of channels will affect the test accuracy. The demo model has 1 to 16 channels in the first convolutional layer and 16 to 32 channels in the second convolutional layer. Several combinations are tested, such as 1->32->64, 1->48->96, and 1->64->128. It turns out that the best accuracy came from 1->32->64. When there are more channels than this, the model overfits and the test accuracy lowers to 99%.\n",
    "\n",
    "### Next, we experiment on what will happen if we added another layer of Dense layer. Initially, there is only a single dense layer that has an input of 7*7*64 and outputs 10 (number of classes). However, we tested if we first added another dense layer. This dense layer would need an input value, and will output the number of classes. We tested several values such as 128, 256, and 512. When the dense layer is of size 256, the model will have the highest accuracy. This means that other values may provide an underfitting or overfitting model.\n",
    "\n",
    "### However, as we are looking at the test accuracies across the epochs, it seems like the current model is slightly overfitting. As a result, we decided to add a dropout. This dropout is added between the two dense layers. Several dropout values are experimented, such as 0.2, 0.3, 0.4, and 0.5. We have found that the value 0.2 is too small and will still cause overfitting, while the values 0.4 and 0.5 are too big that the model starts underfitting. We determined this by looking into the plots generated for the accuracy, loss, and number of epochs. As a result, we went with dropout with rate of 0.3.\n",
    "\n",
    "### Finally, we added the Softmax layer, which seems to give a better test accuracy.\n",
    "\n",
    "### The different layers are ordered as: Convolution layer 1 -> Convolution layer 2 -> Flatten -> Dense layer 1 -> Dropout -> Dense layer 2 -> Softmax"
   ]
  },
  {
   "cell_type": "code",
   "execution_count": 46,
   "metadata": {
    "id": "eNqOmUxvJ2zj"
   },
   "outputs": [],
   "source": [
    "# Convolutional neural network (two convolutional layers)\n",
    "class ConvNet(nn.Module):\n",
    "    def __init__(self, num_classes=10):\n",
    "        super(ConvNet, self).__init__()\n",
    "        self.layer1 = nn.Sequential(\n",
    "            nn.Conv2d(1, 32, kernel_size=5, stride=1, padding=2),\n",
    "            nn.BatchNorm2d(32),\n",
    "            nn.ReLU(),\n",
    "            nn.MaxPool2d(kernel_size=2, stride=2)\n",
    "            ) # The channel output size is changed from 16 to 32\n",
    "        self.layer2 = nn.Sequential(\n",
    "            nn.Conv2d(32, 64, kernel_size=5, stride=1, padding=2),\n",
    "            nn.BatchNorm2d(64),\n",
    "            nn.ReLU(),\n",
    "            nn.MaxPool2d(kernel_size=2, stride=2)) # The channel input size is changed from 16 to 32 and output size is changed from 32 to 64\n",
    "        self.fc1 = nn.Sequential(\n",
    "            nn.Linear(7*7*64, 256),\n",
    "            nn.ReLU()) # Changed the output into 256 instead of number of classes, becase we wil use 2 dense layers\n",
    "        self.fc2 = nn.Linear(256, num_classes) # Second dense layer added, taking in 256 as inputs and outputing the number of classes 10.\n",
    "        self.soft_max = nn.Softmax() # Created a softmax layer\n",
    "        self.drop_out = nn.Dropout(p=0.3) # Created a dropout layer to prevent overfitting\n",
    "        \n",
    "    def forward(self, x): # The final structure of the CNN model\n",
    "        out = self.layer1(x)\n",
    "        out = self.layer2(out)\n",
    "        # out = self.layer3(out)\n",
    "        out = out.reshape(out.size(0), -1)\n",
    "        out = self.fc1(out)\n",
    "        out = self.drop_out(out)\n",
    "        out = self.fc2(out)\n",
    "        out = self.soft_max(out)\n",
    "        return out\n",
    "\n",
    "model = ConvNet(num_classes).to(device)"
   ]
  },
  {
   "cell_type": "markdown",
   "metadata": {
    "id": "HRyRavG9QMdW"
   },
   "source": [
    "\n",
    "```\n",
    "Some notes taken as I am experimenting with parameters of layers, which shows the parameters values with the validation accuracy\n",
    "\n",
    "Channels:\n",
    "1, 16, 16, 32, 0.9894, \n",
    "1,32 32,64 0.9909\n",
    "1,48 48 96, 0.9901\n",
    "1,64 64,128 0.9892\n",
    "\n",
    "dense layer:\n",
    "128 = .991\n",
    "256 = .9915\n",
    "512 = .9895\n",
    "\n",
    "Channels 1,32,32,64, dense 256, dropout:\n",
    "0.2 = .9911\n",
    "0.3 = .9923\n",
    "0.4 = .991\n",
    "0.5 = .9894\n",
    "\n",
    "```\n",
    "\n",
    "\n"
   ]
  },
  {
   "cell_type": "markdown",
   "metadata": {
    "id": "Tg7HpIvZcC-1"
   },
   "source": [
    "## Training \n",
    "### Then, the model is trained using the MNIST dataset and is tested using the unseen MNIST dataset."
   ]
  },
  {
   "cell_type": "code",
   "execution_count": 72,
   "metadata": {
    "colab": {
     "base_uri": "https://localhost:8080/"
    },
    "id": "max90smtNY0G",
    "outputId": "1eb5d368-1d0e-4cba-aef0-728d1eb3b218"
   },
   "outputs": [
    {
     "name": "stderr",
     "output_type": "stream",
     "text": [
      "/usr/local/lib/python3.6/dist-packages/ipykernel_launcher.py:31: UserWarning: Implicit dimension choice for softmax has been deprecated. Change the call to include dim=X as an argument.\n"
     ]
    },
    {
     "name": "stdout",
     "output_type": "stream",
     "text": [
      "EPOCH [1/6]. Running Loss: 293.56 Progress: 42.67 % \n",
      "EPOCH [1/6]. Running Loss: 587.22 Progress: 85.33 % \n",
      "Train Avg. Loss: [1.476] Acc: 0.9942 on 60000.0 images\n",
      "Validating...\n",
      "Val Avg. Loss: [1.4612] Acc: 0.9911 on 10000.0 images\n",
      "\n",
      "EPOCH [2/6]. Running Loss: 293.56 Progress: 42.67 % \n",
      "EPOCH [2/6]. Running Loss: 587.0 Progress: 85.33 % \n",
      "Train Avg. Loss: [1.4716] Acc: 0.9948 on 60000.0 images\n",
      "Validating...\n",
      "Val Avg. Loss: [1.4612] Acc: 0.9915 on 10000.0 images\n",
      "\n",
      "EPOCH [3/6]. Running Loss: 293.42 Progress: 42.67 % \n",
      "EPOCH [3/6]. Running Loss: 586.72 Progress: 85.33 % \n",
      "Train Avg. Loss: [1.4889] Acc: 0.9952 on 60000.0 images\n",
      "Validating...\n",
      "Val Avg. Loss: [1.4612] Acc: 0.9915 on 10000.0 images\n",
      "\n",
      "EPOCH [4/6]. Running Loss: 293.42 Progress: 42.67 % \n",
      "EPOCH [4/6]. Running Loss: 586.57 Progress: 85.33 % \n",
      "Train Avg. Loss: [1.4794] Acc: 0.9957 on 60000.0 images\n",
      "Validating...\n",
      "Val Avg. Loss: [1.4612] Acc: 0.9911 on 10000.0 images\n",
      "\n",
      "EPOCH [5/6]. Running Loss: 293.29 Progress: 42.67 % \n",
      "EPOCH [5/6]. Running Loss: 586.59 Progress: 85.33 % \n",
      "Train Avg. Loss: [1.4781] Acc: 0.9959 on 60000.0 images\n",
      "Validating...\n",
      "Val Avg. Loss: [1.4612] Acc: 0.9903 on 10000.0 images\n",
      "\n",
      "EPOCH [6/6]. Running Loss: 293.23 Progress: 42.67 % \n",
      "EPOCH [6/6]. Running Loss: 586.42 Progress: 85.33 % \n",
      "Train Avg. Loss: [1.4619] Acc: 0.9959 on 60000.0 images\n",
      "Validating...\n",
      "Val Avg. Loss: [1.4612] Acc: 0.9929 on 10000.0 images\n",
      "\n",
      "Time Elapsed: 40.407482 seconds\n"
     ]
    }
   ],
   "source": [
    "# Loss and optimizer\n",
    "criterion = nn.CrossEntropyLoss()\n",
    "optimizer = torch.optim.Adadelta(model.parameters(), lr=learning_rate) # Changed to Adadelta with lr=1.0\n",
    "\n",
    "# Keep track of average losses, training accuracy and validation accuracy for each epoch\n",
    "train_loss_history = np.zeros(num_epochs)\n",
    "train_acc_history  = np.zeros(num_epochs)\n",
    "val_loss_history   = np.zeros(num_epochs)\n",
    "val_acc_history    = np.zeros(num_epochs)\n",
    "\n",
    "start_time = datetime.now()\n",
    "\n",
    "for epoch in range(num_epochs):\n",
    "\n",
    "  # Place network in training mode\n",
    "  model.train()\n",
    "\n",
    "  # Initialize running epoch loss and number correctly classified\n",
    "  running_loss   = 0.0\n",
    "  num_correct    = 0.0\n",
    "  total_images   = 0.0\n",
    "\n",
    "  for batch_num, (inputs, labels) in enumerate(train_loader):\n",
    "      # [inputs] and [labels] is one batch of images and their classes\n",
    "      inputs = inputs.to(device)\n",
    "      labels = labels.to(device)\n",
    "\n",
    "      # Forward pass\n",
    "      outputs = model(inputs)\n",
    "      loss = criterion(outputs, labels)\n",
    "\n",
    "      # Backward and optimize\n",
    "      optimizer.zero_grad()\n",
    "      loss.backward()\n",
    "      optimizer.step()\n",
    "\n",
    "      # Update statistics for this batch\n",
    "      curr_loss = loss.item()\n",
    "      _, preds = torch.max(outputs, 1)\n",
    "      curr_images = labels.cpu().data.numpy().size\n",
    "      curr_correct = torch.sum(preds == labels.data.reshape(-1))\n",
    "\n",
    "      # Update running statistics for this epoch\n",
    "      running_loss += curr_loss\n",
    "      num_correct += curr_correct\n",
    "      total_images += curr_images\n",
    "\n",
    "      # Log Progress every 200 batches\n",
    "      if (batch_num + 1) % 200 == 0:\n",
    "        log_progress(running_loss, batch_num, batch_size, epoch, num_epochs, train_loader)\n",
    "\n",
    "  # Update statistics for epoch\n",
    "  train_loss_history[epoch] = curr_loss #running_loss / total_images\n",
    "  train_acc_history[epoch]  = float(num_correct)  / float(total_images)\n",
    "  print(\"Train Avg. Loss: [{}] Acc: {} on {} images\".format(\n",
    "      round(train_loss_history[epoch],4), round(train_acc_history[epoch],4), total_images) )\n",
    "\n",
    "  # ============================ Validation ==============================\n",
    "  print(\"Validating...\")\n",
    "  # Place network in testing mode (won't need to keep track of gradients)\n",
    "  model.eval()\n",
    "\n",
    "  running_loss   = 0.0\n",
    "  num_correct    = 0.0\n",
    "  total_images   = 0.0\n",
    "\n",
    "  for batch_num, (inputs, labels) in enumerate(test_loader):\n",
    "      inputs = inputs.to(device)\n",
    "      labels = labels.to(device)\n",
    "\n",
    "      # Propagate batch through network\n",
    "      outputs  = model(inputs)\n",
    "      loss     = criterion(outputs, labels.squeeze())\n",
    "      _, preds = torch.max(outputs, 1)\n",
    "\n",
    "      # Update statistics for this batch\n",
    "      running_loss  += loss.item()\n",
    "      num_correct   += torch.sum(preds == labels.data.reshape(-1))\n",
    "      total_images  += labels.cpu().data.numpy().size\n",
    "\n",
    "      # Log Progress every 200 batches\n",
    "      if (batch_num + 1) % 200 == 0:\n",
    "        log_progress(running_loss, batch_num, batch_size, epoch, num_epochs, test_loader)    \n",
    "\n",
    "  # Update statistics for validation data\n",
    "  val_loss_history[epoch] = loss.item() #running_loss / total_images\n",
    "  val_acc_history[epoch]  = float(num_correct)  / float(total_images) \n",
    "  print(\"Val Avg. Loss: [{}] Acc: {} on {} images\\n\".format(\n",
    "      round(val_loss_history[epoch],4), val_acc_history[epoch], total_images))\n",
    "\n",
    "print(\"Time Elapsed: {} seconds\".format((datetime.now() - start_time).total_seconds()))"
   ]
  },
  {
   "cell_type": "markdown",
   "metadata": {
    "id": "SBiZuxracH56"
   },
   "source": [
    "## Learning curve plots"
   ]
  },
  {
   "cell_type": "code",
   "execution_count": 73,
   "metadata": {
    "colab": {
     "base_uri": "https://localhost:8080/",
     "height": 353
    },
    "id": "xuJFZ9c8Na2C",
    "outputId": "915da737-cd6e-456d-e15f-d67e5ff9706e"
   },
   "outputs": [
    {
     "data": {
      "image/png": "[encoded data removed]",
      "text/plain": [
       "<Figure size 792x360 with 2 Axes>"
      ]
     },
     "metadata": {
      "needs_background": "light",
      "tags": []
     },
     "output_type": "display_data"
    }
   ],
   "source": [
    "plot(train_loss_history, val_loss_history, train_acc_history, val_acc_history)"
   ]
  },
  {
   "cell_type": "code",
   "execution_count": 74,
   "metadata": {
    "colab": {
     "base_uri": "https://localhost:8080/"
    },
    "id": "Yegse1KtNcHs",
    "outputId": "7be77a57-b123-4d22-fddf-d4e16bdb6cf3"
   },
   "outputs": [
    {
     "name": "stderr",
     "output_type": "stream",
     "text": [
      "/usr/local/lib/python3.6/dist-packages/ipykernel_launcher.py:31: UserWarning: Implicit dimension choice for softmax has been deprecated. Change the call to include dim=X as an argument.\n"
     ]
    },
    {
     "name": "stdout",
     "output_type": "stream",
     "text": [
      "Test Accuracy of the model on the 10000 test images: 99.29 %\n"
     ]
    }
   ],
   "source": [
    "# Test the model\n",
    "ytest = []\n",
    "rtest = np.ones((0,10))\n",
    "model.eval()  # eval mode (batchnorm uses moving mean/variance instead of mini-batch mean/variance)\n",
    "with torch.no_grad():\n",
    "    correct = 0\n",
    "    total = 0\n",
    "    for images, labels in test_loader:\n",
    "        ytest = np.append(ytest, labels)\n",
    "        images = images.to(device)\n",
    "        labels = labels.to(device)\n",
    "        outputs = model(images)\n",
    "        _, predicted = torch.max(outputs.data, 1)\n",
    "        total += labels.size(0)\n",
    "        correct += (predicted == labels).sum().item()\n",
    "        rtest = np.append(rtest, outputs.cpu(), axis=0)\n",
    "print('Test Accuracy of the model on the 10000 test images: {} %'.format(100 * correct / total))"
   ]
  },
  {
   "cell_type": "markdown",
   "metadata": {},
   "source": [
    "### In the end, with the model above, we are able to get train loss and accuracy of 1.4619 and 0.9959 and test loss and accuracy of 1.4612 and 0.9929. Since we are looking for the best model, we should be looking for the highest test accuracy, and this model gives 99.29%. Compared to the original pytorch demo model, which is better than the keras model, it has 98.65% test accuracy. This shows that this model is superior compared to the pytorch demo model (by 1.01%). Additionally, this model trains and test in 40 seconds, while the demo pytorch model took 78 seconds. As a result, this model would be the best model to use. \n",
    "\n",
    "### One concern is that this model seem to start to overfit. This can be seen by how the traning loss starts increases a bit at epoch=1. This may be caused by a learning rate that is too high or the need to increase the dropout value. After experimenting with it, it is true that performing that will help decrease the training loss, however it will decrease the test accuracy too. Since this model still gives the best test accuracy, we have decided to go with this model. "
   ]
  },
  {
   "cell_type": "code",
   "execution_count": 75,
   "metadata": {
    "colab": {
     "base_uri": "https://localhost:8080/",
     "height": 314
    },
    "id": "f2On63xvNdkH",
    "outputId": "2123e363-3909-494f-eed0-2e3fbd116b9a"
   },
   "outputs": [
    {
     "name": "stdout",
     "output_type": "stream",
     "text": [
      "Confusion matrix, without normalization\n"
     ]
    },
    {
     "data": {
      "image/png": "[encoded data removed]",
      "text/plain": [
       "<Figure size 432x288 with 2 Axes>"
      ]
     },
     "metadata": {
      "needs_background": "light",
      "tags": []
     },
     "output_type": "display_data"
    }
   ],
   "source": [
    "cfm = confusion_matrix(np.argmax (rtest,axis=1), ytest)\n",
    "plot_confusion_matrix(cfm, classes=range(10), \n",
    "                      title='Confusion matrix for MNIST')"
   ]
  },
  {
   "cell_type": "markdown",
   "metadata": {},
   "source": [
    "### Comparing this confusion matrix with the demo model's confusion matrix, both of them are very similar. This is because both of the have a very high test accuracy."
   ]
  },
  {
   "cell_type": "code",
   "execution_count": 52,
   "metadata": {
    "id": "8VKfJzwENfN8"
   },
   "outputs": [],
   "source": [
    "# Save the model checkpoint\n",
    "torch.save(model.state_dict(), 'model.ckpt')"
   ]
  },
  {
   "cell_type": "markdown",
   "metadata": {},
   "source": [
    "# Section 3"
   ]
  },
  {
   "cell_type": "markdown",
   "metadata": {},
   "source": [
    "### In this final section, we will be creating a CNN model in pytorch that will use the idata dataset that we have from lab 7. We will also evaluate the performance of the model and compare the results with the original model.\n",
    "\n",
    "### In the first step, we first added a SimpleDataset function that will be used to get the idata set. Then, the train and test dataset is extracted. A change that we have here is that the test set will be from the idata dataset, which is located in the idata directory and refers to the labels.csv file that shows the name of the file and true label of it. These test images are converted to Tensors."
   ]
  },
  {
   "cell_type": "code",
   "execution_count": 37,
   "metadata": {
    "id": "-5mF8IK32_yd",
    "outputId": "7c5b0db5-feab-470d-c2a4-576f8ac6d985"
   },
   "outputs": [],
   "source": [
    "import pandas as pd\n",
    "import numpy as np\n",
    "from torch.utils.data.dataset import Dataset\n",
    "\n",
    "class SimpleDataset(Dataset):\n",
    "    def __init__(self, data_path, csv_name, transform = None ):\n",
    "        \"\"\"\n",
    "        Args:\n",
    "            data_path (string): path to the folder where images and csv files are located\n",
    "            csv_name (string): name of the csv lablel file\n",
    "            transform: pytorch transforms for transforms and tensor conversion\n",
    "        \"\"\"\n",
    "        # Set path\n",
    "        self.data_path = data_path\n",
    "        # Transforms\n",
    "        self.transform = transform\n",
    "        # Read the csv file\n",
    "        self.data_info = pd.read_csv(data_path + csv_name, header=None)\n",
    "        # First column contains the image paths\n",
    "        self.image_arr = np.asarray(self.data_info.iloc[:, 0])\n",
    "        # Second column is the labels\n",
    "        self.label_arr = np.asarray(self.data_info.iloc[:, 1])\n",
    "        # Calculate len\n",
    "        self.data_len = len(self.data_info.index)\n",
    "        \n",
    "\n",
    "    def __getitem__(self, index):\n",
    "        # Get image name from the pandas df\n",
    "        single_image_name = self.image_arr[index]\n",
    "        # Open image\n",
    "        img_as_img = Image.open(self.data_path + single_image_name)\n",
    "        if self.transform is not None:\n",
    "              img_as_img = self.transform(img_as_img)\n",
    "\n",
    "        # Get label(class) of the image based on the cropped pandas column\n",
    "        single_image_label = self.label_arr[index]\n",
    "        #convert to tensor to be consistent with MNIST dataset\n",
    "        single_image_label = torch.LongTensor( [ single_image_label ] )[0]\n",
    "        return (img_as_img, single_image_label)\n",
    "\n",
    "    def __len__(self):\n",
    "        return self.data_len\n",
    "\n",
    "\n",
    "# Device configuration\n",
    "device = torch.device('cuda:0' if torch.cuda.is_available() else 'cpu')\n",
    "\n",
    "# MNIST dataset\n",
    "train_dataset = torchvision.datasets.MNIST(root='./data/',\n",
    "                                           train=True, \n",
    "                                           transform=transforms.ToTensor(),\n",
    "                                           download=True)\n",
    "\n",
    "test_dataset = SimpleDataset( \"./idata/\", \"labels.csv\", transform=transforms.ToTensor())"
   ]
  },
  {
   "cell_type": "markdown",
   "metadata": {
    "id": "WiuDYatGKuwi"
   },
   "source": [
    "### Next, the plot_confusion_matrix is re-created. However, this time it will accept two classes parameters, because the confusion matrix will not be a perfect square dimension. This is because the test data label has extra labels 10-19 that describes letter shapes A-J, which does not exist in the MNIST training set."
   ]
  },
  {
   "cell_type": "code",
   "execution_count": 26,
   "metadata": {
    "id": "vtw2ImQQO08E"
   },
   "outputs": [],
   "source": [
    "def plot_confusion_matrix(cm, classes1, classes2,\n",
    "                          normalize=False,\n",
    "                          title='Confusion matrix',\n",
    "                          cmap=plt.cm.Blues):\n",
    "    \"\"\"\n",
    "    This function prints and plots the confusion matrix.\n",
    "    Normalization can be applied by setting `normalize=True`.\n",
    "    \"\"\"\n",
    "    if normalize:\n",
    "        cm = cm.astype('float') / cm.sum(axis=1)[:, np.newaxis]\n",
    "        print(\"Normalized confusion matrix\")\n",
    "    else:\n",
    "        print('Confusion matrix, without normalization')\n",
    "\n",
    "    #print(cm)\n",
    "\n",
    "    plt.imshow(cm, interpolation='nearest', cmap=cmap)\n",
    "    plt.title(title)\n",
    "    plt.colorbar()\n",
    "    tick_marks1 = np.arange(len(classes1))\n",
    "    tick_marks2 = np.arange(len(classes2))\n",
    "    plt.xticks(tick_marks1, classes1, rotation=45)\n",
    "    plt.yticks(tick_marks2, classes2)\n",
    "\n",
    "    fmt = '.2f' if normalize else 'd'\n",
    "    thresh = cm.max() / 2.\n",
    "    for i, j in itertools.product(range(cm.shape[0]), range(cm.shape[1])):\n",
    "        plt.text(j, i, format(cm[i, j], fmt),\n",
    "                 horizontalalignment=\"center\",\n",
    "                 color=\"white\" if cm[i, j] > thresh else \"black\")\n",
    "\n",
    "    plt.ylabel('True label')\n",
    "    plt.xlabel('Predicted label')\n",
    "    plt.tight_layout()\n"
   ]
  },
  {
   "cell_type": "markdown",
   "metadata": {},
   "source": [
    "### Then, the hyperparameters for the model is being set. Then, the training and testing data are loaded. These steps are similar to the original pytorch model."
   ]
  },
  {
   "cell_type": "code",
   "execution_count": 15,
   "metadata": {
    "id": "-39H6PNyQI4x"
   },
   "outputs": [],
   "source": [
    "# Hyperparameters\n",
    "num_epochs = 6\n",
    "num_classes = 20\n",
    "batch_size = 100\n",
    "learning_rate = 0.0001"
   ]
  },
  {
   "cell_type": "code",
   "execution_count": 10,
   "metadata": {
    "id": "xLGXeFkz2_yk"
   },
   "outputs": [],
   "source": [
    "# Data loader\n",
    "train_loader = torch.utils.data.DataLoader(dataset=train_dataset,\n",
    "                                           batch_size=batch_size, \n",
    "                                           shuffle=True)\n",
    "\n",
    "test_loader = torch.utils.data.DataLoader(dataset=test_dataset,\n",
    "                                          batch_size=batch_size, \n",
    "                                          shuffle=False)"
   ]
  },
  {
   "cell_type": "markdown",
   "metadata": {
    "id": "zpIzFubFLfBG"
   },
   "source": [
    "## Model\n",
    "### Below is the model that we have. We are using an identical model to allow a fair comparison of using the idata test set with the MNIST test set."
   ]
  },
  {
   "cell_type": "code",
   "execution_count": 16,
   "metadata": {
    "id": "n7nXTSdg2_yn"
   },
   "outputs": [],
   "source": [
    "# Convolutional neural network (two convolutional layers)\n",
    "class ConvNet(nn.Module):\n",
    "    def __init__(self, num_classes=20):\n",
    "        super(ConvNet, self).__init__()\n",
    "        self.layer1 = nn.Sequential(\n",
    "            nn.Conv2d(1, 16, kernel_size=5, stride=1, padding=2),\n",
    "            nn.BatchNorm2d(16),\n",
    "            nn.ReLU(),\n",
    "            nn.MaxPool2d(kernel_size=2, stride=2)\n",
    "            )\n",
    "        self.layer2 = nn.Sequential(\n",
    "            nn.Conv2d(16, 32, kernel_size=5, stride=1, padding=2),\n",
    "            nn.BatchNorm2d(32),\n",
    "            nn.ReLU(),\n",
    "            nn.MaxPool2d(kernel_size=2, stride=2))\n",
    "        self.fc = nn.Linear(7*7*32, num_classes)\n",
    "        \n",
    "    def forward(self, x):\n",
    "        out = self.layer1(x)\n",
    "        out = self.layer2(out)\n",
    "        out = out.reshape(out.size(0), -1)\n",
    "        out = self.fc(out)\n",
    "        return out\n",
    "\n",
    "model = ConvNet(num_classes).to(device)"
   ]
  },
  {
   "cell_type": "markdown",
   "metadata": {
    "id": "DQhKowFgy1ty"
   },
   "source": [
    "## Training \n",
    "### In this step, our model is trained based on the MNIST training set that we have and the hyperparameters. Again, this step if identical to the provided model."
   ]
  },
  {
   "cell_type": "code",
   "execution_count": 17,
   "metadata": {
    "colab": {
     "base_uri": "https://localhost:8080/",
     "height": 1000
    },
    "id": "nL5ha6WXRbYp",
    "outputId": "4783d15b-cb77-4604-971f-0d7f513ea7e2"
   },
   "outputs": [
    {
     "name": "stdout",
     "output_type": "stream",
     "text": [
      "EPOCH [1/6]. Running Loss: 206.78 Progress: 33.33 % \n",
      "EPOCH [1/6]. Running Loss: 265.96 Progress: 66.67 % \n",
      "EPOCH [1/6]. Running Loss: 302.06 Progress: 100.0 % \n",
      "Train Avg. Loss: [0.123] Acc: 0.8839 on 60000.0 images\n",
      "Validating...\n",
      "Val Avg. Loss: [2.3671] Acc: 0.5166666666666667 on 60.0 images\n",
      "\n",
      "EPOCH [2/6]. Running Loss: 28.03 Progress: 33.33 % \n",
      "EPOCH [2/6]. Running Loss: 51.49 Progress: 66.67 % \n",
      "EPOCH [2/6]. Running Loss: 71.47 Progress: 100.0 % \n",
      "Train Avg. Loss: [0.0817] Acc: 0.9699 on 60000.0 images\n",
      "Validating...\n",
      "Val Avg. Loss: [2.378] Acc: 0.6333333333333333 on 60.0 images\n",
      "\n",
      "EPOCH [3/6]. Running Loss: 18.36 Progress: 33.33 % \n",
      "EPOCH [3/6]. Running Loss: 34.79 Progress: 66.67 % \n",
      "EPOCH [3/6]. Running Loss: 48.9 Progress: 100.0 % \n",
      "Train Avg. Loss: [0.0706] Acc: 0.9786 on 60000.0 images\n",
      "Validating...\n",
      "Val Avg. Loss: [2.4399] Acc: 0.6666666666666666 on 60.0 images\n",
      "\n",
      "EPOCH [4/6]. Running Loss: 13.61 Progress: 33.33 % \n",
      "EPOCH [4/6]. Running Loss: 26.58 Progress: 66.67 % \n",
      "EPOCH [4/6]. Running Loss: 38.21 Progress: 100.0 % \n",
      "Train Avg. Loss: [0.0692] Acc: 0.9827 on 60000.0 images\n",
      "Validating...\n",
      "Val Avg. Loss: [2.5188] Acc: 0.6666666666666666 on 60.0 images\n",
      "\n",
      "EPOCH [5/6]. Running Loss: 11.59 Progress: 33.33 % \n",
      "EPOCH [5/6]. Running Loss: 21.46 Progress: 66.67 % \n",
      "EPOCH [5/6]. Running Loss: 32.03 Progress: 100.0 % \n",
      "Train Avg. Loss: [0.1003] Acc: 0.9856 on 60000.0 images\n",
      "Validating...\n",
      "Val Avg. Loss: [2.5292] Acc: 0.6666666666666666 on 60.0 images\n",
      "\n",
      "EPOCH [6/6]. Running Loss: 9.28 Progress: 33.33 % \n",
      "EPOCH [6/6]. Running Loss: 18.57 Progress: 66.67 % \n",
      "EPOCH [6/6]. Running Loss: 27.77 Progress: 100.0 % \n",
      "Train Avg. Loss: [0.0494] Acc: 0.987 on 60000.0 images\n",
      "Validating...\n",
      "Val Avg. Loss: [2.62] Acc: 0.6666666666666666 on 60.0 images\n",
      "\n",
      "Time Elapsed: 243.437647 seconds\n"
     ]
    }
   ],
   "source": [
    "# Loss and optimizer\n",
    "criterion = nn.CrossEntropyLoss()\n",
    "optimizer = torch.optim.Adam(model.parameters(), lr=learning_rate)\n",
    "\n",
    "# Keep track of average losses, training accuracy and validation accuracy for each epoch\n",
    "train_loss_history = np.zeros(num_epochs)\n",
    "train_acc_history  = np.zeros(num_epochs)\n",
    "val_loss_history   = np.zeros(num_epochs)\n",
    "val_acc_history    = np.zeros(num_epochs)\n",
    "\n",
    "start_time = datetime.now()\n",
    "\n",
    "for epoch in range(num_epochs):\n",
    "    \n",
    "    # Place network in training mode\n",
    "    model.train()\n",
    "    \n",
    "    # Initialize running epoch loss and number correctly classified\n",
    "    running_loss   = 0.0\n",
    "    num_correct    = 0.0\n",
    "    total_images   = 0.0\n",
    "    \n",
    "    for batch_num, (inputs, labels) in enumerate(train_loader):\n",
    "        # [inputs] and [labels] is one batch of images and their classes\n",
    "        inputs = inputs.to(device)\n",
    "        labels = labels.to(device)\n",
    "        \n",
    "        # Forward pass\n",
    "        outputs = model(inputs)\n",
    "        loss = criterion(outputs, labels)\n",
    "        \n",
    "        # Backward and optimize\n",
    "        optimizer.zero_grad()\n",
    "        loss.backward()\n",
    "        optimizer.step()\n",
    "\n",
    "        # Update statistics for this batch\n",
    "        curr_loss = loss.item()\n",
    "        _, preds = torch.max(outputs, 1)\n",
    "        curr_images = labels.cpu().data.numpy().size\n",
    "        curr_correct = torch.sum(preds == labels.data.reshape(-1))\n",
    "\n",
    "        # Update running statistics for this epoch\n",
    "        running_loss += curr_loss\n",
    "        num_correct += curr_correct\n",
    "        total_images += curr_images\n",
    "\n",
    "        # Log Progress every 200 batches\n",
    "        if (batch_num + 1) % 200 == 0:\n",
    "          log_progress(running_loss, batch_num, batch_size, epoch, num_epochs, train_loader)\n",
    "\n",
    "    # Update statistics for epoch\n",
    "    train_loss_history[epoch] = curr_loss #running_loss / total_images\n",
    "    train_acc_history[epoch]  = float(num_correct)  / float(total_images)\n",
    "    print(\"Train Avg. Loss: [{}] Acc: {} on {} images\".format(\n",
    "        round(train_loss_history[epoch],4), round(train_acc_history[epoch],4), total_images) )\n",
    "    \n",
    "    # ============================ Validation ==============================\n",
    "    print(\"Validating...\")\n",
    "    # Place network in testing mode (won't need to keep track of gradients)\n",
    "    model.eval()\n",
    "    \n",
    "    running_loss   = 0.0\n",
    "    num_correct    = 0.0\n",
    "    total_images   = 0.0\n",
    "    \n",
    "    for batch_num, (inputs, labels) in enumerate(test_loader):\n",
    "        inputs = inputs.to(device)\n",
    "        labels = labels.to(device)\n",
    "\n",
    "        # Propagate batch through network\n",
    "        outputs  = model(inputs)\n",
    "        loss     = criterion(outputs, labels.squeeze())\n",
    "        _, preds = torch.max(outputs, 1)\n",
    "        \n",
    "        # Update statistics for this batch\n",
    "        running_loss  += loss.item()\n",
    "        num_correct   += torch.sum(preds == labels.data.reshape(-1))\n",
    "        total_images  += labels.cpu().data.numpy().size\n",
    "        \n",
    "        # Log Progress every 200 batches\n",
    "        if (batch_num + 1) % 200 == 0:\n",
    "          log_progress(running_loss, batch_num, batch_size, epoch, num_epochs, test_loader)    \n",
    "\n",
    "    # Update statistics for validation data\n",
    "    val_loss_history[epoch] = loss.item() #running_loss / total_images\n",
    "    val_acc_history[epoch]  = float(num_correct)  / float(total_images) \n",
    "    print(\"Val Avg. Loss: [{}] Acc: {} on {} images\\n\".format(\n",
    "        round(val_loss_history[epoch],4), val_acc_history[epoch], total_images))\n",
    "    \n",
    "print(\"Time Elapsed: {} seconds\".format((datetime.now() - start_time).total_seconds()))"
   ]
  },
  {
   "cell_type": "code",
   "execution_count": 18,
   "metadata": {
    "id": "KKkvjlhXO08G",
    "outputId": "8015240a-b97e-4590-d36e-5ec10b9680ed"
   },
   "outputs": [
    {
     "data": {
      "image/png": "[encoded data removed]",
      "text/plain": [
       "<Figure size 792x360 with 2 Axes>"
      ]
     },
     "metadata": {
      "needs_background": "light"
     },
     "output_type": "display_data"
    }
   ],
   "source": [
    "plot(train_loss_history, val_loss_history, train_acc_history, val_acc_history)"
   ]
  },
  {
   "cell_type": "code",
   "execution_count": 20,
   "metadata": {
    "id": "_0bvFWr9O08G",
    "outputId": "98e671ae-3613-41a9-86e1-1ed988fcc932"
   },
   "outputs": [
    {
     "name": "stdout",
     "output_type": "stream",
     "text": [
      "Test Accuracy of the model on the 10000 test images: 66.66666666666667 %\n"
     ]
    }
   ],
   "source": [
    "# Test the model\n",
    "ytest = []\n",
    "rtest = np.ones((0,20))\n",
    "model.eval()  # eval mode (batchnorm uses moving mean/variance instead of mini-batch mean/variance)\n",
    "with torch.no_grad():\n",
    "    correct = 0\n",
    "    total = 0\n",
    "    for images, labels in test_loader:\n",
    "        ytest = np.append(ytest, labels)\n",
    "        images = images.to(device)\n",
    "        labels = labels.to(device)\n",
    "        outputs = model(images)\n",
    "        _, predicted = torch.max(outputs.data, 1)\n",
    "        total += labels.size(0)\n",
    "        correct += (predicted == labels).sum().item()\n",
    "        rtest = np.append(rtest, outputs, axis=0)\n",
    "print('Test Accuracy of the model on the 10000 test images: {} %'.format(100 * correct / total))"
   ]
  },
  {
   "cell_type": "markdown",
   "metadata": {},
   "source": [
    "### From the plots and results above, we can see that the training accuracy and loss is 0.987 and 0.0494 while the testing accuracy and loss is 0.666 and 2.62. Despite the high accuracy and low error of the training set, the testing prediction of the model is very poor. This shows that a high training accuracy does not correspond to a high testing accuracy. A 0.666 testing accuracy is very low, and in the confusion matrix below, we will be able to see on the major sources of errors. Looking at the plots above, it is interesting to see the major difference of the average loss and accuracy values between the training and testing set. This shows how the training and testing dataset may not be too similar, which is true as the testing set came from the idata that I have created. Looking at the model loss plot, we can see that the test loss keeps increasing as the epoch increases, which is not ideal. Additionally, we can see that the test accuracy stops increasing as the epoch reaches the value of 3. This shows that it has reached the maximum test accuracy at 66.6%.\n",
    "\n",
    "### Comparing this result with the original experiment with MNIST test set, we can see major differences. The original experiment performed way better with a much higher test accuracy of 98.65% compared to 66.6% in this experiment. It also has a much lower loss. This is a huge finding because these two models are trained on the same training dataset, and the only difference is the test set. This shows that the test set used in this experiment is not similar to the training MNIST data. As a result, it will not be possible to have a high test accuracy. \n",
    "\n",
    "### This is a similar finding to the result in lab7, where the test accuracy is very low when using logistic regression model. However, the test accuracy when using CNN is still better than logistic regression, based on my experimentation (66% vs 32%)."
   ]
  },
  {
   "cell_type": "markdown",
   "metadata": {},
   "source": [
    "### Finally, the confusion matrix is plotted. Note that the A-J letters are shown as 10-19 labels."
   ]
  },
  {
   "cell_type": "code",
   "execution_count": 36,
   "metadata": {},
   "outputs": [
    {
     "name": "stdout",
     "output_type": "stream",
     "text": [
      "Confusion matrix, without normalization\n",
      "Label 10-19 represents A-J\n"
     ]
    },
    {
     "data": {
      "image/png": "[encoded data removed]",
      "text/plain": [
       "<Figure size 432x288 with 2 Axes>"
      ]
     },
     "metadata": {
      "needs_background": "light"
     },
     "output_type": "display_data"
    }
   ],
   "source": [
    "cfm = confusion_matrix(np.argmax (rtest,axis=1), ytest)\n",
    "plot_confusion_matrix(cfm[:10].T, classes1=range(10), classes2=range(20),\n",
    "                      title='Confusion matrix for MNIST')\n",
    "print(\"Label 10-19 represents A-J\")"
   ]
  },
  {
   "cell_type": "markdown",
   "metadata": {},
   "source": [
    "### From the confusion matrix, we can see that digits 0-5 and 7 is predicted perfectly. Digit 8 has a 3/5 correct prediction while digit 9 has a 2/5 correct prediction. We can also see that none of the digit 6 predictions are correct, and were mostly predicted as digit 5. Most of the errors came from the A-J letters, whose labels are not part of the training set, and thus their predictions will be wrong. Based on the confusion matrix, we can see that for my own handwritting most digits will be predicted well, however the model could not predict the digit 6. This may be a problem with my own handwriting, and also shows the limitation of prediction using MNIST training dataset on someone else's handwriting test set. When comparing this confusion matrix to the original model that has 98.65% test accuracy, there are some obvious differences. Firstly, this confusion matrix has 10 extra true labels. Secondly, the original model's confusion matrix clearly shows a diagonal blue boxes, which means that most predictions are correct. There are no other blue boxes outside the diagonal blue line of boxes. On the other hand, this does not happen in the confusion matrix above, because this model has a very poor prediction of the digit 6."
   ]
  },
  {
   "cell_type": "code",
   "execution_count": null,
   "metadata": {
    "id": "QtgmGWDqO08H"
   },
   "outputs": [],
   "source": [
    "# Save the model checkpoint\n",
    "torch.save(model.state_dict(), 'model.ckpt')"
   ]
  },
  {
   "cell_type": "markdown",
   "metadata": {},
   "source": [
    "### Next, we will see if there is an improvement in prediction for the idata2 dataset."
   ]
  },
  {
   "cell_type": "code",
   "execution_count": 1,
   "metadata": {
    "id": "-5mF8IK32_yd",
    "outputId": "7c5b0db5-feab-470d-c2a4-576f8ac6d985"
   },
   "outputs": [],
   "source": [
    "# Device configuration\n",
    "device = torch.device('cuda:0' if torch.cuda.is_available() else 'cpu')\n",
    "\n",
    "# MNIST dataset\n",
    "train_dataset = torchvision.datasets.MNIST(root='./data/',\n",
    "                                           train=True, \n",
    "                                           transform=transforms.ToTensor(),\n",
    "                                           download=True)\n",
    "\n",
    "test_dataset = SimpleDataset( \"./idata2/\", \"labels.csv\", transform=transforms.ToTensor())"
   ]
  },
  {
   "cell_type": "markdown",
   "metadata": {},
   "source": [
    "### In the step above, several libraries are imported and functions are created for future use. Then, the idata2 set is used as test set."
   ]
  },
  {
   "cell_type": "markdown",
   "metadata": {},
   "source": [
    "### Then, the hyperparameters for the model is being set. Then, the training and testing data are loaded."
   ]
  },
  {
   "cell_type": "code",
   "execution_count": 5,
   "metadata": {
    "id": "-39H6PNyQI4x"
   },
   "outputs": [],
   "source": [
    "# Hyperparameters\n",
    "num_epochs = 6\n",
    "num_classes = 20\n",
    "batch_size = 100\n",
    "learning_rate = 0.0001"
   ]
  },
  {
   "cell_type": "code",
   "execution_count": 6,
   "metadata": {
    "id": "xLGXeFkz2_yk"
   },
   "outputs": [],
   "source": [
    "# Data loader\n",
    "train_loader = torch.utils.data.DataLoader(dataset=train_dataset,\n",
    "                                           batch_size=batch_size, \n",
    "                                           shuffle=True)\n",
    "\n",
    "test_loader = torch.utils.data.DataLoader(dataset=test_dataset,\n",
    "                                          batch_size=batch_size, \n",
    "                                          shuffle=False)"
   ]
  },
  {
   "cell_type": "markdown",
   "metadata": {
    "id": "DQhKowFgy1ty"
   },
   "source": [
    "## Training \n",
    "### In this step, our model is trained based on the MNIST training set that we have and the hyperparameters."
   ]
  },
  {
   "cell_type": "code",
   "execution_count": 8,
   "metadata": {
    "colab": {
     "base_uri": "https://localhost:8080/",
     "height": 1000
    },
    "id": "nL5ha6WXRbYp",
    "outputId": "4783d15b-cb77-4604-971f-0d7f513ea7e2"
   },
   "outputs": [
    {
     "name": "stdout",
     "output_type": "stream",
     "text": [
      "EPOCH [1/6]. Running Loss: 193.38 Progress: 33.33 % \n",
      "EPOCH [1/6]. Running Loss: 250.16 Progress: 66.67 % \n",
      "EPOCH [1/6]. Running Loss: 287.57 Progress: 100.0 % \n",
      "Train Avg. Loss: [0.1261] Acc: 0.8916 on 60000.0 images\n",
      "Validating...\n",
      "Val Avg. Loss: [2.44] Acc: 0.65 on 60.0 images\n",
      "\n",
      "EPOCH [2/6]. Running Loss: 28.04 Progress: 33.33 % \n",
      "EPOCH [2/6]. Running Loss: 51.95 Progress: 66.67 % \n",
      "EPOCH [2/6]. Running Loss: 73.34 Progress: 100.0 % \n",
      "Train Avg. Loss: [0.0421] Acc: 0.9688 on 60000.0 images\n",
      "Validating...\n",
      "Val Avg. Loss: [2.5701] Acc: 0.6666666666666666 on 60.0 images\n",
      "\n",
      "EPOCH [3/6]. Running Loss: 18.32 Progress: 33.33 % \n",
      "EPOCH [3/6]. Running Loss: 34.4 Progress: 66.67 % \n",
      "EPOCH [3/6]. Running Loss: 50.1 Progress: 100.0 % \n",
      "Train Avg. Loss: [0.0862] Acc: 0.9779 on 60000.0 images\n",
      "Validating...\n",
      "Val Avg. Loss: [2.604] Acc: 0.7 on 60.0 images\n",
      "\n",
      "EPOCH [4/6]. Running Loss: 13.7 Progress: 33.33 % \n",
      "EPOCH [4/6]. Running Loss: 26.68 Progress: 66.67 % \n",
      "EPOCH [4/6]. Running Loss: 39.24 Progress: 100.0 % \n",
      "Train Avg. Loss: [0.0679] Acc: 0.982 on 60000.0 images\n",
      "Validating...\n",
      "Val Avg. Loss: [2.6938] Acc: 0.6833333333333333 on 60.0 images\n",
      "\n",
      "EPOCH [5/6]. Running Loss: 11.86 Progress: 33.33 % \n",
      "EPOCH [5/6]. Running Loss: 23.15 Progress: 66.67 % \n",
      "EPOCH [5/6]. Running Loss: 33.07 Progress: 100.0 % \n",
      "Train Avg. Loss: [0.041] Acc: 0.9848 on 60000.0 images\n",
      "Validating...\n",
      "Val Avg. Loss: [2.6534] Acc: 0.75 on 60.0 images\n",
      "\n",
      "EPOCH [6/6]. Running Loss: 9.25 Progress: 33.33 % \n",
      "EPOCH [6/6]. Running Loss: 18.67 Progress: 66.67 % \n",
      "EPOCH [6/6]. Running Loss: 28.48 Progress: 100.0 % \n",
      "Train Avg. Loss: [0.0333] Acc: 0.9866 on 60000.0 images\n",
      "Validating...\n",
      "Val Avg. Loss: [2.7504] Acc: 0.75 on 60.0 images\n",
      "\n",
      "Time Elapsed: 250.045572 seconds\n"
     ]
    }
   ],
   "source": [
    "# Loss and optimizer\n",
    "criterion = nn.CrossEntropyLoss()\n",
    "optimizer = torch.optim.Adam(model.parameters(), lr=learning_rate)\n",
    "\n",
    "# Keep track of average losses, training accuracy and validation accuracy for each epoch\n",
    "train_loss_history = np.zeros(num_epochs)\n",
    "train_acc_history  = np.zeros(num_epochs)\n",
    "val_loss_history   = np.zeros(num_epochs)\n",
    "val_acc_history    = np.zeros(num_epochs)\n",
    "\n",
    "start_time = datetime.now()\n",
    "\n",
    "for epoch in range(num_epochs):\n",
    "    \n",
    "    # Place network in training mode\n",
    "    model.train()\n",
    "    \n",
    "    # Initialize running epoch loss and number correctly classified\n",
    "    running_loss   = 0.0\n",
    "    num_correct    = 0.0\n",
    "    total_images   = 0.0\n",
    "    \n",
    "    for batch_num, (inputs, labels) in enumerate(train_loader):\n",
    "        # [inputs] and [labels] is one batch of images and their classes\n",
    "        inputs = inputs.to(device)\n",
    "        labels = labels.to(device)\n",
    "        \n",
    "        # Forward pass\n",
    "        outputs = model(inputs)\n",
    "        loss = criterion(outputs, labels)\n",
    "        \n",
    "        # Backward and optimize\n",
    "        optimizer.zero_grad()\n",
    "        loss.backward()\n",
    "        optimizer.step()\n",
    "\n",
    "        # Update statistics for this batch\n",
    "        curr_loss = loss.item()\n",
    "        _, preds = torch.max(outputs, 1)\n",
    "        curr_images = labels.cpu().data.numpy().size\n",
    "        curr_correct = torch.sum(preds == labels.data.reshape(-1))\n",
    "\n",
    "        # Update running statistics for this epoch\n",
    "        running_loss += curr_loss\n",
    "        num_correct += curr_correct\n",
    "        total_images += curr_images\n",
    "\n",
    "        # Log Progress every 200 batches\n",
    "        if (batch_num + 1) % 200 == 0:\n",
    "          log_progress(running_loss, batch_num, batch_size, epoch, num_epochs, train_loader)\n",
    "\n",
    "    # Update statistics for epoch\n",
    "    train_loss_history[epoch] = curr_loss #running_loss / total_images\n",
    "    train_acc_history[epoch]  = float(num_correct)  / float(total_images)\n",
    "    print(\"Train Avg. Loss: [{}] Acc: {} on {} images\".format(\n",
    "        round(train_loss_history[epoch],4), round(train_acc_history[epoch],4), total_images) )\n",
    "    \n",
    "    # ============================ Validation ==============================\n",
    "    print(\"Validating...\")\n",
    "    # Place network in testing mode (won't need to keep track of gradients)\n",
    "    model.eval()\n",
    "    \n",
    "    running_loss   = 0.0\n",
    "    num_correct    = 0.0\n",
    "    total_images   = 0.0\n",
    "    \n",
    "    for batch_num, (inputs, labels) in enumerate(test_loader):\n",
    "        inputs = inputs.to(device)\n",
    "        labels = labels.to(device)\n",
    "\n",
    "        # Propagate batch through network\n",
    "        outputs  = model(inputs)\n",
    "        loss     = criterion(outputs, labels.squeeze())\n",
    "        _, preds = torch.max(outputs, 1)\n",
    "        \n",
    "        # Update statistics for this batch\n",
    "        running_loss  += loss.item()\n",
    "        num_correct   += torch.sum(preds == labels.data.reshape(-1))\n",
    "        total_images  += labels.cpu().data.numpy().size\n",
    "        \n",
    "        # Log Progress every 200 batches\n",
    "        if (batch_num + 1) % 200 == 0:\n",
    "          log_progress(running_loss, batch_num, batch_size, epoch, num_epochs, test_loader)    \n",
    "\n",
    "    # Update statistics for validation data\n",
    "    val_loss_history[epoch] = loss.item() #running_loss / total_images\n",
    "    val_acc_history[epoch]  = float(num_correct)  / float(total_images) \n",
    "    print(\"Val Avg. Loss: [{}] Acc: {} on {} images\\n\".format(\n",
    "        round(val_loss_history[epoch],4), val_acc_history[epoch], total_images))\n",
    "    \n",
    "print(\"Time Elapsed: {} seconds\".format((datetime.now() - start_time).total_seconds()))"
   ]
  },
  {
   "cell_type": "markdown",
   "metadata": {
    "id": "3-3VkCgfO08F"
   },
   "source": [
    "## Plots\n",
    "### In the first plot below, it shows what happens with the average loss and accuracy of both the training and testing through the epochs."
   ]
  },
  {
   "cell_type": "code",
   "execution_count": 9,
   "metadata": {
    "id": "KKkvjlhXO08G",
    "outputId": "8015240a-b97e-4590-d36e-5ec10b9680ed"
   },
   "outputs": [
    {
     "data": {
      "image/png": "[encoded data removed]",
      "text/plain": [
       "<Figure size 792x360 with 2 Axes>"
      ]
     },
     "metadata": {
      "needs_background": "light"
     },
     "output_type": "display_data"
    }
   ],
   "source": [
    "plot(train_loss_history, val_loss_history, train_acc_history, val_acc_history)"
   ]
  },
  {
   "cell_type": "code",
   "execution_count": 10,
   "metadata": {
    "id": "_0bvFWr9O08G",
    "outputId": "98e671ae-3613-41a9-86e1-1ed988fcc932"
   },
   "outputs": [
    {
     "name": "stdout",
     "output_type": "stream",
     "text": [
      "Test Accuracy of the model on the 10000 test images: 75.0 %\n"
     ]
    }
   ],
   "source": [
    "# Test the model\n",
    "ytest = []\n",
    "rtest = np.ones((0,20))\n",
    "model.eval()  # eval mode (batchnorm uses moving mean/variance instead of mini-batch mean/variance)\n",
    "with torch.no_grad():\n",
    "    correct = 0\n",
    "    total = 0\n",
    "    for images, labels in test_loader:\n",
    "        ytest = np.append(ytest, labels)\n",
    "        images = images.to(device)\n",
    "        labels = labels.to(device)\n",
    "        outputs = model(images)\n",
    "        _, predicted = torch.max(outputs.data, 1)\n",
    "        total += labels.size(0)\n",
    "        correct += (predicted == labels).sum().item()\n",
    "        rtest = np.append(rtest, outputs, axis=0)\n",
    "print('Test Accuracy of the model on the 10000 test images: {} %'.format(100 * correct / total))"
   ]
  },
  {
   "cell_type": "markdown",
   "metadata": {},
   "source": [
    "### Finally, the confusion matrix is plotted."
   ]
  },
  {
   "cell_type": "code",
   "execution_count": 11,
   "metadata": {},
   "outputs": [
    {
     "name": "stdout",
     "output_type": "stream",
     "text": [
      "Confusion matrix, without normalization\n",
      "Label 10-19 represents A-J\n"
     ]
    },
    {
     "data": {
      "image/png": "[encoded data removed]",
      "text/plain": [
       "<Figure size 432x288 with 2 Axes>"
      ]
     },
     "metadata": {
      "needs_background": "light"
     },
     "output_type": "display_data"
    }
   ],
   "source": [
    "cfm = confusion_matrix(np.argmax (rtest,axis=1), ytest)\n",
    "plot_confusion_matrix(cfm[:10].T, classes1=range(10), classes2=range(20),\n",
    "                      title='Confusion matrix for MNIST')\n",
    "print(\"Label 10-19 represents A-J\")"
   ]
  },
  {
   "cell_type": "markdown",
   "metadata": {},
   "source": [
    "### With the idata2 test set, which is the handwritten digits that has been dilated (thicker lines), we are able to get an improved result compared to using idata. The prediction improves from 66.6% in idata to 75% using idata2 test set. Note that when using the logistic regression model in Lab 7, the validation/test accuracy was at 50%. Once again, this shows that using this CNN model will give a better result to using logistic regression. From the loss vs epoch plot, we can see that the loss is starting to increase as more epochs. This shows that model may hae started to overfit. From epoch 4 to 5 in the accuracy plot, we can see that there is barely any improvement in validation accuracy. From the confusion matrix, we can see that we actually only have 5 misclassified entries, which are three '6' digits and two '9' digits. Other than that, the misclassifications came from the alphabets, which will definetely be misclassified as the labels are not part of the training data."
   ]
  },
  {
   "cell_type": "markdown",
   "metadata": {},
   "source": [
    "# Conclusion\n",
    "### In this lab, we have learned about creating Convolution Neural Networks using both Pytorch and Keras for MNSIT dataset. We first analyzed the demo model in pytorch and keras and compare how performance may change if we are to use GPU or not (in Google Collab). Then, we attempted to create the demo model of Keras in Pytorch and vice versa to see if there are any performance differences, which actually do differ. Then, we attempted to create our own model in PyTorch, which involves experimentation with different layers and parameters that would allow best test accuracy without overfitting. Finally, we tested the original demo pytorch model but using our idata test set from Lab 7, in which we found that the CNN model would give a better test accuracy compared to Logistic Regression done in Lab 7."
   ]
  },
  {
   "cell_type": "code",
   "execution_count": null,
   "metadata": {},
   "outputs": [],
   "source": []
  }
 ],
 "metadata": {
  "kernelspec": {
   "display_name": "Python 3",
   "language": "python",
   "name": "python3"
  },
  "language_info": {
   "codemirror_mode": {
    "name": "ipython",
    "version": 3
   },
   "file_extension": ".py",
   "mimetype": "text/x-python",
   "name": "python",
   "nbconvert_exporter": "python",
   "pygments_lexer": "ipython3",
   "version": "3.8.3"
  }
 },
 "nbformat": 4,
 "nbformat_minor": 4
}
