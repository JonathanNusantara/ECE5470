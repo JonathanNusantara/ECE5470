{
 "cells": [
  {
   "cell_type": "markdown",
   "metadata": {
    "id": "SJyB7Oeg2_yX"
   },
   "source": [
    "<h2>PyTorch example of a simple convolution network model</h2>\n",
    "Trained and tested using the MNIST dataset\n",
    "\n",
    "Taken from: https://github.com/yunjey/pytorch-tutorial/blob/master/tutorials/02-intermediate/convolutional_neural_network/main.py#L35-L56\n",
    "\n",
    "Initialization"
   ]
  },
  {
   "cell_type": "code",
   "execution_count": 1,
   "metadata": {
    "id": "-5mF8IK32_yd",
    "outputId": "0e684b80-84b5-4e91-aea9-f0c8386fc31d"
   },
   "outputs": [],
   "source": [
    "import time\n",
    "import torch \n",
    "import torch.nn as nn\n",
    "import torchvision\n",
    "import torchvision.transforms as transforms\n",
    "\n",
    "from matplotlib import pyplot as plt\n",
    "import numpy as np\n",
    "from datetime import datetime\n",
    "from sklearn.metrics import confusion_matrix\n",
    "import itertools\n",
    "\n",
    "# Device configuration\n",
    "device = torch.device('cuda:0' if torch.cuda.is_available() else 'cpu')\n",
    "\n",
    "# MNIST dataset\n",
    "train_dataset = torchvision.datasets.MNIST(root='./data/',\n",
    "                                           train=True, \n",
    "                                           transform=transforms.ToTensor(),\n",
    "                                           download=True)\n",
    "\n",
    "test_dataset = torchvision.datasets.MNIST(root='./data/',\n",
    "                                          train=False, \n",
    "                                          transform= transforms.ToTensor())\n",
    "                                        "
   ]
  },
  {
   "cell_type": "markdown",
   "metadata": {
    "id": "WiuDYatGKuwi"
   },
   "source": [
    "# Utilities\n",
    "These functions provide Learning curve plots and lerning progress reports "
   ]
  },
  {
   "cell_type": "code",
   "execution_count": 2,
   "metadata": {
    "id": "rcJpiG9QUcax"
   },
   "outputs": [],
   "source": [
    "'''Learning Curve Plot Utility'''\n",
    "def plot(train_loss_history, val_loss_history, train_acc_history, val_acc_history):\n",
    "  fig, axs = plt.subplots(1, 2, figsize=(11,5))\n",
    "\n",
    "  ax = axs[0]\n",
    "  ax.set_title(\"Model Loss\", fontsize=12)\n",
    "  ax.plot(train_loss_history, label=\"Training\")\n",
    "  ax.plot(val_loss_history,   label=\"Validation\")\n",
    "  ax.set_xlabel(\"Epoch\",        fontsize=12)\n",
    "  ax.set_ylabel(\"Average loss\", fontsize=12)\n",
    "  ax.legend(loc=\"best\",         fontsize=12)\n",
    "\n",
    "  ax = axs[1]\n",
    "  ax.set_title(\"Model Accuracy\", fontsize=12)\n",
    "  ax.plot(train_acc_history, label=\"Training\")\n",
    "  ax.plot(val_acc_history,   label=\"Validation\")\n",
    "  ax.set_xlabel(\"Epoch\",        fontsize=12)\n",
    "  ax.set_ylabel(\"Accuracy\",     fontsize=12)\n",
    "  ax.set_ylim(0,1)\n",
    "  ax.legend(loc=\"best\",         fontsize=12)"
   ]
  },
  {
   "cell_type": "code",
   "execution_count": 3,
   "metadata": {
    "id": "GGfqtNuSSHuL"
   },
   "outputs": [],
   "source": [
    "'''Learning progress utility'''\n",
    "def log_progress(running_loss, curr_batch, batch_size, curr_epoch, total_epochs, dataloader):\n",
    "    \"\"\"\n",
    "    Prints message logging progress through training.\n",
    "    \"\"\"\n",
    "    progress = float(curr_batch + 1)/(float(len(dataloader.dataset)) / batch_size)\n",
    "    log = \"EPOCH [{}/{}]. Running Loss: {} Progress: {} % \".format(\n",
    "        curr_epoch + 1, total_epochs, round(running_loss, 2), round(progress * 100, 2))\n",
    "    print(log)"
   ]
  },
  {
   "cell_type": "code",
   "execution_count": 4,
   "metadata": {
    "id": "3mmi3cd9fJf-"
   },
   "outputs": [],
   "source": [
    "#  preserntation for a confusion matrix\n",
    "\n",
    "def plot_confusion_matrix(cm, classes,\n",
    "                          normalize=False,\n",
    "                          title='Confusion matrix',\n",
    "                          cmap=plt.cm.Blues):\n",
    "    \"\"\"\n",
    "    This function prints and plots the confusion matrix.\n",
    "    Normalization can be applied by setting `normalize=True`.\n",
    "    \"\"\"\n",
    "    if normalize:\n",
    "        cm = cm.astype('float') / cm.sum(axis=1)[:, np.newaxis]\n",
    "        print(\"Normalized confusion matrix\")\n",
    "    else:\n",
    "        print('Confusion matrix, without normalization')\n",
    "\n",
    "    #print(cm)\n",
    "\n",
    "    plt.imshow(cm, interpolation='nearest', cmap=cmap)\n",
    "    plt.title(title)\n",
    "    plt.colorbar()\n",
    "    tick_marks = np.arange(len(classes))\n",
    "    plt.xticks(tick_marks, classes, rotation=45)\n",
    "    plt.yticks(tick_marks, classes)\n",
    "\n",
    "    fmt = '.2f' if normalize else 'd'\n",
    "    thresh = cm.max() / 2.\n",
    "    for i, j in itertools.product(range(cm.shape[0]), range(cm.shape[1])):\n",
    "        plt.text(j, i, format(cm[i, j], fmt),\n",
    "                 horizontalalignment=\"center\",\n",
    "                 color=\"white\" if cm[i, j] > thresh else \"black\")\n",
    "\n",
    "    plt.ylabel('True label')\n",
    "    plt.xlabel('Predicted label')\n",
    "    plt.tight_layout()\n"
   ]
  },
  {
   "cell_type": "code",
   "execution_count": 5,
   "metadata": {
    "id": "-39H6PNyQI4x"
   },
   "outputs": [],
   "source": [
    "# Hyperparameters\n",
    "num_epochs = 6\n",
    "num_classes = 10\n",
    "batch_size = 100\n",
    "learning_rate = 0.0001"
   ]
  },
  {
   "cell_type": "code",
   "execution_count": 6,
   "metadata": {
    "id": "xLGXeFkz2_yk"
   },
   "outputs": [],
   "source": [
    "# Data loader\n",
    "train_loader = torch.utils.data.DataLoader(dataset=train_dataset,\n",
    "                                           batch_size=batch_size, \n",
    "                                           shuffle=True)\n",
    "\n",
    "test_loader = torch.utils.data.DataLoader(dataset=test_dataset,\n",
    "                                          batch_size=batch_size, \n",
    "                                          shuffle=False)"
   ]
  },
  {
   "cell_type": "markdown",
   "metadata": {
    "id": "zpIzFubFLfBG"
   },
   "source": [
    "## Model\n"
   ]
  },
  {
   "cell_type": "code",
   "execution_count": 7,
   "metadata": {
    "id": "n7nXTSdg2_yn"
   },
   "outputs": [],
   "source": [
    "# Convolutional neural network (two convolutional layers)\n",
    "class ConvNet(nn.Module):\n",
    "    def __init__(self, num_classes=10):\n",
    "        super(ConvNet, self).__init__()\n",
    "        self.layer1 = nn.Sequential(\n",
    "            nn.Conv2d(1, 16, kernel_size=5, stride=1, padding=2),\n",
    "            nn.BatchNorm2d(16),\n",
    "            nn.ReLU(),\n",
    "            nn.MaxPool2d(kernel_size=2, stride=2)\n",
    "            )\n",
    "        self.layer2 = nn.Sequential(\n",
    "            nn.Conv2d(16, 32, kernel_size=5, stride=1, padding=2),\n",
    "            nn.BatchNorm2d(32),\n",
    "            nn.ReLU(),\n",
    "            nn.MaxPool2d(kernel_size=2, stride=2))\n",
    "        self.fc = nn.Linear(7*7*32, num_classes)\n",
    "        \n",
    "    def forward(self, x):\n",
    "        out = self.layer1(x)\n",
    "        out = self.layer2(out)\n",
    "        out = out.reshape(out.size(0), -1)\n",
    "        out = self.fc(out)\n",
    "        return out\n",
    "\n",
    "model = ConvNet(num_classes).to(device)"
   ]
  },
  {
   "cell_type": "markdown",
   "metadata": {
    "id": "DQhKowFgy1ty"
   },
   "source": [
    "# Training "
   ]
  },
  {
   "cell_type": "code",
   "execution_count": 8,
   "metadata": {
    "colab": {
     "base_uri": "https://localhost:8080/",
     "height": 1000
    },
    "id": "nL5ha6WXRbYp",
    "outputId": "4783d15b-cb77-4604-971f-0d7f513ea7e2"
   },
   "outputs": [
    {
     "name": "stdout",
     "output_type": "stream",
     "text": [
      "EPOCH [1/6]. Running Loss: 183.73 Progress: 33.33 % \n",
      "EPOCH [1/6]. Running Loss: 246.01 Progress: 66.67 % \n",
      "EPOCH [1/6]. Running Loss: 286.17 Progress: 100.0 % \n",
      "Train Avg. Loss: [0.1463] Acc: 0.8939 on 60000.0 images\n",
      "Validating...\n",
      "Val Avg. Loss: [0.2281] Acc: 0.9634 on 10000.0 images\n",
      "\n",
      "EPOCH [2/6]. Running Loss: 30.04 Progress: 33.33 % \n",
      "EPOCH [2/6]. Running Loss: 55.95 Progress: 66.67 % \n",
      "EPOCH [2/6]. Running Loss: 77.09 Progress: 100.0 % \n",
      "Train Avg. Loss: [0.0508] Acc: 0.9674 on 60000.0 images\n",
      "Validating...\n",
      "Val Avg. Loss: [0.1252] Acc: 0.9756 on 10000.0 images\n",
      "\n",
      "EPOCH [3/6]. Running Loss: 17.73 Progress: 33.33 % \n",
      "EPOCH [3/6]. Running Loss: 34.91 Progress: 66.67 % \n",
      "EPOCH [3/6]. Running Loss: 51.12 Progress: 100.0 % \n",
      "Train Avg. Loss: [0.0514] Acc: 0.9773 on 60000.0 images\n",
      "Validating...\n",
      "Val Avg. Loss: [0.0907] Acc: 0.9801 on 10000.0 images\n",
      "\n",
      "EPOCH [4/6]. Running Loss: 13.94 Progress: 33.33 % \n",
      "EPOCH [4/6]. Running Loss: 27.42 Progress: 66.67 % \n",
      "EPOCH [4/6]. Running Loss: 39.83 Progress: 100.0 % \n",
      "Train Avg. Loss: [0.0363] Acc: 0.9823 on 60000.0 images\n",
      "Validating...\n",
      "Val Avg. Loss: [0.0686] Acc: 0.9835 on 10000.0 images\n",
      "\n",
      "EPOCH [5/6]. Running Loss: 10.88 Progress: 33.33 % \n",
      "EPOCH [5/6]. Running Loss: 22.33 Progress: 66.67 % \n",
      "EPOCH [5/6]. Running Loss: 33.34 Progress: 100.0 % \n",
      "Train Avg. Loss: [0.0953] Acc: 0.9848 on 60000.0 images\n",
      "Validating...\n",
      "Val Avg. Loss: [0.0509] Acc: 0.985 on 10000.0 images\n",
      "\n",
      "EPOCH [6/6]. Running Loss: 9.6 Progress: 33.33 % \n",
      "EPOCH [6/6]. Running Loss: 18.96 Progress: 66.67 % \n",
      "EPOCH [6/6]. Running Loss: 28.59 Progress: 100.0 % \n",
      "Train Avg. Loss: [0.0236] Acc: 0.9869 on 60000.0 images\n",
      "Validating...\n",
      "Val Avg. Loss: [0.0468] Acc: 0.9873 on 10000.0 images\n",
      "\n",
      "Time Elapsed: 264.368267 seconds\n"
     ]
    }
   ],
   "source": [
    "# Loss and optimizer\n",
    "criterion = nn.CrossEntropyLoss()\n",
    "optimizer = torch.optim.Adam(model.parameters(), lr=learning_rate)\n",
    "\n",
    "# Keep track of average losses, training accuracy and validation accuracy for each epoch\n",
    "train_loss_history = np.zeros(num_epochs)\n",
    "train_acc_history  = np.zeros(num_epochs)\n",
    "val_loss_history   = np.zeros(num_epochs)\n",
    "val_acc_history    = np.zeros(num_epochs)\n",
    "\n",
    "start_time = datetime.now()\n",
    "\n",
    "for epoch in range(num_epochs):\n",
    "    \n",
    "    # Place network in training mode\n",
    "    model.train()\n",
    "    \n",
    "    # Initialize running epoch loss and number correctly classified\n",
    "    running_loss   = 0.0\n",
    "    num_correct    = 0.0\n",
    "    total_images   = 0.0\n",
    "    \n",
    "    for batch_num, (inputs, labels) in enumerate(train_loader):\n",
    "        # [inputs] and [labels] is one batch of images and their classes\n",
    "        inputs = inputs.to(device)\n",
    "        labels = labels.to(device)\n",
    "        \n",
    "        # Forward pass\n",
    "        outputs = model(inputs)\n",
    "        loss = criterion(outputs, labels)\n",
    "        \n",
    "        # Backward and optimize\n",
    "        optimizer.zero_grad()\n",
    "        loss.backward()\n",
    "        optimizer.step()\n",
    "\n",
    "        # Update statistics for this batch\n",
    "        curr_loss = loss.item()\n",
    "        _, preds = torch.max(outputs, 1)\n",
    "        curr_images = labels.cpu().data.numpy().size\n",
    "        curr_correct = torch.sum(preds == labels.data.reshape(-1))\n",
    "\n",
    "        # Update running statistics for this epoch\n",
    "        running_loss += curr_loss\n",
    "        num_correct += curr_correct\n",
    "        total_images += curr_images\n",
    "\n",
    "        # Log Progress every 200 batches\n",
    "        if (batch_num + 1) % 200 == 0:\n",
    "          log_progress(running_loss, batch_num, batch_size, epoch, num_epochs, train_loader)\n",
    "\n",
    "    # Update statistics for epoch\n",
    "    train_loss_history[epoch] = curr_loss #running_loss / total_images\n",
    "    train_acc_history[epoch]  = float(num_correct)  / float(total_images)\n",
    "    print(\"Train Avg. Loss: [{}] Acc: {} on {} images\".format(\n",
    "        round(train_loss_history[epoch],4), round(train_acc_history[epoch],4), total_images) )\n",
    "    \n",
    "    # ============================ Validation ==============================\n",
    "    print(\"Validating...\")\n",
    "    # Place network in testing mode (won't need to keep track of gradients)\n",
    "    model.eval()\n",
    "    \n",
    "    running_loss   = 0.0\n",
    "    num_correct    = 0.0\n",
    "    total_images   = 0.0\n",
    "    \n",
    "    for batch_num, (inputs, labels) in enumerate(test_loader):\n",
    "        inputs = inputs.to(device)\n",
    "        labels = labels.to(device)\n",
    "\n",
    "        # Propagate batch through network\n",
    "        outputs  = model(inputs)\n",
    "        loss     = criterion(outputs, labels.squeeze())\n",
    "        _, preds = torch.max(outputs, 1)\n",
    "        \n",
    "        # Update statistics for this batch\n",
    "        running_loss  += loss.item()\n",
    "        num_correct   += torch.sum(preds == labels.data.reshape(-1))\n",
    "        total_images  += labels.cpu().data.numpy().size\n",
    "        \n",
    "        # Log Progress every 200 batches\n",
    "        if (batch_num + 1) % 200 == 0:\n",
    "          log_progress(running_loss, batch_num, batch_size, epoch, num_epochs, test_loader)    \n",
    "\n",
    "    # Update statistics for validation data\n",
    "    val_loss_history[epoch] = loss.item() #running_loss / total_images\n",
    "    val_acc_history[epoch]  = float(num_correct)  / float(total_images) \n",
    "    print(\"Val Avg. Loss: [{}] Acc: {} on {} images\\n\".format(\n",
    "        round(val_loss_history[epoch],4), val_acc_history[epoch], total_images))\n",
    "    \n",
    "print(\"Time Elapsed: {} seconds\".format((datetime.now() - start_time).total_seconds()))"
   ]
  },
  {
   "cell_type": "markdown",
   "metadata": {
    "id": "w-OwOoFGfJf_"
   },
   "source": [
    "## Learning curve plots"
   ]
  },
  {
   "cell_type": "code",
   "execution_count": 9,
   "metadata": {
    "id": "2M6X1oyvfJf_",
    "outputId": "01f3442d-2ad2-4218-80e1-cf403b3d0e5f"
   },
   "outputs": [
    {
     "data": {
      "image/png": "[encoded data removed]",
      "text/plain": [
       "<Figure size 792x360 with 2 Axes>"
      ]
     },
     "metadata": {
      "needs_background": "light"
     },
     "output_type": "display_data"
    }
   ],
   "source": [
    "plot(train_loss_history, val_loss_history, train_acc_history, val_acc_history)"
   ]
  },
  {
   "cell_type": "code",
   "execution_count": 10,
   "metadata": {
    "id": "mq4-S5-wfJgA",
    "outputId": "16cd6181-c130-48e0-ff23-3d18d14034be"
   },
   "outputs": [
    {
     "name": "stdout",
     "output_type": "stream",
     "text": [
      "Test Accuracy of the model on the 10000 test images: 98.73 %\n"
     ]
    }
   ],
   "source": [
    "# Test the model\n",
    "ytest = []\n",
    "rtest = np.ones((0,10))\n",
    "model.eval()  # eval mode (batchnorm uses moving mean/variance instead of mini-batch mean/variance)\n",
    "with torch.no_grad():\n",
    "    correct = 0\n",
    "    total = 0\n",
    "    for images, labels in test_loader:\n",
    "        ytest = np.append(ytest, labels)\n",
    "        images = images.to(device)\n",
    "        labels = labels.to(device)\n",
    "        outputs = model(images)\n",
    "        _, predicted = torch.max(outputs.data, 1)\n",
    "        total += labels.size(0)\n",
    "        correct += (predicted == labels).sum().item()\n",
    "        rtest = np.append(rtest, outputs, axis=0)\n",
    "print('Test Accuracy of the model on the 10000 test images: {} %'.format(100 * correct / total))"
   ]
  },
  {
   "cell_type": "code",
   "execution_count": 11,
   "metadata": {
    "id": "HKEzSuayfJgA",
    "outputId": "86876832-85bc-494c-cf20-c37f66c45d78"
   },
   "outputs": [
    {
     "name": "stdout",
     "output_type": "stream",
     "text": [
      "Confusion matrix, without normalization\n"
     ]
    },
    {
     "data": {
      "image/png": "[encoded data removed]",
      "text/plain": [
       "<Figure size 432x288 with 2 Axes>"
      ]
     },
     "metadata": {
      "needs_background": "light"
     },
     "output_type": "display_data"
    }
   ],
   "source": [
    "cfm = confusion_matrix(np.argmax (rtest,axis=1), ytest)\n",
    "plot_confusion_matrix(cfm, classes=range(10), \n",
    "                      title='Confusion matrix for MNIST')"
   ]
  },
  {
   "cell_type": "code",
   "execution_count": null,
   "metadata": {
    "id": "GW11V0WxfJgB"
   },
   "outputs": [],
   "source": [
    "# Save the model checkpoint\n",
    "torch.save(model.state_dict(), 'model.ckpt')"
   ]
  },
  {
   "cell_type": "code",
   "execution_count": null,
   "metadata": {
    "id": "iBi42qBAfJgB"
   },
   "outputs": [],
   "source": []
  }
 ],
 "metadata": {
  "accelerator": "GPU",
  "colab": {
   "collapsed_sections": [],
   "name": "labpytorch2.ipynb",
   "provenance": []
  },
  "kernelspec": {
   "display_name": "Python 3",
   "language": "python",
   "name": "python3"
  },
  "language_info": {
   "codemirror_mode": {
    "name": "ipython",
    "version": 3
   },
   "file_extension": ".py",
   "mimetype": "text/x-python",
   "name": "python",
   "nbconvert_exporter": "python",
   "pygments_lexer": "ipython3",
   "version": "3.8.3"
  }
 },
 "nbformat": 4,
 "nbformat_minor": 4
}
