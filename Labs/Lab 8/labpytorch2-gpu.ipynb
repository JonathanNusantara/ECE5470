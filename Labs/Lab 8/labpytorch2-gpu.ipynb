{
  "nbformat": 4,
  "nbformat_minor": 0,
  "metadata": {
    "colab": {
      "name": "labpytorch2.ipynb",
      "provenance": [],
      "collapsed_sections": []
    },
    "kernelspec": {
      "display_name": "Python 3",
      "language": "python",
      "name": "python3"
    },
    "language_info": {
      "codemirror_mode": {
        "name": "ipython",
        "version": 3
      },
      "file_extension": ".py",
      "mimetype": "text/x-python",
      "name": "python",
      "nbconvert_exporter": "python",
      "pygments_lexer": "ipython3",
      "version": "3.8.3"
    },
    "accelerator": "GPU"
  },
  "cells": [
    {
      "cell_type": "markdown",
      "metadata": {
        "id": "SJyB7Oeg2_yX"
      },
      "source": [
        "<h2>PyTorch example of a simple convolution network model</h2>\n",
        "Trained and tested using the MNIST dataset\n",
        "\n",
        "Taken from: https://github.com/yunjey/pytorch-tutorial/blob/master/tutorials/02-intermediate/convolutional_neural_network/main.py#L35-L56\n",
        "\n",
        "Initialization"
      ]
    },
    {
      "cell_type": "code",
      "metadata": {
        "id": "-5mF8IK32_yd"
      },
      "source": [
        "import time\n",
        "import torch \n",
        "import torch.nn as nn\n",
        "import torchvision\n",
        "import torchvision.transforms as transforms\n",
        "\n",
        "from matplotlib import pyplot as plt\n",
        "import numpy as np\n",
        "from datetime import datetime\n",
        "from sklearn.metrics import confusion_matrix\n",
        "import itertools\n",
        "\n",
        "# Device configuration\n",
        "device = torch.device('cuda:0' if torch.cuda.is_available() else 'cpu')\n",
        "\n",
        "# MNIST dataset\n",
        "train_dataset = torchvision.datasets.MNIST(root='./data/',\n",
        "                                           train=True, \n",
        "                                           transform=transforms.ToTensor(),\n",
        "                                           download=True)\n",
        "\n",
        "test_dataset = torchvision.datasets.MNIST(root='./data/',\n",
        "                                          train=False, \n",
        "                                          transform= transforms.ToTensor())\n",
        "                                        "
      ],
      "execution_count": 11,
      "outputs": []
    },
    {
      "cell_type": "markdown",
      "metadata": {
        "id": "WiuDYatGKuwi"
      },
      "source": [
        "# Utilities\n",
        "These functions provide Learning curve plots and lerning progress reports "
      ]
    },
    {
      "cell_type": "code",
      "metadata": {
        "id": "rcJpiG9QUcax"
      },
      "source": [
        "'''Learning Curve Plot Utility'''\n",
        "def plot(train_loss_history, val_loss_history, train_acc_history, val_acc_history):\n",
        "  fig, axs = plt.subplots(1, 2, figsize=(11,5))\n",
        "\n",
        "  ax = axs[0]\n",
        "  ax.set_title(\"Model Loss\", fontsize=12)\n",
        "  ax.plot(train_loss_history, label=\"Training\")\n",
        "  ax.plot(val_loss_history,   label=\"Validation\")\n",
        "  ax.set_xlabel(\"Epoch\",        fontsize=12)\n",
        "  ax.set_ylabel(\"Average loss\", fontsize=12)\n",
        "  ax.legend(loc=\"best\",         fontsize=12)\n",
        "\n",
        "  ax = axs[1]\n",
        "  ax.set_title(\"Model Accuracy\", fontsize=12)\n",
        "  ax.plot(train_acc_history, label=\"Training\")\n",
        "  ax.plot(val_acc_history,   label=\"Validation\")\n",
        "  ax.set_xlabel(\"Epoch\",        fontsize=12)\n",
        "  ax.set_ylabel(\"Accuracy\",     fontsize=12)\n",
        "  ax.set_ylim(0,1)\n",
        "  ax.legend(loc=\"best\",         fontsize=12)"
      ],
      "execution_count": 12,
      "outputs": []
    },
    {
      "cell_type": "code",
      "metadata": {
        "id": "GGfqtNuSSHuL"
      },
      "source": [
        "'''Learning progress utility'''\n",
        "def log_progress(running_loss, curr_batch, batch_size, curr_epoch, total_epochs, dataloader):\n",
        "    \"\"\"\n",
        "    Prints message logging progress through training.\n",
        "    \"\"\"\n",
        "    progress = float(curr_batch + 1)/(float(len(dataloader.dataset)) / batch_size)\n",
        "    log = \"EPOCH [{}/{}]. Running Loss: {} Progress: {} % \".format(\n",
        "        curr_epoch + 1, total_epochs, round(running_loss, 2), round(progress * 100, 2))\n",
        "    print(log)"
      ],
      "execution_count": 13,
      "outputs": []
    },
    {
      "cell_type": "code",
      "metadata": {
        "id": "OpbS5Acz4_gY"
      },
      "source": [
        "#  preserntation for a confusion matrix\n",
        "\n",
        "def plot_confusion_matrix(cm, classes,\n",
        "                          normalize=False,\n",
        "                          title='Confusion matrix',\n",
        "                          cmap=plt.cm.Blues):\n",
        "    \"\"\"\n",
        "    This function prints and plots the confusion matrix.\n",
        "    Normalization can be applied by setting `normalize=True`.\n",
        "    \"\"\"\n",
        "    if normalize:\n",
        "        cm = cm.astype('float') / cm.sum(axis=1)[:, np.newaxis]\n",
        "        print(\"Normalized confusion matrix\")\n",
        "    else:\n",
        "        print('Confusion matrix, without normalization')\n",
        "\n",
        "    #print(cm)\n",
        "\n",
        "    plt.imshow(cm, interpolation='nearest', cmap=cmap)\n",
        "    plt.title(title)\n",
        "    plt.colorbar()\n",
        "    tick_marks = np.arange(len(classes))\n",
        "    plt.xticks(tick_marks, classes, rotation=45)\n",
        "    plt.yticks(tick_marks, classes)\n",
        "\n",
        "    fmt = '.2f' if normalize else 'd'\n",
        "    thresh = cm.max() / 2.\n",
        "    for i, j in itertools.product(range(cm.shape[0]), range(cm.shape[1])):\n",
        "        plt.text(j, i, format(cm[i, j], fmt),\n",
        "                 horizontalalignment=\"center\",\n",
        "                 color=\"white\" if cm[i, j] > thresh else \"black\")\n",
        "\n",
        "    plt.ylabel('True label')\n",
        "    plt.xlabel('Predicted label')\n",
        "    plt.tight_layout()\n"
      ],
      "execution_count": 14,
      "outputs": []
    },
    {
      "cell_type": "code",
      "metadata": {
        "id": "-39H6PNyQI4x"
      },
      "source": [
        "# Hyperparameters\n",
        "num_epochs = 6\n",
        "num_classes = 10\n",
        "batch_size = 100\n",
        "learning_rate = 0.0001"
      ],
      "execution_count": 15,
      "outputs": []
    },
    {
      "cell_type": "code",
      "metadata": {
        "id": "xLGXeFkz2_yk"
      },
      "source": [
        "# Data loader\n",
        "train_loader = torch.utils.data.DataLoader(dataset=train_dataset,\n",
        "                                           batch_size=batch_size, \n",
        "                                           shuffle=True)\n",
        "\n",
        "test_loader = torch.utils.data.DataLoader(dataset=test_dataset,\n",
        "                                          batch_size=batch_size, \n",
        "                                          shuffle=False)"
      ],
      "execution_count": 16,
      "outputs": []
    },
    {
      "cell_type": "markdown",
      "metadata": {
        "id": "zpIzFubFLfBG"
      },
      "source": [
        "## Model\n"
      ]
    },
    {
      "cell_type": "code",
      "metadata": {
        "id": "n7nXTSdg2_yn"
      },
      "source": [
        "# Convolutional neural network (two convolutional layers)\n",
        "class ConvNet(nn.Module):\n",
        "    def __init__(self, num_classes=10):\n",
        "        super(ConvNet, self).__init__()\n",
        "        self.layer1 = nn.Sequential(\n",
        "            nn.Conv2d(1, 16, kernel_size=5, stride=1, padding=2),\n",
        "            nn.BatchNorm2d(16),\n",
        "            nn.ReLU(),\n",
        "            nn.MaxPool2d(kernel_size=2, stride=2)\n",
        "            )\n",
        "        self.layer2 = nn.Sequential(\n",
        "            nn.Conv2d(16, 32, kernel_size=5, stride=1, padding=2),\n",
        "            nn.BatchNorm2d(32),\n",
        "            nn.ReLU(),\n",
        "            nn.MaxPool2d(kernel_size=2, stride=2))\n",
        "        self.fc = nn.Linear(7*7*32, num_classes)\n",
        "        \n",
        "    def forward(self, x):\n",
        "        out = self.layer1(x)\n",
        "        out = self.layer2(out)\n",
        "        out = out.reshape(out.size(0), -1)\n",
        "        out = self.fc(out)\n",
        "        return out\n",
        "\n",
        "model = ConvNet(num_classes).to(device)"
      ],
      "execution_count": 17,
      "outputs": []
    },
    {
      "cell_type": "markdown",
      "metadata": {
        "id": "DQhKowFgy1ty"
      },
      "source": [
        "# Training "
      ]
    },
    {
      "cell_type": "code",
      "metadata": {
        "colab": {
          "base_uri": "https://localhost:8080/"
        },
        "id": "nL5ha6WXRbYp",
        "outputId": "c9e40413-7f25-4c08-9c2e-4499278abbb6"
      },
      "source": [
        "# Loss and optimizer\n",
        "criterion = nn.CrossEntropyLoss()\n",
        "optimizer = torch.optim.Adam(model.parameters(), lr=learning_rate)\n",
        "\n",
        "# Keep track of average losses, training accuracy and validation accuracy for each epoch\n",
        "train_loss_history = np.zeros(num_epochs)\n",
        "train_acc_history  = np.zeros(num_epochs)\n",
        "val_loss_history   = np.zeros(num_epochs)\n",
        "val_acc_history    = np.zeros(num_epochs)\n",
        "\n",
        "start_time = datetime.now()\n",
        "\n",
        "for epoch in range(num_epochs):\n",
        "    \n",
        "    # Place network in training mode\n",
        "    model.train()\n",
        "    \n",
        "    # Initialize running epoch loss and number correctly classified\n",
        "    running_loss   = 0.0\n",
        "    num_correct    = 0.0\n",
        "    total_images   = 0.0\n",
        "    \n",
        "    for batch_num, (inputs, labels) in enumerate(train_loader):\n",
        "        # [inputs] and [labels] is one batch of images and their classes\n",
        "        inputs = inputs.to(device)\n",
        "        labels = labels.to(device)\n",
        "        \n",
        "        # Forward pass\n",
        "        outputs = model(inputs)\n",
        "        loss = criterion(outputs, labels)\n",
        "        \n",
        "        # Backward and optimize\n",
        "        optimizer.zero_grad()\n",
        "        loss.backward()\n",
        "        optimizer.step()\n",
        "\n",
        "        # Update statistics for this batch\n",
        "        curr_loss = loss.item()\n",
        "        _, preds = torch.max(outputs, 1)\n",
        "        curr_images = labels.cpu().data.numpy().size\n",
        "        curr_correct = torch.sum(preds == labels.data.reshape(-1))\n",
        "\n",
        "        # Update running statistics for this epoch\n",
        "        running_loss += curr_loss\n",
        "        num_correct += curr_correct\n",
        "        total_images += curr_images\n",
        "\n",
        "        # Log Progress every 200 batches\n",
        "        if (batch_num + 1) % 200 == 0:\n",
        "          log_progress(running_loss, batch_num, batch_size, epoch, num_epochs, train_loader)\n",
        "\n",
        "    # Update statistics for epoch\n",
        "    train_loss_history[epoch] = curr_loss #running_loss / total_images\n",
        "    train_acc_history[epoch]  = float(num_correct)  / float(total_images)\n",
        "    print(\"Train Avg. Loss: [{}] Acc: {} on {} images\".format(\n",
        "        round(train_loss_history[epoch],4), round(train_acc_history[epoch],4), total_images) )\n",
        "    \n",
        "    # ============================ Validation ==============================\n",
        "    print(\"Validating...\")\n",
        "    # Place network in testing mode (won't need to keep track of gradients)\n",
        "    model.eval()\n",
        "    \n",
        "    running_loss   = 0.0\n",
        "    num_correct    = 0.0\n",
        "    total_images   = 0.0\n",
        "    \n",
        "    for batch_num, (inputs, labels) in enumerate(test_loader):\n",
        "        inputs = inputs.to(device)\n",
        "        labels = labels.to(device)\n",
        "\n",
        "        # Propagate batch through network\n",
        "        outputs  = model(inputs)\n",
        "        loss     = criterion(outputs, labels.squeeze())\n",
        "        _, preds = torch.max(outputs, 1)\n",
        "        \n",
        "        # Update statistics for this batch\n",
        "        running_loss  += loss.item()\n",
        "        num_correct   += torch.sum(preds == labels.data.reshape(-1))\n",
        "        total_images  += labels.cpu().data.numpy().size\n",
        "        \n",
        "        # Log Progress every 200 batches\n",
        "        if (batch_num + 1) % 200 == 0:\n",
        "          log_progress(running_loss, batch_num, batch_size, epoch, num_epochs, test_loader)    \n",
        "\n",
        "    # Update statistics for validation data\n",
        "    val_loss_history[epoch] = loss.item() #running_loss / total_images\n",
        "    val_acc_history[epoch]  = float(num_correct)  / float(total_images) \n",
        "    print(\"Val Avg. Loss: [{}] Acc: {} on {} images\\n\".format(\n",
        "        round(val_loss_history[epoch],4), val_acc_history[epoch], total_images))\n",
        "    \n",
        "print(\"Time Elapsed: {} seconds\".format((datetime.now() - start_time).total_seconds()))"
      ],
      "execution_count": 18,
      "outputs": [
        {
          "output_type": "stream",
          "text": [
            "EPOCH [1/6]. Running Loss: 182.82 Progress: 33.33 % \n",
            "EPOCH [1/6]. Running Loss: 242.68 Progress: 66.67 % \n",
            "EPOCH [1/6]. Running Loss: 280.86 Progress: 100.0 % \n",
            "Train Avg. Loss: [0.1478] Acc: 0.8919 on 60000.0 images\n",
            "Validating...\n",
            "Val Avg. Loss: [0.2343] Acc: 0.963 on 10000.0 images\n",
            "\n",
            "EPOCH [2/6]. Running Loss: 28.49 Progress: 33.33 % \n",
            "EPOCH [2/6]. Running Loss: 52.73 Progress: 66.67 % \n",
            "EPOCH [2/6]. Running Loss: 73.17 Progress: 100.0 % \n",
            "Train Avg. Loss: [0.089] Acc: 0.9699 on 60000.0 images\n",
            "Validating...\n",
            "Val Avg. Loss: [0.122] Acc: 0.9758 on 10000.0 images\n",
            "\n",
            "EPOCH [3/6]. Running Loss: 17.87 Progress: 33.33 % \n",
            "EPOCH [3/6]. Running Loss: 33.43 Progress: 66.67 % \n",
            "EPOCH [3/6]. Running Loss: 47.98 Progress: 100.0 % \n",
            "Train Avg. Loss: [0.0501] Acc: 0.9793 on 60000.0 images\n",
            "Validating...\n",
            "Val Avg. Loss: [0.066] Acc: 0.9821 on 10000.0 images\n",
            "\n",
            "EPOCH [4/6]. Running Loss: 12.69 Progress: 33.33 % \n",
            "EPOCH [4/6]. Running Loss: 25.12 Progress: 66.67 % \n",
            "EPOCH [4/6]. Running Loss: 36.94 Progress: 100.0 % \n",
            "Train Avg. Loss: [0.0416] Acc: 0.9836 on 60000.0 images\n",
            "Validating...\n",
            "Val Avg. Loss: [0.045] Acc: 0.9851 on 10000.0 images\n",
            "\n",
            "EPOCH [5/6]. Running Loss: 10.56 Progress: 33.33 % \n",
            "EPOCH [5/6]. Running Loss: 20.97 Progress: 66.67 % \n",
            "EPOCH [5/6]. Running Loss: 30.84 Progress: 100.0 % \n",
            "Train Avg. Loss: [0.0802] Acc: 0.9861 on 60000.0 images\n",
            "Validating...\n",
            "Val Avg. Loss: [0.0451] Acc: 0.9866 on 10000.0 images\n",
            "\n",
            "EPOCH [6/6]. Running Loss: 9.03 Progress: 33.33 % \n",
            "EPOCH [6/6]. Running Loss: 17.88 Progress: 66.67 % \n",
            "EPOCH [6/6]. Running Loss: 26.57 Progress: 100.0 % \n",
            "Train Avg. Loss: [0.0384] Acc: 0.9876 on 60000.0 images\n",
            "Validating...\n",
            "Val Avg. Loss: [0.0265] Acc: 0.9873 on 10000.0 images\n",
            "\n",
            "Time Elapsed: 78.169121 seconds\n"
          ],
          "name": "stdout"
        }
      ]
    },
    {
      "cell_type": "markdown",
      "metadata": {
        "id": "kKk0tI8l4_gZ"
      },
      "source": [
        "## Learning curve plots"
      ]
    },
    {
      "cell_type": "code",
      "metadata": {
        "colab": {
          "base_uri": "https://localhost:8080/",
          "height": 353
        },
        "id": "tYErXFRL4_gZ",
        "outputId": "17914594-b8bd-439e-9228-d9c410be5b84"
      },
      "source": [
        "plot(train_loss_history, val_loss_history, train_acc_history, val_acc_history)"
      ],
      "execution_count": 19,
      "outputs": [
        {
          "output_type": "display_data",
          "data": {
            "image/png": "[encoded data removed]",
            "text/plain": [
              "<Figure size 792x360 with 2 Axes>"
            ]
          },
          "metadata": {
            "tags": [],
            "needs_background": "light"
          }
        }
      ]
    },
    {
      "cell_type": "code",
      "metadata": {
        "colab": {
          "base_uri": "https://localhost:8080/"
        },
        "id": "7gyqcb7o4_gZ",
        "outputId": "a22538e1-e436-4d42-b2ff-d49e35972263"
      },
      "source": [
        "# Test the model\n",
        "ytest = []\n",
        "rtest = np.ones((0,10))\n",
        "model.eval()  # eval mode (batchnorm uses moving mean/variance instead of mini-batch mean/variance)\n",
        "with torch.no_grad():\n",
        "    correct = 0\n",
        "    total = 0\n",
        "    for images, labels in test_loader:\n",
        "        ytest = np.append(ytest, labels)\n",
        "        images = images.to(device)\n",
        "        labels = labels.to(device)\n",
        "        outputs = model(images)\n",
        "        _, predicted = torch.max(outputs.data, 1)\n",
        "        total += labels.size(0)\n",
        "        correct += (predicted == labels).sum().item()\n",
        "        rtest = np.append(rtest, outputs.cpu(), axis=0)\n",
        "print('Test Accuracy of the model on the 10000 test images: {} %'.format(100 * correct / total))"
      ],
      "execution_count": 21,
      "outputs": [
        {
          "output_type": "stream",
          "text": [
            "Test Accuracy of the model on the 10000 test images: 98.73 %\n"
          ],
          "name": "stdout"
        }
      ]
    },
    {
      "cell_type": "code",
      "metadata": {
        "colab": {
          "base_uri": "https://localhost:8080/",
          "height": 314
        },
        "id": "EuQ6hVNW4_gZ",
        "outputId": "007fefe3-2396-4790-84fe-4a0b36bd3fbf"
      },
      "source": [
        "cfm = confusion_matrix(np.argmax (rtest,axis=1), ytest)\n",
        "plot_confusion_matrix(cfm, classes=range(10), \n",
        "                      title='Confusion matrix for MNIST')"
      ],
      "execution_count": 22,
      "outputs": [
        {
          "output_type": "stream",
          "text": [
            "Confusion matrix, without normalization\n"
          ],
          "name": "stdout"
        },
        {
          "output_type": "display_data",
          "data": {
            "image/png": "[encoded data removed]",
            "text/plain": [
              "<Figure size 432x288 with 2 Axes>"
            ]
          },
          "metadata": {
            "tags": [],
            "needs_background": "light"
          }
        }
      ]
    },
    {
      "cell_type": "code",
      "metadata": {
        "id": "iqN2_8Fx4_gZ"
      },
      "source": [
        "# Save the model checkpoint\n",
        "torch.save(model.state_dict(), 'model.ckpt')"
      ],
      "execution_count": 23,
      "outputs": []
    },
    {
      "cell_type": "code",
      "metadata": {
        "id": "FbdVwIfv4_gZ"
      },
      "source": [
        ""
      ],
      "execution_count": 12,
      "outputs": []
    }
  ]
}