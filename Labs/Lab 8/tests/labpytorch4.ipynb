{
 "cells": [
  {
   "cell_type": "markdown",
   "metadata": {
    "id": "VTSPvLbMby0L"
   },
   "source": [
    "<h2>PyTorch example of a simple convolution network model</h2>\n",
    "Trained and tested using the MNIST dataset\n",
    "\n",
    "Taken from: https://github.com/yunjey/pytorch-tutorial/blob/master/tutorials/02-intermediate/convolutional_neural_network/main.py#L35-L56\n",
    "\n",
    "Initialization"
   ]
  },
  {
   "cell_type": "code",
   "execution_count": 53,
   "metadata": {
    "id": "U3pqJPUzNJMM"
   },
   "outputs": [],
   "source": [
    "import time\n",
    "import torch \n",
    "import torch.nn as nn\n",
    "import torchvision\n",
    "import torchvision.transforms as transforms\n",
    "\n",
    "from matplotlib import pyplot as plt\n",
    "import numpy as np\n",
    "from datetime import datetime\n",
    "from sklearn.metrics import confusion_matrix\n",
    "import itertools\n",
    "\n",
    "# Device configuration\n",
    "device = torch.device('cuda:0' if torch.cuda.is_available() else 'cpu')\n",
    "\n",
    "# MNIST dataset\n",
    "train_dataset = torchvision.datasets.MNIST(root='./data/',\n",
    "                                           train=True, \n",
    "                                           transform=transforms.ToTensor(),\n",
    "                                           download=True)\n",
    "\n",
    "test_dataset = torchvision.datasets.MNIST(root='./data/',\n",
    "                                          train=False, \n",
    "                                          transform= transforms.ToTensor())\n",
    "                                        "
   ]
  },
  {
   "cell_type": "code",
   "execution_count": 54,
   "metadata": {
    "id": "eV3raoqRNPgq"
   },
   "outputs": [],
   "source": [
    "'''Learning Curve Plot Utility'''\n",
    "def plot(train_loss_history, val_loss_history, train_acc_history, val_acc_history):\n",
    "  fig, axs = plt.subplots(1, 2, figsize=(11,5))\n",
    "\n",
    "  ax = axs[0]\n",
    "  ax.set_title(\"Model Loss\", fontsize=12)\n",
    "  ax.plot(train_loss_history, label=\"Training\")\n",
    "  ax.plot(val_loss_history,   label=\"Validation\")\n",
    "  ax.set_xlabel(\"Epoch\",        fontsize=12)\n",
    "  ax.set_ylabel(\"Average loss\", fontsize=12)\n",
    "  ax.legend(loc=\"best\",         fontsize=12)\n",
    "\n",
    "  ax = axs[1]\n",
    "  ax.set_title(\"Model Accuracy\", fontsize=12)\n",
    "  ax.plot(train_acc_history, label=\"Training\")\n",
    "  ax.plot(val_acc_history,   label=\"Validation\")\n",
    "  ax.set_xlabel(\"Epoch\",        fontsize=12)\n",
    "  ax.set_ylabel(\"Accuracy\",     fontsize=12)\n",
    "  ax.set_ylim(0,1)\n",
    "  ax.legend(loc=\"best\",         fontsize=12)"
   ]
  },
  {
   "cell_type": "markdown",
   "metadata": {
    "id": "FKsLnkq9b7yj"
   },
   "source": [
    "## Utilities\n",
    "These functions provide Learning curve plots and lerning progress reports "
   ]
  },
  {
   "cell_type": "code",
   "execution_count": 55,
   "metadata": {
    "id": "JuG7xuHkNP5w"
   },
   "outputs": [],
   "source": [
    "'''Learning progress utility'''\n",
    "def log_progress(running_loss, curr_batch, batch_size, curr_epoch, total_epochs, dataloader):\n",
    "    \"\"\"\n",
    "    Prints message logging progress through training.\n",
    "    \"\"\"\n",
    "    progress = float(curr_batch + 1)/(float(len(dataloader.dataset)) / batch_size)\n",
    "    log = \"EPOCH [{}/{}]. Running Loss: {} Progress: {} % \".format(\n",
    "        curr_epoch + 1, total_epochs, round(running_loss, 2), round(progress * 100, 2))\n",
    "    print(log)"
   ]
  },
  {
   "cell_type": "code",
   "execution_count": 56,
   "metadata": {
    "id": "d_Od107JNRh_"
   },
   "outputs": [],
   "source": [
    "#  preserntation for a confusion matrix\n",
    "\n",
    "def plot_confusion_matrix(cm, classes,\n",
    "                          normalize=False,\n",
    "                          title='Confusion matrix',\n",
    "                          cmap=plt.cm.Blues):\n",
    "    \"\"\"\n",
    "    This function prints and plots the confusion matrix.\n",
    "    Normalization can be applied by setting `normalize=True`.\n",
    "    \"\"\"\n",
    "    if normalize:\n",
    "        cm = cm.astype('float') / cm.sum(axis=1)[:, np.newaxis]\n",
    "        print(\"Normalized confusion matrix\")\n",
    "    else:\n",
    "        print('Confusion matrix, without normalization')\n",
    "\n",
    "    #print(cm)\n",
    "\n",
    "    plt.imshow(cm, interpolation='nearest', cmap=cmap)\n",
    "    plt.title(title)\n",
    "    plt.colorbar()\n",
    "    tick_marks = np.arange(len(classes))\n",
    "    plt.xticks(tick_marks, classes, rotation=45)\n",
    "    plt.yticks(tick_marks, classes)\n",
    "\n",
    "    fmt = '.2f' if normalize else 'd'\n",
    "    thresh = cm.max() / 2.\n",
    "    for i, j in itertools.product(range(cm.shape[0]), range(cm.shape[1])):\n",
    "        plt.text(j, i, format(cm[i, j], fmt),\n",
    "                 horizontalalignment=\"center\",\n",
    "                 color=\"white\" if cm[i, j] > thresh else \"black\")\n",
    "\n",
    "    plt.ylabel('True label')\n",
    "    plt.xlabel('Predicted label')\n",
    "    plt.tight_layout()\n",
    "\n"
   ]
  },
  {
   "cell_type": "code",
   "execution_count": 70,
   "metadata": {
    "id": "hdAX-bIKNS-Q"
   },
   "outputs": [],
   "source": [
    "# Hyperparameters\n",
    "num_epochs = 6\n",
    "num_classes = 10\n",
    "batch_size = 128\n",
    "learning_rate = 0.2"
   ]
  },
  {
   "cell_type": "code",
   "execution_count": 58,
   "metadata": {
    "id": "xZgF5v3ONUXG"
   },
   "outputs": [],
   "source": [
    "# Data loader\n",
    "train_loader = torch.utils.data.DataLoader(dataset=train_dataset,\n",
    "                                           batch_size=batch_size, \n",
    "                                           shuffle=True)\n",
    "\n",
    "test_loader = torch.utils.data.DataLoader(dataset=test_dataset,\n",
    "                                          batch_size=batch_size, \n",
    "                                          shuffle=False)"
   ]
  },
  {
   "cell_type": "markdown",
   "metadata": {
    "id": "kI9XRKZxb-_E"
   },
   "source": [
    "## Model"
   ]
  },
  {
   "cell_type": "code",
   "execution_count": 67,
   "metadata": {
    "id": "eNqOmUxvJ2zj"
   },
   "outputs": [],
   "source": [
    "# Convolutional neural network (two convolutional layers)\n",
    "class ConvNet(nn.Module):\n",
    "    def __init__(self, num_classes=10):\n",
    "        super(ConvNet, self).__init__()\n",
    "        self.layer1 = nn.Sequential(\n",
    "            nn.Conv2d(1, 32, kernel_size=5, stride=1, padding=2),\n",
    "            nn.BatchNorm2d(32),\n",
    "            nn.ReLU(),\n",
    "            nn.MaxPool2d(kernel_size=2, stride=2)\n",
    "            )\n",
    "        self.layer2 = nn.Sequential(\n",
    "            nn.Conv2d(32, 64, kernel_size=5, stride=1, padding=2),\n",
    "            nn.BatchNorm2d(64),\n",
    "            nn.ReLU(),\n",
    "            nn.MaxPool2d(kernel_size=2, stride=2))\n",
    "        self.fc1 = nn.Sequential(\n",
    "            nn.Linear(7*7*64, 256),\n",
    "            nn.ReLU())\n",
    "        self.fc2 = nn.Linear(256, num_classes)\n",
    "        self.soft_max = nn.Softmax()\n",
    "        self.drop_out = nn.Dropout(p=0.3)\n",
    "        \n",
    "    def forward(self, x):\n",
    "        out = self.layer1(x)\n",
    "        out = self.layer2(out)\n",
    "        # out = self.layer3(out)\n",
    "        out = out.reshape(out.size(0), -1)\n",
    "        out = self.fc1(out)\n",
    "        out = self.drop_out(out)\n",
    "        out = self.fc2(out)\n",
    "        out = self.soft_max(out)\n",
    "        return out\n",
    "\n",
    "model = ConvNet(num_classes).to(device)"
   ]
  },
  {
   "cell_type": "markdown",
   "metadata": {
    "id": "HRyRavG9QMdW"
   },
   "source": [
    "\n",
    "```\n",
    "# 1, 16, 16, 32, 0.9894, lr=0.2\n",
    "# 1,32 32,64 0.9909, lr=0.2\n",
    "# 1,48 48 96, 0.9901, lr=0.2\n",
    "# 1,64 64,128 0.2, lr=0.2\n",
    "\n",
    "num_epochs = 12\n",
    "num_classes = 10\n",
    "batch_size = 128\n",
    "learning_rate = 0.1 \n",
    "1,32,32,64: 0.992 accuracy\n",
    "\n",
    "\n",
    "dense layer:\n",
    "128 = 991\n",
    "256 =9915\n",
    "512 =9895\n",
    "\n",
    "1,32,32,64, dense 256, dropout:\n",
    "0.2 9911\n",
    "0.3 9923\n",
    "0.4 991\n",
    "0.5 9894\n",
    "\n",
    "```\n",
    "\n",
    "\n"
   ]
  },
  {
   "cell_type": "markdown",
   "metadata": {
    "id": "Tg7HpIvZcC-1"
   },
   "source": [
    "## Training "
   ]
  },
  {
   "cell_type": "code",
   "execution_count": 72,
   "metadata": {
    "colab": {
     "base_uri": "https://localhost:8080/"
    },
    "id": "max90smtNY0G",
    "outputId": "1eb5d368-1d0e-4cba-aef0-728d1eb3b218"
   },
   "outputs": [
    {
     "name": "stderr",
     "output_type": "stream",
     "text": [
      "/usr/local/lib/python3.6/dist-packages/ipykernel_launcher.py:31: UserWarning: Implicit dimension choice for softmax has been deprecated. Change the call to include dim=X as an argument.\n"
     ]
    },
    {
     "name": "stdout",
     "output_type": "stream",
     "text": [
      "EPOCH [1/6]. Running Loss: 293.56 Progress: 42.67 % \n",
      "EPOCH [1/6]. Running Loss: 587.22 Progress: 85.33 % \n",
      "Train Avg. Loss: [1.476] Acc: 0.9942 on 60000.0 images\n",
      "Validating...\n",
      "Val Avg. Loss: [1.4612] Acc: 0.9911 on 10000.0 images\n",
      "\n",
      "EPOCH [2/6]. Running Loss: 293.56 Progress: 42.67 % \n",
      "EPOCH [2/6]. Running Loss: 587.0 Progress: 85.33 % \n",
      "Train Avg. Loss: [1.4716] Acc: 0.9948 on 60000.0 images\n",
      "Validating...\n",
      "Val Avg. Loss: [1.4612] Acc: 0.9915 on 10000.0 images\n",
      "\n",
      "EPOCH [3/6]. Running Loss: 293.42 Progress: 42.67 % \n",
      "EPOCH [3/6]. Running Loss: 586.72 Progress: 85.33 % \n",
      "Train Avg. Loss: [1.4889] Acc: 0.9952 on 60000.0 images\n",
      "Validating...\n",
      "Val Avg. Loss: [1.4612] Acc: 0.9915 on 10000.0 images\n",
      "\n",
      "EPOCH [4/6]. Running Loss: 293.42 Progress: 42.67 % \n",
      "EPOCH [4/6]. Running Loss: 586.57 Progress: 85.33 % \n",
      "Train Avg. Loss: [1.4794] Acc: 0.9957 on 60000.0 images\n",
      "Validating...\n",
      "Val Avg. Loss: [1.4612] Acc: 0.9911 on 10000.0 images\n",
      "\n",
      "EPOCH [5/6]. Running Loss: 293.29 Progress: 42.67 % \n",
      "EPOCH [5/6]. Running Loss: 586.59 Progress: 85.33 % \n",
      "Train Avg. Loss: [1.4781] Acc: 0.9959 on 60000.0 images\n",
      "Validating...\n",
      "Val Avg. Loss: [1.4612] Acc: 0.9903 on 10000.0 images\n",
      "\n",
      "EPOCH [6/6]. Running Loss: 293.23 Progress: 42.67 % \n",
      "EPOCH [6/6]. Running Loss: 586.42 Progress: 85.33 % \n",
      "Train Avg. Loss: [1.4619] Acc: 0.9959 on 60000.0 images\n",
      "Validating...\n",
      "Val Avg. Loss: [1.4612] Acc: 0.9929 on 10000.0 images\n",
      "\n",
      "Time Elapsed: 40.407482 seconds\n"
     ]
    }
   ],
   "source": [
    "# Loss and optimizer\n",
    "criterion = nn.CrossEntropyLoss()\n",
    "optimizer = torch.optim.Adadelta(model.parameters(), lr=learning_rate) # Changed to Adadelta with lr=1.0\n",
    "\n",
    "# Keep track of average losses, training accuracy and validation accuracy for each epoch\n",
    "train_loss_history = np.zeros(num_epochs)\n",
    "train_acc_history  = np.zeros(num_epochs)\n",
    "val_loss_history   = np.zeros(num_epochs)\n",
    "val_acc_history    = np.zeros(num_epochs)\n",
    "\n",
    "start_time = datetime.now()\n",
    "\n",
    "for epoch in range(num_epochs):\n",
    "\n",
    "  # Place network in training mode\n",
    "  model.train()\n",
    "\n",
    "  # Initialize running epoch loss and number correctly classified\n",
    "  running_loss   = 0.0\n",
    "  num_correct    = 0.0\n",
    "  total_images   = 0.0\n",
    "\n",
    "  for batch_num, (inputs, labels) in enumerate(train_loader):\n",
    "      # [inputs] and [labels] is one batch of images and their classes\n",
    "      inputs = inputs.to(device)\n",
    "      labels = labels.to(device)\n",
    "\n",
    "      # Forward pass\n",
    "      outputs = model(inputs)\n",
    "      loss = criterion(outputs, labels)\n",
    "\n",
    "      # Backward and optimize\n",
    "      optimizer.zero_grad()\n",
    "      loss.backward()\n",
    "      optimizer.step()\n",
    "\n",
    "      # Update statistics for this batch\n",
    "      curr_loss = loss.item()\n",
    "      _, preds = torch.max(outputs, 1)\n",
    "      curr_images = labels.cpu().data.numpy().size\n",
    "      curr_correct = torch.sum(preds == labels.data.reshape(-1))\n",
    "\n",
    "      # Update running statistics for this epoch\n",
    "      running_loss += curr_loss\n",
    "      num_correct += curr_correct\n",
    "      total_images += curr_images\n",
    "\n",
    "      # Log Progress every 200 batches\n",
    "      if (batch_num + 1) % 200 == 0:\n",
    "        log_progress(running_loss, batch_num, batch_size, epoch, num_epochs, train_loader)\n",
    "\n",
    "  # Update statistics for epoch\n",
    "  train_loss_history[epoch] = curr_loss #running_loss / total_images\n",
    "  train_acc_history[epoch]  = float(num_correct)  / float(total_images)\n",
    "  print(\"Train Avg. Loss: [{}] Acc: {} on {} images\".format(\n",
    "      round(train_loss_history[epoch],4), round(train_acc_history[epoch],4), total_images) )\n",
    "\n",
    "  # ============================ Validation ==============================\n",
    "  print(\"Validating...\")\n",
    "  # Place network in testing mode (won't need to keep track of gradients)\n",
    "  model.eval()\n",
    "\n",
    "  running_loss   = 0.0\n",
    "  num_correct    = 0.0\n",
    "  total_images   = 0.0\n",
    "\n",
    "  for batch_num, (inputs, labels) in enumerate(test_loader):\n",
    "      inputs = inputs.to(device)\n",
    "      labels = labels.to(device)\n",
    "\n",
    "      # Propagate batch through network\n",
    "      outputs  = model(inputs)\n",
    "      loss     = criterion(outputs, labels.squeeze())\n",
    "      _, preds = torch.max(outputs, 1)\n",
    "\n",
    "      # Update statistics for this batch\n",
    "      running_loss  += loss.item()\n",
    "      num_correct   += torch.sum(preds == labels.data.reshape(-1))\n",
    "      total_images  += labels.cpu().data.numpy().size\n",
    "\n",
    "      # Log Progress every 200 batches\n",
    "      if (batch_num + 1) % 200 == 0:\n",
    "        log_progress(running_loss, batch_num, batch_size, epoch, num_epochs, test_loader)    \n",
    "\n",
    "  # Update statistics for validation data\n",
    "  val_loss_history[epoch] = loss.item() #running_loss / total_images\n",
    "  val_acc_history[epoch]  = float(num_correct)  / float(total_images) \n",
    "  print(\"Val Avg. Loss: [{}] Acc: {} on {} images\\n\".format(\n",
    "      round(val_loss_history[epoch],4), val_acc_history[epoch], total_images))\n",
    "\n",
    "print(\"Time Elapsed: {} seconds\".format((datetime.now() - start_time).total_seconds()))"
   ]
  },
  {
   "cell_type": "markdown",
   "metadata": {
    "id": "SBiZuxracH56"
   },
   "source": [
    "## Learning curve plots"
   ]
  },
  {
   "cell_type": "code",
   "execution_count": 73,
   "metadata": {
    "colab": {
     "base_uri": "https://localhost:8080/",
     "height": 353
    },
    "id": "xuJFZ9c8Na2C",
    "outputId": "915da737-cd6e-456d-e15f-d67e5ff9706e"
   },
   "outputs": [
    {
     "data": {
      "image/png": "[encoded data removed]",
      "text/plain": [
       "<Figure size 792x360 with 2 Axes>"
      ]
     },
     "metadata": {
      "needs_background": "light",
      "tags": []
     },
     "output_type": "display_data"
    }
   ],
   "source": [
    "plot(train_loss_history, val_loss_history, train_acc_history, val_acc_history)"
   ]
  },
  {
   "cell_type": "code",
   "execution_count": 74,
   "metadata": {
    "colab": {
     "base_uri": "https://localhost:8080/"
    },
    "id": "Yegse1KtNcHs",
    "outputId": "7be77a57-b123-4d22-fddf-d4e16bdb6cf3"
   },
   "outputs": [
    {
     "name": "stderr",
     "output_type": "stream",
     "text": [
      "/usr/local/lib/python3.6/dist-packages/ipykernel_launcher.py:31: UserWarning: Implicit dimension choice for softmax has been deprecated. Change the call to include dim=X as an argument.\n"
     ]
    },
    {
     "name": "stdout",
     "output_type": "stream",
     "text": [
      "Test Accuracy of the model on the 10000 test images: 99.29 %\n"
     ]
    }
   ],
   "source": [
    "# Test the model\n",
    "ytest = []\n",
    "rtest = np.ones((0,10))\n",
    "model.eval()  # eval mode (batchnorm uses moving mean/variance instead of mini-batch mean/variance)\n",
    "with torch.no_grad():\n",
    "    correct = 0\n",
    "    total = 0\n",
    "    for images, labels in test_loader:\n",
    "        ytest = np.append(ytest, labels)\n",
    "        images = images.to(device)\n",
    "        labels = labels.to(device)\n",
    "        outputs = model(images)\n",
    "        _, predicted = torch.max(outputs.data, 1)\n",
    "        total += labels.size(0)\n",
    "        correct += (predicted == labels).sum().item()\n",
    "        rtest = np.append(rtest, outputs.cpu(), axis=0)\n",
    "print('Test Accuracy of the model on the 10000 test images: {} %'.format(100 * correct / total))"
   ]
  },
  {
   "cell_type": "code",
   "execution_count": 75,
   "metadata": {
    "colab": {
     "base_uri": "https://localhost:8080/",
     "height": 314
    },
    "id": "f2On63xvNdkH",
    "outputId": "2123e363-3909-494f-eed0-2e3fbd116b9a"
   },
   "outputs": [
    {
     "name": "stdout",
     "output_type": "stream",
     "text": [
      "Confusion matrix, without normalization\n"
     ]
    },
    {
     "data": {
      "image/png": "[encoded data removed]",
      "text/plain": [
       "<Figure size 432x288 with 2 Axes>"
      ]
     },
     "metadata": {
      "needs_background": "light",
      "tags": []
     },
     "output_type": "display_data"
    }
   ],
   "source": [
    "cfm = confusion_matrix(np.argmax (rtest,axis=1), ytest)\n",
    "plot_confusion_matrix(cfm, classes=range(10), \n",
    "                      title='Confusion matrix for MNIST')"
   ]
  },
  {
   "cell_type": "code",
   "execution_count": null,
   "metadata": {
    "id": "8VKfJzwENfN8"
   },
   "outputs": [],
   "source": [
    "# Save the model checkpoint\n",
    "torch.save(model.state_dict(), 'model.ckpt')"
   ]
  },
  {
   "cell_type": "code",
   "execution_count": null,
   "metadata": {
    "id": "ZxzaobXLWibF"
   },
   "outputs": [],
   "source": []
  }
 ],
 "metadata": {
  "accelerator": "GPU",
  "colab": {
   "collapsed_sections": [],
   "name": "labpytorch4.ipynb",
   "provenance": []
  },
  "kernelspec": {
   "display_name": "Python 3",
   "language": "python",
   "name": "python3"
  },
  "language_info": {
   "codemirror_mode": {
    "name": "ipython",
    "version": 3
   },
   "file_extension": ".py",
   "mimetype": "text/x-python",
   "name": "python",
   "nbconvert_exporter": "python",
   "pygments_lexer": "ipython3",
   "version": "3.8.3"
  }
 },
 "nbformat": 4,
 "nbformat_minor": 4
}
